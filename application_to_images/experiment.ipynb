{
 "cells": [
  {
   "cell_type": "code",
   "execution_count": 1,
   "source": [
    "import torch\n",
    "from torchvision import datasets, transforms\n",
    "import numpy as np\n",
    "import attacks\n",
    "import blackbox\n",
    "import pandas as pd\n",
    "# import utils\n",
    "from tqdm.notebook import trange\n",
    "torch.manual_seed(0)\n",
    "import torch.nn as nn\n",
    "import warnings\n",
    "warnings.simplefilter(action='ignore', category=FutureWarning)\n",
    "from sklearn.metrics import confusion_matrix\n",
    "\n",
    "# dataloaders, dataset_sizes = utils.task_loader('online')\n",
    "\n",
    "device = torch.device(\"cuda:0\" if torch.cuda.is_available() else \"cpu\") # \n",
    "device"
   ],
   "outputs": [
    {
     "output_type": "execute_result",
     "data": {
      "text/plain": [
       "device(type='cuda', index=0)"
      ]
     },
     "metadata": {},
     "execution_count": 1
    }
   ],
   "metadata": {}
  },
  {
   "cell_type": "code",
   "execution_count": 3,
   "source": [
    "mnist_train = datasets.MNIST(\"../data\", train=True, download=True, transform=transforms.ToTensor() )\n",
    "# create_task(mnist_train,target,[0.5,0.5], 'train')\n",
    "\n",
    "mnist_val = datasets.MNIST(\"../data\", train=False, download=True, transform=transforms.ToTensor() )\n",
    "# create_task(mnist_val,target,[0.5,0.5], 'val')"
   ],
   "outputs": [],
   "metadata": {}
  },
  {
   "cell_type": "code",
   "execution_count": null,
   "source": [],
   "outputs": [],
   "metadata": {}
  },
  {
   "cell_type": "code",
   "execution_count": 27,
   "source": [
    "from tqdm.notebook import tqdm\n",
    "from torch.utils.data import DataLoader, TensorDataset\n",
    "\n",
    "class DataStream:\n",
    "\n",
    "    def __init__(self, ):\n",
    "        self.R = {}\n",
    "        self.Sa = []\n",
    "\n",
    "        \n",
    "    def random_stream(self, data, model, outcome_distribution ):\n",
    "\n",
    "        stream = []\n",
    "        label = []\n",
    "        outcomes = []\n",
    "        for i in tqdm( range( len(data) ) ): #\n",
    "            outcome = np.random.choice( [1, 0], p=outcome_distribution)\n",
    "            X,y = data[i]\n",
    "            X = X.reshape( (1,1,28,28) ).to(device)\n",
    "            y = torch.Tensor([ y ]).type(torch.LongTensor).to(device)\n",
    "            if outcome==1:\n",
    "                delta = attacks.pgd_linf(model, X , y).to(device)\n",
    "                X = X + delta\n",
    "            stream.append(  X[0] )\n",
    "            label.append(y)\n",
    "            outcomes.append([outcome])\n",
    "        stream = torch.stack(stream)\n",
    "        label = torch.stack(label)\n",
    "        status = torch.Tensor(outcome)\n",
    "        \n",
    "        dataset = TensorDataset( stream, label, status )\n",
    "\n",
    "        return dataset\n",
    "\n",
    "    def virtual_plus(self, N, i, v_i, t = 25, k = 10, exhaust = True):\n",
    "\n",
    "        outcome = 0\n",
    "\n",
    "        if i <= t: # sampling phase\n",
    "            self.R[i] = v_i\n",
    "            self.R = {k: v for k, v in sorted(self.R.items(), key=lambda item: item[1])}\n",
    "            \n",
    "        else: # selection phase\n",
    "            last_value = list( self.R.values() )[-1]\n",
    "            last_key = list( self.R.keys() )[-1]\n",
    "            num_left_to_pick = k - len(self.Sa) \n",
    "            num_samples_left = N - i\n",
    "            if  num_samples_left <= num_left_to_pick and exhaust and num_left_to_pick > 0:\n",
    "                self.Sa.append(i)\n",
    "                outcome = 1\n",
    "\n",
    "            if v_i >= last_value and len(self.Sa) <= k:\n",
    "                del self.R[ last_key ]\n",
    "                self.R[i] = v_i\n",
    "                self.R = {k: v for k, v in sorted(self.R.items(), key=lambda item: item[1])}\n",
    "                self.Sa.append(i)\n",
    "                outcome = 1\n",
    "\n",
    "        return outcome\n",
    "\n",
    "        \n",
    "\n",
    "    def secretary_stream(self, data, model):\n",
    "\n",
    "        stream = []\n",
    "        label = []\n",
    "        outcomes = []\n",
    "\n",
    "        N = 100 #len(data)\n",
    "        for i in tqdm( range( N ) ): \n",
    "\n",
    "            X, y = data[i]\n",
    "            X = X.reshape( (1,1,28,28) ).to(device)\n",
    "            y = torch.Tensor([ y ]).type(torch.LongTensor).to(device)\n",
    "\n",
    "            delta = attacks.pgd_linf(model, X , y).to(device)\n",
    "            X_prime = X + delta\n",
    "            v_i = nn.CrossEntropyLoss()( model(X_prime) ,y)\n",
    "\n",
    "            outcome = self.virtual_plus(N, i, v_i)\n",
    "\n",
    "            stream.append(  X[0] )\n",
    "            label.append(y)\n",
    "            outcomes.append([outcome])\n",
    "\n",
    "        stream = torch.stack(stream)\n",
    "        label = torch.stack(label)\n",
    "        status = torch.Tensor(outcomes)\n",
    "        \n",
    "        dataset = TensorDataset( stream, label, status )\n",
    "\n",
    "        return dataset\n",
    "\n",
    "\n",
    "\n",
    "blackbox_model = blackbox.load()\n",
    "mnist_val = datasets.MNIST(\"../data\", train=False, download=True, transform=transforms.ToTensor() )\n",
    "datastream = DataStream()\n",
    "# random_stream = datastream.random_stream( mnist_val, blackbox_model, [0.5,0.5] )\n",
    "sec_stream = datastream.secretary_stream( mnist_val, blackbox_model  )"
   ],
   "outputs": [
    {
     "output_type": "display_data",
     "data": {
      "application/vnd.jupyter.widget-view+json": {
       "version_major": 2,
       "version_minor": 0,
       "model_id": "5ff5e1f543f749edb643c4759408f08d"
      },
      "text/plain": [
       "  0%|          | 0/100 [00:00<?, ?it/s]"
      ]
     },
     "metadata": {}
    }
   ],
   "metadata": {}
  },
  {
   "cell_type": "code",
   "execution_count": 28,
   "source": [
    "k = 0\n",
    "for batch, data in enumerate(sec_stream):\n",
    "    \n",
    "    X,label,outcome = data\n",
    "    k += outcome\n",
    "\n",
    "k"
   ],
   "outputs": [
    {
     "output_type": "execute_result",
     "data": {
      "text/plain": [
       "tensor([10.])"
      ]
     },
     "metadata": {},
     "execution_count": 28
    }
   ],
   "metadata": {}
  }
 ],
 "metadata": {
  "orig_nbformat": 4,
  "language_info": {
   "name": "python",
   "version": "3.9.7",
   "mimetype": "text/x-python",
   "codemirror_mode": {
    "name": "ipython",
    "version": 3
   },
   "pygments_lexer": "ipython3",
   "nbconvert_exporter": "python",
   "file_extension": ".py"
  },
  "kernelspec": {
   "name": "python3",
   "display_name": "Python 3.9.7 64-bit ('climate-ai': conda)"
  },
  "interpreter": {
   "hash": "0215ed8d73c40df5de54d647d65b604dcf02460a7de2b27ed9878602c67cf72c"
  }
 },
 "nbformat": 4,
 "nbformat_minor": 2
}