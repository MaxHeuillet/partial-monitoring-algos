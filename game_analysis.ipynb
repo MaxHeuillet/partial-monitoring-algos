{
 "cells": [
  {
   "cell_type": "markdown",
   "source": [
    "# Label Efficient game:"
   ],
   "metadata": {}
  },
  {
   "cell_type": "code",
   "execution_count": 1,
   "source": [
    "import geometry_v5\n",
    "import games\n",
    "import numpy as np\n",
    "import geometry\n",
    "outcome_distribution =  {'spam':0.05,'ham':0.95}\n",
    "game = games.label_efficient(outcome_distribution)\n",
    "FeedbackMatrix = np.array(  [ [1, 1/2], [1/4, 1/4], [1/4, 1/4] ] )\n",
    "LossMatrix =  np.array( [ [1, 1],[1, 0],[0, 1] ] )\n",
    "\n",
    "print('global observability:', geometry.GlobalObservableGame(game) )\n",
    "print()\n",
    "print('local observability', geometry.LocalObservableGame(game) )\n",
    "print()\n",
    "\n",
    "p = np.array([0.05,0.95])\n",
    "\n",
    "for i in range(3):\n",
    "    print('action',i,'expected loss', LossMatrix[i,...].T @ p, 'pareto?', geometry_v5.isParetoOptimal(i, LossMatrix),  )\n",
    "print()\n",
    "for pair in  [ [1,2], [2,1]  ]:\n",
    "    a,b = pair\n",
    "    print('pair', pair, 'neighbors?', geometry_v5.areNeighbours(a, b, LossMatrix), ' -> neighbohood', geometry_v5.neighborhood(a,b, LossMatrix), 'observable?',\n",
    "     geometry.ObservablePair(a, b, LossMatrix, [geometry.signal_vecs(i, game.FeedbackMatrix) for i in geometry.Neighbourhood(a, b, LossMatrix)]),\n",
    "     'delta', (LossMatrix[a,...] - LossMatrix[b,...]).T @ p )"
   ],
   "outputs": [
    {
     "output_type": "stream",
     "name": "stdout",
     "text": [
      "global observability: (True, 'all pairs are globally observable.')\n",
      "\n",
      "local observability (False, '[2,1] pair is not locally observable.')\n",
      "\n",
      "action 0 expected loss 1.0 pareto? False\n",
      "action 1 expected loss 0.05 pareto? True\n",
      "action 2 expected loss 0.95 pareto? True\n",
      "\n",
      "pair [1, 2] neighbors? True  -> neighbohood [1, 2] observable? False delta -0.8999999999999999\n",
      "pair [2, 1] neighbors? True  -> neighbohood [1, 2] observable? False delta 0.9\n"
     ]
    }
   ],
   "metadata": {}
  },
  {
   "cell_type": "markdown",
   "source": [
    "# Apple Tasting game:"
   ],
   "metadata": {}
  },
  {
   "cell_type": "code",
   "execution_count": 2,
   "source": [
    "import geometry_v5\n",
    "import games\n",
    "import numpy as np\n",
    "import geometry\n",
    "import geometry_v3\n",
    "outcome_distribution =  {'spam':0.05,'ham':0.95}\n",
    "game = games.apple_tasting(False,outcome_distribution)\n",
    "LossMatrix = np.array( [ [1, 0], [0, 1] ] )\n",
    "FeedbackMatrix =  np.array([ [1, 1],[1, 0] ])\n",
    "\n",
    "print('global observability:', geometry.GlobalObservableGame(game) )\n",
    "print()\n",
    "print('local observability', geometry.LocalObservableGame(game) )\n",
    "print()\n",
    "\n",
    "p = np.array([0.05,0.95])\n",
    "\n",
    "for i in range(2):\n",
    "    print('action',i,'expected loss', LossMatrix[i,...].T @ p, 'pareto?', geometry_v5.isParetoOptimal(i, LossMatrix),  )\n",
    "print()\n",
    "for pair in  [ [0,1], [1,0]  ]:\n",
    "    a,b = pair\n",
    "    print('pair', pair, 'neighbors?', geometry_v5.areNeighbours(a, b, LossMatrix), ' -> neighbohood', geometry_v5.neighborhood(a,b, LossMatrix), 'observable?',\n",
    "     geometry.ObservablePair(a, b, LossMatrix, [geometry.signal_vecs(i, game.FeedbackMatrix) for i in geometry.Neighbourhood(a, b, LossMatrix)]),\n",
    "     'delta', (LossMatrix[a,...] - LossMatrix[b,...]).T @ p )\n",
    "\n",
    "geometry_v3.getV(LossMatrix, game.N, game.M, FeedbackMatrix, game.SignalMatrices, game.mathcal_N, game.V)"
   ],
   "outputs": [
    {
     "output_type": "stream",
     "name": "stdout",
     "text": [
      "global observability: (True, 'all pairs are globally observable.')\n",
      "\n",
      "local observability (True, 'all neighbouring pairs are observable.')\n",
      "\n",
      "action 0 expected loss 0.05 pareto? True\n",
      "action 1 expected loss 0.9500000000000001 pareto? True\n",
      "\n",
      "pair [0, 1] neighbors? True  -> neighbohood [0, 1] observable? True delta -0.9\n",
      "pair [1, 0] neighbors? True  -> neighbohood [0, 1] observable? True delta 0.9000000000000001\n",
      "Restricted license - for non-production use only - expires 2023-10-25\n"
     ]
    },
    {
     "output_type": "execute_result",
     "data": {
      "text/plain": [
       "defaultdict(dict,\n",
       "            {0: {1: [array([-1.1102198e-16]), array([-1.,  1.])]},\n",
       "             1: {0: [array([2.22044383e-22]), array([ 1., -1.])]}})"
      ]
     },
     "metadata": {},
     "execution_count": 2
    }
   ],
   "metadata": {}
  },
  {
   "cell_type": "markdown",
   "source": [
    "# Dynamic Pricing"
   ],
   "metadata": {}
  },
  {
   "cell_type": "code",
   "execution_count": 12,
   "source": [
    "import geometry_v5\n",
    "import geometry\n",
    "import numpy as np\n",
    "\n",
    "c = 2\n",
    "LossMatrix = np.array( [ [0,1,2,3,4], [c,0,1,2,3],[c,c,0,1,2],[c,c,c,0,1],[c,c,c,c,0] ] )\n",
    "FeedbackMatrix = np.array( [ [2,2,2,2,2], [1,2,2,2,2],[1,1,2,2,2],[1,1,1,2,2],[1,1,1,1,2] ] )\n",
    "\n",
    "SignalMatrices = [  np.array( [ [0,0,0,0,0],[1,1,1,1,1] ] ), \n",
    "                    np.array( [ [1,0,0,0,0],[0,1,1,1,1] ] ), \n",
    "                    np.array( [ [1,1,0,0,0],[0,0,1,1,1] ] ),\n",
    "                    np.array( [ [1,1,1,0,0],[0,0,0,1,1] ] ),\n",
    "                    np.array( [ [1,1,1,1,0],[0,0,0,0,1] ] ) ] \n",
    "\n",
    "p = np.array([0.2,0.2,0.2,0.2,0.2])\n",
    "\n",
    "for i in range(len(LossMatrix)):\n",
    "    print('action',i,'expected loss', LossMatrix[i,...].T @ p, 'pareto?', geometry_v5.isParetoOptimal(i, LossMatrix),  )\n",
    "print()\n",
    "\n",
    "from itertools import combinations\n",
    "liste = list(combinations([0,1,2,3,4], 2))\n",
    "\n",
    "for pair in liste:\n",
    "    print(pair)\n",
    "    a,b = pair\n",
    "    print('pair', pair, 'neighbors?', geometry_v5.areNeighbours(a, b, LossMatrix), ' -> neighbohood', geometry_v5.neighborhood(a,b, LossMatrix), 'observable?',\n",
    "     geometry.ObservablePair(a, b, LossMatrix, [geometry.signal_vecs(i, FeedbackMatrix) for i in geometry.Neighbourhood(a, b, LossMatrix)]),\n",
    "     'delta', (LossMatrix[a,...] - LossMatrix[b,...]).T @ p )\n"
   ],
   "outputs": [
    {
     "output_type": "stream",
     "name": "stdout",
     "text": [
      "action 0 expected loss 2.0000000000000004 pareto? True\n",
      "action 1 expected loss 1.6000000000000003 pareto? True\n",
      "action 2 expected loss 1.4000000000000004 pareto? True\n",
      "action 3 expected loss 1.4000000000000004 pareto? True\n",
      "action 4 expected loss 1.6 pareto? True\n",
      "\n",
      "(0, 1)\n",
      "pair (0, 1) neighbors? True  -> neighbohood [0, 1] observable? True delta 0.4\n",
      "(0, 2)\n",
      "pair (0, 2) neighbors? True  -> neighbohood [0, 2] observable? False delta 0.6000000000000001\n",
      "(0, 3)\n",
      "pair (0, 3) neighbors? True  -> neighbohood [0, 3] observable? False delta 0.6000000000000001\n",
      "(0, 4)\n",
      "pair (0, 4) neighbors? True  -> neighbohood [0, 4] observable? False delta 0.4\n",
      "(1, 2)\n",
      "pair (1, 2) neighbors? True  -> neighbohood [1, 2] observable? True delta 0.2\n",
      "(1, 3)\n",
      "pair (1, 3) neighbors? True  -> neighbohood [1, 3] observable? False delta 0.2\n",
      "(1, 4)\n",
      "pair (1, 4) neighbors? True  -> neighbohood [1, 4] observable? False delta 5.551115123125783e-17\n",
      "(2, 3)\n",
      "pair (2, 3) neighbors? True  -> neighbohood [2, 3] observable? True delta 0.0\n",
      "(2, 4)\n",
      "pair (2, 4) neighbors? True  -> neighbohood [2, 4] observable? False delta -0.19999999999999996\n",
      "(3, 4)\n",
      "pair (3, 4) neighbors? True  -> neighbohood [3, 4] observable? True delta -0.2\n"
     ]
    }
   ],
   "metadata": {}
  },
  {
   "cell_type": "code",
   "execution_count": 38,
   "source": [
    "\n",
    "### check the set of feasible actions given generation of random probabilities:\n",
    "\n",
    "a = 0.51\n",
    "LossMatrix = np.array([ [a, a],[1,0],[0,1] ])\n",
    "\n",
    "possible_actions = set()\n",
    "i = 0 \n",
    "while i < 10000:\n",
    "\n",
    "    p = np.random.uniform(0,1,2)\n",
    "    p = p / p.sum()\n",
    "    min = np.argmin(LossMatrix @ p)\n",
    "    possible_actions.add(min)\n",
    "    i +=1\n",
    "\n",
    "print(possible_actions)"
   ],
   "outputs": [
    {
     "output_type": "stream",
     "name": "stdout",
     "text": [
      "{1, 2}\n"
     ]
    }
   ],
   "metadata": {}
  },
  {
   "cell_type": "code",
   "execution_count": 37,
   "source": [
    "import numpy as np \n",
    "c = 2\n",
    "LossMatrix = np.array( [ [0,1,2,3,4], [c,0,1,2,3],[c,c,0,1,2],[c,c,c,0,1],[c,c,c,c,0] ] )\n",
    "a = 4\n",
    "\n",
    "i = 0 \n",
    "possible = 0\n",
    "while i < 1000:\n",
    "\n",
    "    cell = LossMatrix[a,...] - LossMatrix\n",
    "    p = np.random.uniform(0,1,5)\n",
    "    p = p / p.sum()\n",
    "\n",
    "    res = cell @ p\n",
    "    if (res <= 0).all():\n",
    "        possible += 1\n",
    "    i +=1\n",
    "\n",
    "print(possible)"
   ],
   "outputs": [
    {
     "output_type": "stream",
     "name": "stdout",
     "text": [
      "152\n"
     ]
    }
   ],
   "metadata": {}
  },
  {
   "cell_type": "code",
   "execution_count": 42,
   "source": [
    "import geometry_v5\n",
    "for pair in [ [0,1], [0,2], [0,3], [0,4], [1] ]:\n",
    "    areNeighbours"
   ],
   "outputs": [
    {
     "output_type": "execute_result",
     "data": {
      "text/plain": [
       "False"
      ]
     },
     "metadata": {},
     "execution_count": 42
    }
   ],
   "metadata": {}
  }
 ],
 "metadata": {
  "orig_nbformat": 4,
  "language_info": {
   "name": "python",
   "version": "3.9.7",
   "mimetype": "text/x-python",
   "codemirror_mode": {
    "name": "ipython",
    "version": 3
   },
   "pygments_lexer": "ipython3",
   "nbconvert_exporter": "python",
   "file_extension": ".py"
  },
  "kernelspec": {
   "name": "python3",
   "display_name": "Python 3.9.7 64-bit ('climate-ai': conda)"
  },
  "interpreter": {
   "hash": "0215ed8d73c40df5de54d647d65b604dcf02460a7de2b27ed9878602c67cf72c"
  }
 },
 "nbformat": 4,
 "nbformat_minor": 2
}