{
 "cells": [
  {
   "cell_type": "code",
   "execution_count": 89,
   "source": [
    "import numpy as np\n",
    "from multiprocessing import Pool\n",
    "from functools import partial\n",
    "import plotly.graph_objects as go\n",
    "import gzip\n",
    "import pickle as pkl\n",
    "\n",
    "import games\n",
    "import synthetic_data\n",
    "import random_algo\n",
    "\n",
    "\n",
    "import cpb_side\n",
    "import cpb_side_gaussian\n",
    "import linucb\n",
    "\n",
    "\n",
    "import PGIDSratio\n",
    "import synthetic_data\n",
    "import numpy as np\n",
    "from torchvision import datasets, transforms\n",
    "\n",
    "import matplotlib.pyplot as plt\n",
    "\n",
    "\n",
    "class FakeIds():\n",
    "\n",
    "    def __init__(self, M, imbalance):\n",
    "\n",
    "        self.imbalance = imbalance\n",
    "        self.M = M\n",
    "        self.dim = len(imbalance)\n",
    "        self.labels = [i for i in range(self.dim)]\n",
    "        \n",
    "        \n",
    "    def get_contexts(self, horizon, game):\n",
    "\n",
    "        contexts = np.empty( ( horizon, 10) )\n",
    "        outcomes = np.zeros( horizon, dtype = int)\n",
    "\n",
    "        for i in range(horizon):\n",
    "\n",
    "            label = np.random.choice( self.labels , p = self.imbalance)\n",
    "\n",
    "            contexts[i] = np.zeros(10)\n",
    "            pred_label = np.random.choice(  self.labels , p = self.M[label] )\n",
    "            contexts[i][pred_label] = 1\n",
    "            \n",
    "            if pred_label != label:\n",
    "                outcomes[i] = 1\n",
    "            else:\n",
    "                outcomes[i] = 0\n",
    "                \n",
    "        return outcomes, contexts\n",
    "\n",
    "    def get_context(self, ):\n",
    "        label = np.random.choice( self.labels , p = self.imbalance)\n",
    "\n",
    "        context = np.zeros(self.dim)\n",
    "        pred_label = np.random.choice(  self.labels , p = self.M[label] )\n",
    "        context[pred_label] = 1\n",
    "            \n",
    "        if pred_label != label:\n",
    "            outcome = 0\n",
    "        else:\n",
    "            outcome = 1\n",
    "                \n",
    "        return outcome, context\n",
    "\n",
    "class Evaluation:\n",
    "\n",
    "    def __init__(self, ground_truth, n_labels, deltas , optim_action, verification_budget):\n",
    "        self.ground_truth = ground_truth\n",
    "        self.n_labels = n_labels\n",
    "        self.deltas = deltas\n",
    "        self.optim_action = optim_action\n",
    "        self.verification_budget = verification_budget\n",
    "\n",
    "    def get_feedback(self, game, action, outcome):\n",
    "        return game.FeedbackMatrix[ action ][ outcome ]\n",
    "\n",
    "    def eval_policy_once(self, alg, game, exp_gen,):\n",
    "    \n",
    "        alg.reset()\n",
    "\n",
    "        t = 0\n",
    "        latest_estimate = np.ones(len(self.ground_truth)) * 1000\n",
    "        # print('ground truth', self.ground_truth )\n",
    " \n",
    "        n_verifs = {}\n",
    "        for i in range(self.n_labels):\n",
    "            n_verifs[i] = 0\n",
    "\n",
    "        cumRegret =  []\n",
    "        # action_counter = np.zeros( (game.n_actions, self.horizon) )\n",
    "\n",
    "        outcomes = [ exp_gen[_][0] for _ in range(len(exp_gen)) ]\n",
    "        contexts =  [ exp_gen[_][1] for _ in range(len(exp_gen)) ]\n",
    "\n",
    "        while self.verification_budget >= 0:\n",
    "            \n",
    "            outcome, context = outcomes[t], contexts[t]#context_generator.get_context() \n",
    "            lb =  np.argmax(context)\n",
    "            context = context.reshape((-1,1))\n",
    "\n",
    "            if t % 5000 == 0 and t>0 :\n",
    "                print(t, 'latest estimate', latest_estimate)\n",
    "                print('n verifs', n_verifs)\n",
    "\n",
    "            # if alg.name == 'random':\n",
    "            #     # print(alg.weights)\n",
    "            #     latest_estimate = alg.weights[:,1]\n",
    "            #     print(latest_estimate)\n",
    "   \n",
    "\n",
    "            # policy chooses one action\n",
    "            #print('t', t,  'outcome', outcome, 'context', context)\n",
    "            action = alg.get_action(t, context)\n",
    "\n",
    "            # print('t', t, 'action', action, 'outcome', outcome, )\n",
    "            feedback =  self.get_feedback( game, action, outcome )\n",
    "\n",
    "            alg.update(action, feedback, outcome, t, context )\n",
    "            \n",
    "            #distrib = np.array( [ ground_truth[lb], 1 - ground_truth[lb] ] )\n",
    "            # regret =  game.LossMatrix[action, ] - game.LossMatrix[i_star, ] #) @ distrib\n",
    "\n",
    "            regret = self.deltas[lb][action] - self.deltas[lb][ optim_action[lb] ] \n",
    "            # print(regret)\n",
    "            cumRegret.append( regret )\n",
    "            t = t+1\n",
    "            if action == 1:\n",
    "                n_verifs[lb] = n_verifs[lb]  + 1\n",
    "                self.verification_budget -= 1\n",
    "\n",
    "        if alg.name == 'randcbpside':\n",
    "            estimates = []\n",
    "            for i in range( self.n_labels ):\n",
    "                sim = np.zeros( self.n_labels )\n",
    "                sim[i] = 1\n",
    "                estimate = alg.contexts[1]['weights'] @ sim\n",
    "                estimates.append( estimate[1] )\n",
    "            latest_estimate = estimates\n",
    "\n",
    "        elif alg.name == 'random':\n",
    "            latest_estimate = alg.weights[:,1]\n",
    "            \n",
    "\n",
    "        erreur = abs( self.ground_truth - latest_estimate  )\n",
    "\n",
    "        return  cumRegret, erreur\n",
    "\n",
    "class Random():\n",
    "\n",
    "    def __init__(self, game, n_labels):\n",
    "\n",
    "        self.name = 'random'\n",
    "\n",
    "        self.n_labels = n_labels\n",
    "        self.game = game\n",
    "\n",
    "        self.weights = np.ones( (self.n_labels,2) )\n",
    "        self.feedbacks = np.zeros( (self.n_labels,2) )\n",
    "        self.N = np.zeros( self.n_labels )\n",
    "\n",
    "    def get_action(self, t, context = None ):\n",
    "        \n",
    "        pbt = np.ones( self.game.n_actions ) / self.game.n_actions\n",
    "        action = np.random.choice(self.game.n_actions, 1,  p = pbt )[0]\n",
    "        return action\n",
    "\n",
    "    def update(self, action, feedback, outcome, t, context):\n",
    "        if action == 1:\n",
    "            idx = np.argmax(context)\n",
    "            self.feedbacks[idx][feedback] += 1\n",
    "            self.N[idx] += 1\n",
    "            estimates = [ self.feedbacks[i] / self.N[i] if self.N[i] !=0 else np.zeros( (1,2) ) for i in range(len(self.N) ) ] \n",
    "            self.weights = np.vstack(estimates)\n",
    "\n",
    "    def reset(self,):\n",
    "        self.weights = np.ones( (self.n_labels,2) )\n",
    "        self.feedbacks = np.zeros( (self.n_labels,2) )\n",
    "        self.N = np.zeros( self.n_labels )\n",
    "\n",
    "\n",
    "def confusion_matrix(M, errors, n_labels):\n",
    "\n",
    "    for i in range(n_labels):\n",
    "\n",
    "        M[i][i] -= errors[i]\n",
    "        n_splits = np.random.randint(1, n_labels-1) \n",
    "\n",
    "        coefs = np.random.uniform(0, 1, n_splits)\n",
    "        coefs = coefs / sum(coefs)\n",
    "\n",
    "        for idx in range(n_splits):\n",
    "\n",
    "            status = True\n",
    "            while status == True:\n",
    "                location = np.random.randint(0, n_labels)\n",
    "                if location != i:\n",
    "                    status = False\n",
    "\n",
    "            M[i][location] += coefs[idx] *  errors[i]\n",
    "\n",
    "    return M\n",
    "\n",
    "def truncate(value):\n",
    "    if value<-1 or value>1:\n",
    "        status = False\n",
    "        while status == False:\n",
    "            value = abs( np.random.normal(0, 0.1 ) )\n",
    "            if value <1:\n",
    "                status = True\n",
    "    return value\n",
    "\n",
    "def get_ground_truth(M, imbalance):\n",
    "    # correct probabilities\n",
    "    probas_correct = np.diag(M) * imbalance\n",
    "\n",
    "    # correct probabilities\n",
    "    probas_incorrect = M.copy()\n",
    "    np.fill_diagonal( probas_incorrect, 0 ) \n",
    "    probas_incorrect = np.sum( probas_incorrect.T * imbalance, 1)\n",
    "\n",
    "    # final probabilites\n",
    "    final_probas = probas_incorrect / (  probas_correct + probas_incorrect )\n",
    "    return final_probas\n",
    "\n",
    "\n",
    "# self.LossMatrix[action,...] - self.LossMatrix[self.i_star,...] ).T @ list( self.outcome_dist.values()\n",
    "\n",
    "def optimal_action(game, ground_truth):\n",
    "        deltas = {}\n",
    "        optim_action = {}\n",
    "\n",
    "        for lb in range( len(ground_truth) ):\n",
    "\n",
    "            distribution = [ ground_truth[lb],  1 - ground_truth[lb] ]\n",
    "            delts = []\n",
    "            for i in range(len(game.LossMatrix)):\n",
    "                delts.append( game.LossMatrix[i,...].T @ distribution  )\n",
    "            deltas[lb] = delts\n",
    "            optim_action[lb] = np.argmin(deltas[lb])\n",
    "\n",
    "        return deltas , optim_action"
   ],
   "outputs": [],
   "metadata": {}
  },
  {
   "cell_type": "code",
   "execution_count": 115,
   "source": [
    "\n",
    "n_trials = 51\n",
    "budgets = [10, 30, 50, 70, 90, 100,  120,  140,  160,  180,  200, 400, 600, 800, 1000]\n",
    "history={}\n",
    "\n",
    "for verification_budget in budgets: #\n",
    "    regrets1 = []\n",
    "    regrets2 = []\n",
    "    erreurs1 = []\n",
    "    erreurs2 = []\n",
    "\n",
    "    game = games.apple_tasting(False)\n",
    "\n",
    "    for trial in range(n_trials):\n",
    "        np.random.seed(trial)\n",
    "\n",
    "        if trial % 50 == 0 and trial>0 :\n",
    "                print('budget', verification_budget, 'trial no' ,trial)\n",
    "\n",
    "        n_labels = 100 # np.random.randint(3, 30)\n",
    "        imbalance = np.array( [ np.random.uniform(50, 75) if np.random.uniform(0,1)<0.1 else np.random.uniform(0,25) for _ in range(n_labels) ] )\n",
    "        imbalance = imbalance / sum(imbalance)\n",
    "\n",
    "        M = np.identity(n_labels)\n",
    "        errors = np.array( [ truncate( abs( np.random.normal(0.5, 0.5 ) ) ) if np.random.uniform(0,1)<0.1 else truncate( abs( np.random.normal(0, 0.2 ) ) ) for _ in range(n_labels) ] )\n",
    "        errors = np.round(errors,2)\n",
    "        M = confusion_matrix(M, errors, n_labels)\n",
    "        \n",
    "        ground_truth = get_ground_truth(M, imbalance)\n",
    "        # print('ground truth', ground_truth)\n",
    "\n",
    "\n",
    "        deltas , optim_action = optimal_action(game, ground_truth)\n",
    "        \n",
    "        contexts_generator = FakeIds(M, imbalance )\n",
    "\n",
    "        exp_gen = [ contexts_generator.get_context() for _ in range(10 * verification_budget) ]\n",
    "\n",
    "        task = Evaluation(ground_truth, n_labels, deltas , optim_action, verification_budget ) \n",
    "        alg = cpb_side_gaussian.RandCPB_side(game, n_labels, None, 1.01, 0.0001, 1/8, 10, False, 10e-7)  \n",
    "        regret1, erreur1  = task.eval_policy_once(alg, game, exp_gen)\n",
    "        regrets1.append(regret1)\n",
    "        erreurs1.append(erreur1)\n",
    "        \n",
    "        task = Evaluation(ground_truth, n_labels, deltas , optim_action, verification_budget ) \n",
    "        alg = Random(  game, n_labels )\n",
    "        regret2, erreur2 = task.eval_policy_once(alg, game, exp_gen)\n",
    "        regrets2.append(regret2)\n",
    "        erreurs2.append(erreur2)\n",
    "\n",
    "    history[verification_budget] = {'erreur_RandCBPside':erreurs1,'erreur_Random':erreurs2, 'regret_RandCBPside':regrets1, 'regret_Random':regrets2  }"
   ],
   "outputs": [
    {
     "output_type": "stream",
     "name": "stdout",
     "text": [
      "budget 10 trial no 50\n",
      "budget 30 trial no 50\n",
      "budget 50 trial no 50\n",
      "budget 70 trial no 50\n",
      "budget 90 trial no 50\n",
      "budget 100 trial no 50\n",
      "budget 120 trial no 50\n",
      "budget 140 trial no 50\n",
      "budget 160 trial no 50\n",
      "budget 180 trial no 50\n",
      "budget 200 trial no 50\n",
      "budget 400 trial no 50\n",
      "budget 600 trial no 50\n",
      "budget 800 trial no 50\n",
      "budget 1000 trial no 50\n"
     ]
    }
   ],
   "metadata": {}
  },
  {
   "cell_type": "code",
   "execution_count": 111,
   "source": [
    "plt.rcParams.update({'font.size': 13})"
   ],
   "outputs": [],
   "metadata": {}
  },
  {
   "cell_type": "code",
   "execution_count": 116,
   "source": [
    "\n",
    "\n",
    "regret_random = []\n",
    "regret_cbp = []\n",
    "\n",
    "error_random = []\n",
    "error_cbp = []\n",
    "\n",
    "for verification_budget in budgets:\n",
    "    regrets1 = history[verification_budget]['regret_RandCBPside']\n",
    "    regrets2 = history[verification_budget]['regret_Random']\n",
    "\n",
    "    regret1 = [ np.cumsum(r)[-1] for r in regrets1 ]\n",
    "    regret2 = [ np.cumsum(r)[-1] for r in regrets2 ]\n",
    "\n",
    "    regret_cbp.append(  np.mean(regret1 ) )\n",
    "    regret_random.append(  np.mean( regret2 ) )\n",
    "\n",
    "    error_cbp.append(  np.std(regret1 ) )\n",
    "    error_random.append(  np.std( regret2 ) )\n",
    "\n",
    "plt.errorbar(budgets, regret_random, error_random, linestyle='None', marker='o', label = 'Random')\n",
    "plt.errorbar(budgets, regret_cbp, error_cbp, linestyle='None', marker='o', label = 'RandCBPside')\n",
    "\n",
    "plt.legend()\n",
    "plt.title('Evolution of Cum. Regret (100 labels)')\n",
    "\n",
    "plt.xlabel('Budget Allowed')\n",
    "plt.ylabel('Average Cum. Regret')\n",
    "\n",
    "\n",
    "\n",
    "plt.savefig('./regret_100.png')"
   ],
   "outputs": [
    {
     "output_type": "display_data",
     "data": {
      "image/png": "[encoded data removed]",
      "text/plain": [
       "<Figure size 432x288 with 1 Axes>"
      ]
     },
     "metadata": {
      "needs_background": "light"
     }
    }
   ],
   "metadata": {}
  },
  {
   "cell_type": "code",
   "execution_count": 117,
   "source": [
    "MAE_random = []\n",
    "MAE_cbp = []\n",
    "\n",
    "error_random = []\n",
    "error_cbp = []\n",
    "\n",
    "for verification_budget in budgets:\n",
    "    erreurs1 = history[verification_budget]['erreur_RandCBPside']\n",
    "    erreurs2 = history[verification_budget]['erreur_Random']\n",
    "    MAE1 = [ sum(err) / len(err) for err in erreurs1 ]\n",
    "    MAE2 = [ sum(err) / len(err) for err in erreurs2 ]\n",
    "    MAE_cbp.append(  np.mean(MAE1) )\n",
    "    MAE_random.append(  np.mean(MAE2) )\n",
    "    \n",
    "    error_cbp.append(  np.std(MAE1 ) )\n",
    "    error_random.append(  np.std( MAE2 ) )\n",
    "\n",
    "plt.errorbar(budgets, MAE_random, error_random, linestyle='None', marker='o', label = 'Random')\n",
    "plt.errorbar(budgets, MAE_cbp, error_cbp, linestyle='None', marker='o', label = 'RandCBPside')\n",
    "plt.title('Evolution of MAE (100 labels)')\n",
    "plt.xlabel('Budget Allowed')\n",
    "plt.ylabel('Average MAE')\n",
    "plt.legend()\n",
    "plt.savefig('./MAE_100.png')"
   ],
   "outputs": [
    {
     "output_type": "display_data",
     "data": {
      "image/png": "[encoded data removed]",
      "text/plain": [
       "<Figure size 432x288 with 1 Axes>"
      ]
     },
     "metadata": {
      "needs_background": "light"
     }
    }
   ],
   "metadata": {}
  },
  {
   "cell_type": "code",
   "execution_count": 118,
   "source": [
    "MSE_random = []\n",
    "MSE_cbp = []\n",
    "\n",
    "error_random = []\n",
    "error_cbp = []\n",
    "\n",
    "for verification_budget in budgets:\n",
    "    erreurs1 = history[verification_budget]['erreur_RandCBPside']\n",
    "    erreurs2 = history[verification_budget]['erreur_Random']\n",
    "    MSE1 = [ sum( np.array(err)**2 ) / len(err) for err in erreurs1 ]\n",
    "    MSE2 = [ sum( np.array(err)**2 ) / len(err) for err in erreurs2 ]\n",
    "    MSE_cbp.append(  np.mean(MSE1) )\n",
    "    MSE_random.append(  np.mean(MSE2) )\n",
    "\n",
    "    error_cbp.append(  np.std(MSE1 ) )\n",
    "    error_random.append(  np.std( MSE2 ) )\n",
    "\n",
    "\n",
    "plt.errorbar(budgets, MAE_random, error_random, linestyle='None', marker='o', label = 'Random')\n",
    "plt.errorbar(budgets, MAE_cbp, error_cbp, linestyle='None', marker='o', label = 'RandCBPside')\n",
    "\n",
    "plt.title('Evolution of MSE (100 labels)')\n",
    "plt.xlabel('Budget Allowed')\n",
    "plt.ylabel('Average MSE')\n",
    "plt.legend()\n",
    "plt.savefig('./MSE_100.png')"
   ],
   "outputs": [
    {
     "output_type": "display_data",
     "data": {
      "image/png": "[encoded data removed]",
      "text/plain": [
       "<Figure size 432x288 with 1 Axes>"
      ]
     },
     "metadata": {
      "needs_background": "light"
     }
    }
   ],
   "metadata": {}
  },
  {
   "cell_type": "code",
   "execution_count": 20,
   "source": [
    "import pandas as pd\n",
    "\n",
    "\n",
    "\n",
    "\n",
    "\n",
    "df = np.vstack( [ np.array([0,1,2,3,4,5,6,7,8,9]),  np.round( final_probas , 2) ] ).T\n",
    "df = pd.DataFrame(df)\n",
    "df.columns = ['index', 'ground_truth'] \n",
    "\n",
    "for k in estimates_history.keys():\n",
    "    df[str(k)] = estimates_history[k]\n",
    "\n",
    "steps = round( (224 - 96) / len(estimates_history.keys() ) )\n",
    "greys = np.arange(224, 96, -steps)\n",
    "\n",
    "fig = go.Figure( )\n",
    "\n",
    "for i , k in enumerate( estimates_history.keys() ):\n",
    "    col = greys[i]\n",
    "    fig.add_trace(go.Scatter(x=df['index'], y=df[str(k)], line=dict(color='rgb({},{},{})'.format(col,col,col) ) ,mode='lines+markers',  name='{} rounds'.format(k),   showlegend=True ))\n",
    "\n",
    "fig.add_trace(go.Scatter(x=df['index'], y=df['ground_truth'], text = df['ground_truth'],  line=dict(color='rgb(255,0,0)' ), textfont=dict( family=\"sans serif\", size=18) ,mode='lines+markers+text',  name='Deployment Error (ground truth)',   showlegend=True ))\n",
    "\n",
    "fig.update_traces(textposition=\"top center\")\n",
    "\n",
    "fig.update_layout(yaxis_range=[-0.1,1])\n",
    "\n",
    "fig.show(legend=True)\n",
    "# fig.write_image(\"./estimates_imbalanced.png\")"
   ],
   "outputs": [
    {
     "output_type": "display_data",
     "data": {
      "application/vnd.plotly.v1+json": {
       "data": [
        {
         "line": {
          "color": "rgb(224,224,224)"
         },
         "mode": "lines+markers",
         "name": "10 rounds",
         "showlegend": true,
         "x": [
          0,
          1,
          2,
          3,
          4,
          5,
          6,
          7,
          8,
          9
         ],
         "y": [
          0,
          0,
          0,
          0,
          0,
          0,
          0,
          0,
          0,
          0
         ],
         "type": "scatter",
         "textposition": "top center"
        },
        {
         "line": {
          "color": "rgb(203,203,203)"
         },
         "mode": "lines+markers",
         "name": "100 rounds",
         "showlegend": true,
         "x": [
          0,
          1,
          2,
          3,
          4,
          5,
          6,
          7,
          8,
          9
         ],
         "y": [
          0.046296296296296294,
          0.018518518518518517,
          0.007812500000000002,
          0,
          0,
          0,
          0,
          0,
          0,
          0.009345794392523364
         ],
         "type": "scatter",
         "textposition": "top center"
        },
        {
         "line": {
          "color": "rgb(182,182,182)"
         },
         "mode": "lines+markers",
         "name": "200 rounds",
         "showlegend": true,
         "x": [
          0,
          1,
          2,
          3,
          4,
          5,
          6,
          7,
          8,
          9
         ],
         "y": [
          0.1,
          0.036036036036036036,
          0.006369426751592357,
          0,
          0,
          0,
          0.02459016393442623,
          0,
          0,
          0.01818181818181818
         ],
         "type": "scatter",
         "textposition": "top center"
        },
        {
         "line": {
          "color": "rgb(161,161,161)"
         },
         "mode": "lines+markers",
         "name": "1000 rounds",
         "showlegend": true,
         "x": [
          0,
          1,
          2,
          3,
          4,
          5,
          6,
          7,
          8,
          9
         ],
         "y": [
          0.2685714285714286,
          0.16463414634146342,
          0.015957446808510627,
          0,
          0,
          0,
          0.05607476635514018,
          0,
          0.025974025974025976,
          0.10062893081761007
         ],
         "type": "scatter",
         "textposition": "top center"
        },
        {
         "line": {
          "color": "rgb(140,140,140)"
         },
         "mode": "lines+markers",
         "name": "4000 rounds",
         "showlegend": true,
         "x": [
          0,
          1,
          2,
          3,
          4,
          5,
          6,
          7,
          8,
          9
         ],
         "y": [
          0.42670157068062803,
          0.23380281690140828,
          0.029523088569265745,
          0,
          0,
          0,
          0.08303249097472924,
          0,
          0.06688963210702338,
          0.21159420289855058
         ],
         "type": "scatter",
         "textposition": "top center"
        },
        {
         "line": {
          "color": "rgb(119,119,119)"
         },
         "mode": "lines+markers",
         "name": "8000 rounds",
         "showlegend": true,
         "x": [
          0,
          1,
          2,
          3,
          4,
          5,
          6,
          7,
          8,
          9
         ],
         "y": [
          0.47394957983193275,
          0.2775974025974026,
          0.03211198023878148,
          0,
          0,
          0,
          0.09726443768996967,
          0,
          0.10546875000000004,
          0.2647554806070826
         ],
         "type": "scatter",
         "textposition": "top center"
        },
        {
         "line": {
          "color": "rgb(255,0,0)"
         },
         "mode": "lines+markers+text",
         "name": "Deployment Error (ground truth)",
         "showlegend": true,
         "text": [
          0.59,
          0.31,
          0.04,
          0,
          0,
          0,
          0.11,
          0,
          0.15,
          0.34
         ],
         "textfont": {
          "family": "sans serif",
          "size": 18
         },
         "x": [
          0,
          1,
          2,
          3,
          4,
          5,
          6,
          7,
          8,
          9
         ],
         "y": [
          0.59,
          0.31,
          0.04,
          0,
          0,
          0,
          0.11,
          0,
          0.15,
          0.34
         ],
         "type": "scatter",
         "textposition": "top center"
        }
       ],
       "layout": {
        "template": {
         "data": {
          "bar": [
           {
            "error_x": {
             "color": "#2a3f5f"
            },
            "error_y": {
             "color": "#2a3f5f"
            },
            "marker": {
             "line": {
              "color": "#E5ECF6",
              "width": 0.5
             },
             "pattern": {
              "fillmode": "overlay",
              "size": 10,
              "solidity": 0.2
             }
            },
            "type": "bar"
           }
          ],
          "barpolar": [
           {
            "marker": {
             "line": {
              "color": "#E5ECF6",
              "width": 0.5
             },
             "pattern": {
              "fillmode": "overlay",
              "size": 10,
              "solidity": 0.2
             }
            },
            "type": "barpolar"
           }
          ],
          "carpet": [
           {
            "aaxis": {
             "endlinecolor": "#2a3f5f",
             "gridcolor": "white",
             "linecolor": "white",
             "minorgridcolor": "white",
             "startlinecolor": "#2a3f5f"
            },
            "baxis": {
             "endlinecolor": "#2a3f5f",
             "gridcolor": "white",
             "linecolor": "white",
             "minorgridcolor": "white",
             "startlinecolor": "#2a3f5f"
            },
            "type": "carpet"
           }
          ],
          "choropleth": [
           {
            "colorbar": {
             "outlinewidth": 0,
             "ticks": ""
            },
            "type": "choropleth"
           }
          ],
          "contour": [
           {
            "colorbar": {
             "outlinewidth": 0,
             "ticks": ""
            },
            "colorscale": [
             [
              0,
              "#0d0887"
             ],
             [
              0.1111111111111111,
              "#46039f"
             ],
             [
              0.2222222222222222,
              "#7201a8"
             ],
             [
              0.3333333333333333,
              "#9c179e"
             ],
             [
              0.4444444444444444,
              "#bd3786"
             ],
             [
              0.5555555555555556,
              "#d8576b"
             ],
             [
              0.6666666666666666,
              "#ed7953"
             ],
             [
              0.7777777777777778,
              "#fb9f3a"
             ],
             [
              0.8888888888888888,
              "#fdca26"
             ],
             [
              1,
              "#f0f921"
             ]
            ],
            "type": "contour"
           }
          ],
          "contourcarpet": [
           {
            "colorbar": {
             "outlinewidth": 0,
             "ticks": ""
            },
            "type": "contourcarpet"
           }
          ],
          "heatmap": [
           {
            "colorbar": {
             "outlinewidth": 0,
             "ticks": ""
            },
            "colorscale": [
             [
              0,
              "#0d0887"
             ],
             [
              0.1111111111111111,
              "#46039f"
             ],
             [
              0.2222222222222222,
              "#7201a8"
             ],
             [
              0.3333333333333333,
              "#9c179e"
             ],
             [
              0.4444444444444444,
              "#bd3786"
             ],
             [
              0.5555555555555556,
              "#d8576b"
             ],
             [
              0.6666666666666666,
              "#ed7953"
             ],
             [
              0.7777777777777778,
              "#fb9f3a"
             ],
             [
              0.8888888888888888,
              "#fdca26"
             ],
             [
              1,
              "#f0f921"
             ]
            ],
            "type": "heatmap"
           }
          ],
          "heatmapgl": [
           {
            "colorbar": {
             "outlinewidth": 0,
             "ticks": ""
            },
            "colorscale": [
             [
              0,
              "#0d0887"
             ],
             [
              0.1111111111111111,
              "#46039f"
             ],
             [
              0.2222222222222222,
              "#7201a8"
             ],
             [
              0.3333333333333333,
              "#9c179e"
             ],
             [
              0.4444444444444444,
              "#bd3786"
             ],
             [
              0.5555555555555556,
              "#d8576b"
             ],
             [
              0.6666666666666666,
              "#ed7953"
             ],
             [
              0.7777777777777778,
              "#fb9f3a"
             ],
             [
              0.8888888888888888,
              "#fdca26"
             ],
             [
              1,
              "#f0f921"
             ]
            ],
            "type": "heatmapgl"
           }
          ],
          "histogram": [
           {
            "marker": {
             "pattern": {
              "fillmode": "overlay",
              "size": 10,
              "solidity": 0.2
             }
            },
            "type": "histogram"
           }
          ],
          "histogram2d": [
           {
            "colorbar": {
             "outlinewidth": 0,
             "ticks": ""
            },
            "colorscale": [
             [
              0,
              "#0d0887"
             ],
             [
              0.1111111111111111,
              "#46039f"
             ],
             [
              0.2222222222222222,
              "#7201a8"
             ],
             [
              0.3333333333333333,
              "#9c179e"
             ],
             [
              0.4444444444444444,
              "#bd3786"
             ],
             [
              0.5555555555555556,
              "#d8576b"
             ],
             [
              0.6666666666666666,
              "#ed7953"
             ],
             [
              0.7777777777777778,
              "#fb9f3a"
             ],
             [
              0.8888888888888888,
              "#fdca26"
             ],
             [
              1,
              "#f0f921"
             ]
            ],
            "type": "histogram2d"
           }
          ],
          "histogram2dcontour": [
           {
            "colorbar": {
             "outlinewidth": 0,
             "ticks": ""
            },
            "colorscale": [
             [
              0,
              "#0d0887"
             ],
             [
              0.1111111111111111,
              "#46039f"
             ],
             [
              0.2222222222222222,
              "#7201a8"
             ],
             [
              0.3333333333333333,
              "#9c179e"
             ],
             [
              0.4444444444444444,
              "#bd3786"
             ],
             [
              0.5555555555555556,
              "#d8576b"
             ],
             [
              0.6666666666666666,
              "#ed7953"
             ],
             [
              0.7777777777777778,
              "#fb9f3a"
             ],
             [
              0.8888888888888888,
              "#fdca26"
             ],
             [
              1,
              "#f0f921"
             ]
            ],
            "type": "histogram2dcontour"
           }
          ],
          "mesh3d": [
           {
            "colorbar": {
             "outlinewidth": 0,
             "ticks": ""
            },
            "type": "mesh3d"
           }
          ],
          "parcoords": [
           {
            "line": {
             "colorbar": {
              "outlinewidth": 0,
              "ticks": ""
             }
            },
            "type": "parcoords"
           }
          ],
          "pie": [
           {
            "automargin": true,
            "type": "pie"
           }
          ],
          "scatter": [
           {
            "marker": {
             "colorbar": {
              "outlinewidth": 0,
              "ticks": ""
             }
            },
            "type": "scatter"
           }
          ],
          "scatter3d": [
           {
            "line": {
             "colorbar": {
              "outlinewidth": 0,
              "ticks": ""
             }
            },
            "marker": {
             "colorbar": {
              "outlinewidth": 0,
              "ticks": ""
             }
            },
            "type": "scatter3d"
           }
          ],
          "scattercarpet": [
           {
            "marker": {
             "colorbar": {
              "outlinewidth": 0,
              "ticks": ""
             }
            },
            "type": "scattercarpet"
           }
          ],
          "scattergeo": [
           {
            "marker": {
             "colorbar": {
              "outlinewidth": 0,
              "ticks": ""
             }
            },
            "type": "scattergeo"
           }
          ],
          "scattergl": [
           {
            "marker": {
             "colorbar": {
              "outlinewidth": 0,
              "ticks": ""
             }
            },
            "type": "scattergl"
           }
          ],
          "scattermapbox": [
           {
            "marker": {
             "colorbar": {
              "outlinewidth": 0,
              "ticks": ""
             }
            },
            "type": "scattermapbox"
           }
          ],
          "scatterpolar": [
           {
            "marker": {
             "colorbar": {
              "outlinewidth": 0,
              "ticks": ""
             }
            },
            "type": "scatterpolar"
           }
          ],
          "scatterpolargl": [
           {
            "marker": {
             "colorbar": {
              "outlinewidth": 0,
              "ticks": ""
             }
            },
            "type": "scatterpolargl"
           }
          ],
          "scatterternary": [
           {
            "marker": {
             "colorbar": {
              "outlinewidth": 0,
              "ticks": ""
             }
            },
            "type": "scatterternary"
           }
          ],
          "surface": [
           {
            "colorbar": {
             "outlinewidth": 0,
             "ticks": ""
            },
            "colorscale": [
             [
              0,
              "#0d0887"
             ],
             [
              0.1111111111111111,
              "#46039f"
             ],
             [
              0.2222222222222222,
              "#7201a8"
             ],
             [
              0.3333333333333333,
              "#9c179e"
             ],
             [
              0.4444444444444444,
              "#bd3786"
             ],
             [
              0.5555555555555556,
              "#d8576b"
             ],
             [
              0.6666666666666666,
              "#ed7953"
             ],
             [
              0.7777777777777778,
              "#fb9f3a"
             ],
             [
              0.8888888888888888,
              "#fdca26"
             ],
             [
              1,
              "#f0f921"
             ]
            ],
            "type": "surface"
           }
          ],
          "table": [
           {
            "cells": {
             "fill": {
              "color": "#EBF0F8"
             },
             "line": {
              "color": "white"
             }
            },
            "header": {
             "fill": {
              "color": "#C8D4E3"
             },
             "line": {
              "color": "white"
             }
            },
            "type": "table"
           }
          ]
         },
         "layout": {
          "annotationdefaults": {
           "arrowcolor": "#2a3f5f",
           "arrowhead": 0,
           "arrowwidth": 1
          },
          "autotypenumbers": "strict",
          "coloraxis": {
           "colorbar": {
            "outlinewidth": 0,
            "ticks": ""
           }
          },
          "colorscale": {
           "diverging": [
            [
             0,
             "#8e0152"
            ],
            [
             0.1,
             "#c51b7d"
            ],
            [
             0.2,
             "#de77ae"
            ],
            [
             0.3,
             "#f1b6da"
            ],
            [
             0.4,
             "#fde0ef"
            ],
            [
             0.5,
             "#f7f7f7"
            ],
            [
             0.6,
             "#e6f5d0"
            ],
            [
             0.7,
             "#b8e186"
            ],
            [
             0.8,
             "#7fbc41"
            ],
            [
             0.9,
             "#4d9221"
            ],
            [
             1,
             "#276419"
            ]
           ],
           "sequential": [
            [
             0,
             "#0d0887"
            ],
            [
             0.1111111111111111,
             "#46039f"
            ],
            [
             0.2222222222222222,
             "#7201a8"
            ],
            [
             0.3333333333333333,
             "#9c179e"
            ],
            [
             0.4444444444444444,
             "#bd3786"
            ],
            [
             0.5555555555555556,
             "#d8576b"
            ],
            [
             0.6666666666666666,
             "#ed7953"
            ],
            [
             0.7777777777777778,
             "#fb9f3a"
            ],
            [
             0.8888888888888888,
             "#fdca26"
            ],
            [
             1,
             "#f0f921"
            ]
           ],
           "sequentialminus": [
            [
             0,
             "#0d0887"
            ],
            [
             0.1111111111111111,
             "#46039f"
            ],
            [
             0.2222222222222222,
             "#7201a8"
            ],
            [
             0.3333333333333333,
             "#9c179e"
            ],
            [
             0.4444444444444444,
             "#bd3786"
            ],
            [
             0.5555555555555556,
             "#d8576b"
            ],
            [
             0.6666666666666666,
             "#ed7953"
            ],
            [
             0.7777777777777778,
             "#fb9f3a"
            ],
            [
             0.8888888888888888,
             "#fdca26"
            ],
            [
             1,
             "#f0f921"
            ]
           ]
          },
          "colorway": [
           "#636efa",
           "#EF553B",
           "#00cc96",
           "#ab63fa",
           "#FFA15A",
           "#19d3f3",
           "#FF6692",
           "#B6E880",
           "#FF97FF",
           "#FECB52"
          ],
          "font": {
           "color": "#2a3f5f"
          },
          "geo": {
           "bgcolor": "white",
           "lakecolor": "white",
           "landcolor": "#E5ECF6",
           "showlakes": true,
           "showland": true,
           "subunitcolor": "white"
          },
          "hoverlabel": {
           "align": "left"
          },
          "hovermode": "closest",
          "mapbox": {
           "style": "light"
          },
          "paper_bgcolor": "white",
          "plot_bgcolor": "#E5ECF6",
          "polar": {
           "angularaxis": {
            "gridcolor": "white",
            "linecolor": "white",
            "ticks": ""
           },
           "bgcolor": "#E5ECF6",
           "radialaxis": {
            "gridcolor": "white",
            "linecolor": "white",
            "ticks": ""
           }
          },
          "scene": {
           "xaxis": {
            "backgroundcolor": "#E5ECF6",
            "gridcolor": "white",
            "gridwidth": 2,
            "linecolor": "white",
            "showbackground": true,
            "ticks": "",
            "zerolinecolor": "white"
           },
           "yaxis": {
            "backgroundcolor": "#E5ECF6",
            "gridcolor": "white",
            "gridwidth": 2,
            "linecolor": "white",
            "showbackground": true,
            "ticks": "",
            "zerolinecolor": "white"
           },
           "zaxis": {
            "backgroundcolor": "#E5ECF6",
            "gridcolor": "white",
            "gridwidth": 2,
            "linecolor": "white",
            "showbackground": true,
            "ticks": "",
            "zerolinecolor": "white"
           }
          },
          "shapedefaults": {
           "line": {
            "color": "#2a3f5f"
           }
          },
          "ternary": {
           "aaxis": {
            "gridcolor": "white",
            "linecolor": "white",
            "ticks": ""
           },
           "baxis": {
            "gridcolor": "white",
            "linecolor": "white",
            "ticks": ""
           },
           "bgcolor": "#E5ECF6",
           "caxis": {
            "gridcolor": "white",
            "linecolor": "white",
            "ticks": ""
           }
          },
          "title": {
           "x": 0.05
          },
          "xaxis": {
           "automargin": true,
           "gridcolor": "white",
           "linecolor": "white",
           "ticks": "",
           "title": {
            "standoff": 15
           },
           "zerolinecolor": "white",
           "zerolinewidth": 2
          },
          "yaxis": {
           "automargin": true,
           "gridcolor": "white",
           "linecolor": "white",
           "ticks": "",
           "title": {
            "standoff": 15
           },
           "zerolinecolor": "white",
           "zerolinewidth": 2
          }
         }
        },
        "yaxis": {
         "range": [
          -0.1,
          1
         ]
        }
       },
       "config": {
        "plotlyServerURL": "https://plot.ly"
       }
      }
     },
     "metadata": {}
    }
   ],
   "metadata": {}
  },
  {
   "cell_type": "code",
   "execution_count": null,
   "source": [
    "import gzip\n",
    "import pickle as pkl\n",
    "\n",
    "n_cores = 8\n",
    "n_folds = 25\n",
    "horizon = 2500\n",
    "\n",
    "game = games.apple_tasting(False)\n",
    "\n",
    "algos = [ random_algo.Random(  game, horizon, ),    \n",
    "          cpb_side.CPB_side(  game, horizon, 1.01, 0.05), \n",
    "          cpb_side_gaussian.RandCPB_side(game, horizon, 1.01, 0.05, 1/8, 10, False, 10e-7),\n",
    "          linucb.LinUCB(game, horizon, 1.01)   ] #cpb_side_gaussian.CPB_side_gauss(game, horizon, 1/16, 10)\n",
    "\n",
    "colors = [  [0,0,0], [250,0,0], [0,250,0] , [0,0,250]  ] #, [250,0,0]\n",
    "labels = [  'random', 'CBP-side 0.05',  'RandCPB-side 0.001', 'linUCB' ] #  'Rand CPB-side'\n",
    "\n",
    "fig = go.Figure( )\n",
    "\n",
    "for alg, color, label in zip( algos, colors, labels):\n",
    "\n",
    "    r,g,b = color\n",
    "    result = evaluate_parallel(n_cores, n_folds, horizon, alg, game, 'easy')\n",
    "    np.save('./results/apple_tasting/easy_context_{}_{}_{}'.format(horizon,n_folds, label), result)\n",
    "    regret =  np.mean(result,0) \n",
    "    \n",
    "    xcoords = np.arange(0,horizon,1).tolist()\n",
    "    std =  np.std(result,0) \n",
    "    upper_regret = regret + std\n",
    "\n",
    "    fig.add_trace(go.Scatter(x=xcoords, y=regret, line=dict(color='rgb({},{},{})'.format(r,g,b)), mode='lines',  name=label )) # \n",
    "\n",
    "    fig.add_trace(   go.Scatter( x=xcoords+xcoords[::-1], y=upper_regret.tolist()+regret.tolist()[::-1],  fill='toself', fillcolor='rgba({},{},{},0.2)'.format(r,g,b), \n",
    "                         line=dict(color='rgba(255,255,255,0)'),   hoverinfo=\"skip\",  showlegend=False )  )\n",
    "    \n",
    "fig.update_layout(legend= dict(yanchor=\"top\",y=0.98,xanchor=\"left\",x=0.77), autosize=False,\n",
    "                 xaxis_title=\"Sequence\",\n",
    "                 yaxis_title=\"Regret\",\n",
    "                 margin=go.layout.Margin( l=0,   r=0,   b=0,    t=0, ), \n",
    "                  font=dict(size=13,) )\n",
    "\n",
    "fig.show(legend=True)\n",
    "\n",
    "# fig.write_image(\"./easy_AT_context.pdf\")\n",
    "\n",
    "#fig.update_xaxes(type=\"log\")\n",
    "# fig.write_image(\"./easy_AT_context_log.pdf\")\n",
    "\n",
    "fig.show()"
   ],
   "outputs": [],
   "metadata": {}
  },
  {
   "cell_type": "code",
   "execution_count": 12,
   "source": [
    "import gzip\n",
    "import pickle as pkl\n",
    "\n",
    "import matplotlib.pyplot as plt\n",
    "import numpy as np\n",
    "\n",
    "# direct = './use_case_results/{}'.format(name)\n",
    "\n",
    "with gzip.open( './use_case_results/random_10.pkl.gz','rb') as f:\n",
    "    result1 = pkl.load(f)\n",
    "\n",
    "with gzip.open( './use_case_results/randcbpside_100.pkl.gz','rb') as f:\n",
    "    result2 = pkl.load(f)\n",
    "\n",
    "fina_regret1 = [ result1[i][-1] for i in range(len(result1)) ]\n",
    "fina_regret2 = [ result2[i][-1] for i in range(len(result2)) ]\n",
    "\n",
    "data = [fina_regret1, fina_regret2]\n",
    " \n",
    "# fig = plt.figure(figsize =(10, 7))\n",
    " \n",
    "# # # Creating axes instance\n",
    "# ax = fig.add_axes([0])\n",
    " \n",
    "# Creating plot\n",
    "# bp = plt.boxplot(data)\n",
    " \n",
    "# show plot\n",
    "# plt.show()"
   ],
   "outputs": [],
   "metadata": {}
  },
  {
   "cell_type": "code",
   "execution_count": 13,
   "source": [
    "fina_regret2"
   ],
   "outputs": [
    {
     "output_type": "execute_result",
     "data": {
      "text/plain": [
       "[None,\n",
       " None,\n",
       " None,\n",
       " None,\n",
       " None,\n",
       " None,\n",
       " None,\n",
       " None,\n",
       " None,\n",
       " None,\n",
       " None,\n",
       " None,\n",
       " None,\n",
       " None,\n",
       " None,\n",
       " None,\n",
       " None,\n",
       " None,\n",
       " None,\n",
       " None,\n",
       " None,\n",
       " None,\n",
       " None,\n",
       " None,\n",
       " None,\n",
       " None,\n",
       " None,\n",
       " None,\n",
       " None,\n",
       " None,\n",
       " None,\n",
       " None,\n",
       " None,\n",
       " None,\n",
       " None,\n",
       " None,\n",
       " None,\n",
       " None,\n",
       " None,\n",
       " None,\n",
       " None,\n",
       " None,\n",
       " None,\n",
       " None,\n",
       " None,\n",
       " None,\n",
       " None,\n",
       " None,\n",
       " None,\n",
       " None,\n",
       " None,\n",
       " None,\n",
       " None,\n",
       " None,\n",
       " None,\n",
       " None,\n",
       " None,\n",
       " None,\n",
       " None,\n",
       " None,\n",
       " None,\n",
       " None,\n",
       " None,\n",
       " None,\n",
       " None,\n",
       " None,\n",
       " None,\n",
       " None,\n",
       " None,\n",
       " None,\n",
       " None,\n",
       " None,\n",
       " None,\n",
       " None,\n",
       " None,\n",
       " None,\n",
       " None,\n",
       " None,\n",
       " None,\n",
       " None,\n",
       " None,\n",
       " None,\n",
       " None,\n",
       " None,\n",
       " None,\n",
       " None,\n",
       " None,\n",
       " None,\n",
       " None,\n",
       " None,\n",
       " None,\n",
       " None,\n",
       " None,\n",
       " None,\n",
       " None,\n",
       " None,\n",
       " None,\n",
       " None,\n",
       " None,\n",
       " None]"
      ]
     },
     "metadata": {},
     "execution_count": 13
    }
   ],
   "metadata": {}
  }
 ],
 "metadata": {
  "interpreter": {
   "hash": "0215ed8d73c40df5de54d647d65b604dcf02460a7de2b27ed9878602c67cf72c"
  },
  "kernelspec": {
   "name": "python3",
   "display_name": "Python 3.9.15 64-bit ('climate-ai': conda)"
  },
  "language_info": {
   "codemirror_mode": {
    "name": "ipython",
    "version": 3
   },
   "file_extension": ".py",
   "mimetype": "text/x-python",
   "name": "python",
   "nbconvert_exporter": "python",
   "pygments_lexer": "ipython3",
   "version": "3.9.15"
  },
  "orig_nbformat": 4
 },
 "nbformat": 4,
 "nbformat_minor": 2
}