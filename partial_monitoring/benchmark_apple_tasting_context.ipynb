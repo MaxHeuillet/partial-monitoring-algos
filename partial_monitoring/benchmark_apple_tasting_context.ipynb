{
 "cells": [
  {
   "cell_type": "code",
   "execution_count": 26,
   "source": [
    "import numpy as np\n",
    "from multiprocessing import Pool\n",
    "from functools import partial\n",
    "import plotly.graph_objects as go\n",
    "import gzip\n",
    "import pickle as pkl\n",
    "\n",
    "import games\n",
    "import synthetic_data\n",
    "import random_algo\n",
    "\n",
    "\n",
    "import cpb_side\n",
    "import cpb_side_gaussian\n",
    "import linucb\n",
    "\n",
    "\n",
    "import PGIDSratio\n",
    "import synthetic_data\n",
    "import numpy as np\n",
    "from torchvision import datasets, transforms\n",
    "\n",
    "\n",
    "class FakeIds():\n",
    "\n",
    "    def __init__(self, digit_distribution, imbalance):\n",
    "\n",
    "        self.horizon = horizon\n",
    "        self.imbalance = imbalance\n",
    "        self.digit_distribution = digit_distribution\n",
    "        self.switches = { 0:[6, 8, 9], 1:[4, 7], 2:[3], 3:[8, 9], 4:[8], 5:[6, 8], 6:[8], 7:[4, 8], 8:[0], 9:[8] }\n",
    "        \n",
    "    def get_contexts(self, horizon, game):\n",
    "\n",
    "        p_attack = game.outcome_dist['spam']\n",
    "\n",
    "        contexts = np.empty( ( horizon, 10) )\n",
    "        outcomes = np.zeros( horizon, dtype = int)\n",
    "\n",
    "        for i in range(horizon):\n",
    "\n",
    "            label = np.random.choice( [0,1,2,3,4,5,6,7,8,9] , p = self.imbalance)\n",
    "\n",
    "            if np.random.uniform(0, 1) <= p_attack:\n",
    "\n",
    "                outcomes[i] = 1\n",
    "                contexts[i] = np.zeros(10)\n",
    "                # candidates = self.switches[label]\n",
    "                pred_label = np.random.choice(  [0,1,2,3,4,5,6,7,8,9] , p = self.digit_distribution )\n",
    "                contexts[i][pred_label] = 1\n",
    "\n",
    "            else:\n",
    "\n",
    "                pred_label = label\n",
    "                outcomes[i] = 0\n",
    "                contexts[i] = np.zeros(10)\n",
    "                contexts[i][label] = 1\n",
    "                \n",
    "        return outcomes, contexts\n",
    "\n",
    "# def evaluate_parallel(nbCores, n_folds, horizon, alg, game, type):\n",
    "#     print(\"nbCores:\", nbCores, \"nbFolds:\", n_folds, \"Horizon:\", horizon)\n",
    "#     pool = Pool(processes = nbCores) \n",
    "#     task = Evaluation(horizon, type)\n",
    "\n",
    "#     np.random.seed(1)\n",
    "#     distributions = []\n",
    "#     context_generators = []\n",
    "\n",
    "#     for jobid in range(n_folds):\n",
    "        \n",
    "#         p = np.random.uniform(0, 0.2) if type == 'easy' else np.random.uniform(0.4,0.5)\n",
    "#         distributions.append( [p, 1-p] )\n",
    "\n",
    "#         contexts = FakeIds() #.LinearContexts( np.array([0.5,0.5]), 0, d, margin) #synthetic_data.ToyContexts( )\n",
    "#         context_generators.append( contexts )\n",
    "\n",
    "#     return np.asarray(  pool.map( partial( task.eval_policy_once, alg, game ), zip(distributions , context_generators ,range(n_folds)) ) ) \n",
    "\n",
    "class Evaluation:\n",
    "\n",
    "    def __init__(self, horizon, type ):\n",
    "        self.type = type\n",
    "        self.horizon = horizon\n",
    "\n",
    "        # self.outcome_distribution = outcome_distribution\n",
    "\n",
    "    def get_outcomes(self, game, job_id):\n",
    "        # self.means = runif_in_simplex( self.game.n_outcomes )\n",
    "        outcomes = np.random.choice( game.n_outcomes , p= list( game.outcome_dist.values() ), size= self.horizon) \n",
    "        return outcomes\n",
    "\n",
    "    def get_feedback(self, game, action, outcome):\n",
    "        return game.FeedbackMatrix[ action ][ outcome ]\n",
    "\n",
    "    def get_bandit_feedback(self, game, action, outcome):\n",
    "        return game.banditFeedbackMatrix[ action ][ outcome ]\n",
    "\n",
    "    def eval_policy_once(self, alg, game, job):\n",
    "\n",
    "        distribution, context_generator, jobid = job\n",
    "\n",
    "        np.random.seed(jobid)\n",
    "\n",
    "        # outcome_distribution =  {'spam':0.5,'ham':0.5}\n",
    "        outcome_distribution =  {'spam':distribution[0], 'ham':distribution[1]}\n",
    "\n",
    "        game.set_outcome_distribution( outcome_distribution, jobid )\n",
    "        #print('optimal action', game.i_star)\n",
    "\n",
    "        # action_counter = np.zeros( (game.n_actions, self.horizon) )\n",
    "\n",
    "        # generate outcomes obliviously\n",
    "\n",
    "        \n",
    "        outcomes, contexts = context_generator.get_contexts(self.horizon, game) \n",
    "        # outcomes = self.get_outcomes(game, jobid)\n",
    "        # contexts = context_generator.get_contexts( self.data, outcomes )\n",
    "        # print(len(contexts))\n",
    "\n",
    "        # \n",
    "        # contexts = [ context_generator.get_context(outcome) for outcome in outcomes ]\n",
    "        # context_generator.generate_unique_context()\n",
    "        # contexts = [ context_generator.get_same_context(outcome) for outcome in outcomes ]\n",
    "        #print('theta', context_generator.w )\n",
    "\n",
    "        cumRegret =  np.zeros(self.horizon, dtype =float)\n",
    "\n",
    "        alg.reset()\n",
    "\n",
    "        estimates_history = {}\n",
    "        \n",
    "        for t in range(self.horizon):\n",
    "\n",
    "            if t % 1000 == 0 and t>0 :\n",
    "                print(t)\n",
    "                estimates = []\n",
    "                for i in range(10):\n",
    "                    context = np.zeros(10)\n",
    "                    context[i] = 1\n",
    "                    # context = context.reshape((-1,1))\n",
    "                    estimate = alg.contexts[1]['weights'] @ context\n",
    "                    estimates.append( estimate[0] )\n",
    "                estimates_history[t] = estimates\n",
    "\n",
    "            # Environment chooses one outcome and one context associated to this outcome\n",
    "            outcome = outcomes[t]\n",
    "            context = contexts[t].reshape((-1,1))\n",
    "\n",
    "            # policy chooses one action\n",
    "            #print('t', t,  'outcome', outcome, 'context', context)\n",
    "            action = alg.get_action(t, context)\n",
    "\n",
    "            # print('t', t, 'action', action, 'outcome', outcome, )\n",
    "            feedback =  self.get_feedback( game, action, outcome )\n",
    "            bandit_feedback =  self.get_bandit_feedback( game, action, outcome )\n",
    "\n",
    "            alg.update(action, feedback, outcome, t, context )\n",
    "            \n",
    "            # print('nu', alg.nu / alg.n )\n",
    "            regret = game.LossMatrix[action, outcome] - np.min( game.LossMatrix[...,outcome] )\n",
    "            # print( 'regret:' , regret )\n",
    "            cumRegret[t] =  regret\n",
    "            # print()\n",
    "        # regret = np.array( [ game.delta(i) for i in range(game.n_actions) ]).T @ action_counter\n",
    "        #context_regret = np.cumsum( \n",
    "        # cumRegret )\n",
    "\n",
    "        return  np.cumsum( cumRegret ), estimates_history #regret\n"
   ],
   "outputs": [],
   "metadata": {}
  },
  {
   "cell_type": "code",
   "execution_count": 31,
   "source": [
    "# # d = 784 #2\n",
    "# # w = np.random.uniform(-1,1, d) #np.array([0.5,0.5])\n",
    "# # margin = 0.01\n",
    "# # contexts_generator = synthetic_data.LinearContexts( w, 0, d, margin) #synthetic_data.ToyContexts( )\n",
    "\n",
    "#game =  games.apple_tasting( False ) \n",
    "# data = datasets.MNIST(\"../data\", train=True, download=True, transform=transforms.ToTensor() )\n",
    "# replacements = get_replacement_samples()\n",
    "# sampling_indexes = np.random.randint(0, len(data), horizon)\n",
    "\n",
    "\n",
    "n_cores = 1\n",
    "n_folds = 1\n",
    "horizon = 10000\n",
    "\n",
    "game = games.apple_tasting(False)\n",
    "\n",
    "alg = cpb_side_gaussian.RandCPB_side(game, 10, horizon, 1.01, 0.05, 1/8, 10, False, 10e-7)\n",
    "# alg = cpb_side.CPB_side(  game, 2, horizon, 1.01, 0.001) \n",
    "# alg = linucb.LinUCB(game, horizon, 1.01) #\n",
    "# alg = PGIDSratio.PGIDSratio( game, horizon, 2 )\n",
    "\n",
    "task = Evaluation(horizon, 'easy')\n",
    "\n",
    "outcome_distribution = [0.2, 0.8]\n",
    "\n",
    "# imbalance = np.ones(10)/10\n",
    "imbalance = np.array( [0.05,0.05,0.05, 0.1,0.1,0.1, 0.15,0.15,0.15,0.1] )\n",
    "\n",
    "# digit_distribution =  np.array( [0.1, 0.1, 0.1, 0.1, 0.1, 0.1, 0.1, 0.1, 0.1, 0.1] )\n",
    "digit_distribution = [0.00938744, 0.02826442, 0.06660327, 0.12284535, 0.17736299, 0.2004605, 0.17736299, 0.12284535, 0.06660327, 0.02826442]\n",
    "# digit_distribution = [3.03931336e-02, 1.21241604e-01, 1.92058772e-01, 1.21241604e-01, 3.03931336e-02, 2.99782587e-03, 1.15116446e-04, 5.01558658e-01, 1.53276385e-07, 2.01265511e-11]\n",
    "        \n",
    "\n",
    "contexts_generator = FakeIds(digit_distribution, imbalance )\n",
    "\n",
    "job = (outcome_distribution, contexts_generator, 3 )\n",
    "\n",
    "result, estimates_history = task.eval_policy_once(alg,game, job)\n",
    "\n",
    "import matplotlib.pyplot as plt\n",
    "plt.plot(result)\n",
    "\n",
    "# result = task.eval_policy_once(alg,game, job)\n",
    "# #plt.plot(range(horizon), result)\n",
    "# # fig = go.Figure( )\n",
    "# # regret = np.array([ game.delta(i) for i in range(game.n_actions) ]).T @ np.mean(result,0) \n",
    "# # xcoords = np.arange(0,horizon,1).tolist()\n",
    "\n",
    "# # fig.add_trace(go.Scatter(x=xcoords, y=regret, line=dict(color='blue'), mode='lines',  name='TPSM' )) # \n",
    "\n",
    "# plt.plot(result)"
   ],
   "outputs": [
    {
     "output_type": "stream",
     "name": "stdout",
     "text": [
      "1000\n",
      "2000\n",
      "3000\n",
      "4000\n",
      "5000\n",
      "6000\n",
      "7000\n",
      "8000\n",
      "9000\n"
     ]
    },
    {
     "output_type": "execute_result",
     "data": {
      "text/plain": [
       "[<matplotlib.lines.Line2D at 0x7fd371973370>]"
      ]
     },
     "metadata": {},
     "execution_count": 31
    },
    {
     "output_type": "display_data",
     "data": {
      "image/png": "[encoded data removed]",
      "text/plain": [
       "<Figure size 432x288 with 1 Axes>"
      ]
     },
     "metadata": {
      "needs_background": "light"
     }
    }
   ],
   "metadata": {}
  },
  {
   "cell_type": "code",
   "execution_count": 33,
   "source": [
    "import pandas as pd\n",
    "\n",
    "probas = imbalance + digit_distribution\n",
    "\n",
    "\n",
    "df = np.vstack( [ np.array([0,1,2,3,4,5,6,7,8,9]), np.round(digit_distribution ,2)  ] ).T\n",
    "df = pd.DataFrame(df)\n",
    "df.columns = ['index', 'ground_truth'] \n",
    "\n",
    "for k in estimates_history.keys():\n",
    "    df[str(k)] = estimates_history[k]\n",
    "\n",
    "\n",
    "steps = round( (224 - 96) / len(estimates_history.keys() ) )\n",
    "greys = np.arange(224,96, -steps)\n",
    "\n",
    "fig = go.Figure( )\n",
    "\n",
    "for i , k in enumerate( estimates_history.keys() ):\n",
    "    col = greys[i]\n",
    "    fig.add_trace(go.Scatter(x=df['index'], y=df[str(k)], line=dict(color='rgb({},{},{})'.format(col,col,col) ) ,mode='lines+markers',  name='{} iterations'.format(k),   showlegend=True ))\n",
    "\n",
    "fig.add_trace(go.Scatter(x=df['index'], y=df['ground_truth'], text = df['ground_truth'],  line=dict(color='rgb(255,0,0)' ), textfont=dict( family=\"sans serif\", size=18) ,mode='lines+markers+text',  name='Ground Truth',   showlegend=True ))\n",
    "\n",
    "fig.update_traces(textposition=\"bottom center\")\n",
    "\n",
    "fig.show(legend=True)"
   ],
   "outputs": [
    {
     "output_type": "display_data",
     "data": {
      "application/vnd.plotly.v1+json": {
       "data": [
        {
         "line": {
          "color": "rgb(224,224,224)"
         },
         "mode": "lines+markers",
         "name": "1000 iterations",
         "showlegend": true,
         "x": [
          0,
          1,
          2,
          3,
          4,
          5,
          6,
          7,
          8,
          9
         ],
         "y": [
          0.022727272727272735,
          0.08000000000000002,
          0.21311475409836073,
          0.215686274509804,
          0.2735042735042736,
          0.23478260869565226,
          0.23684210526315796,
          0.12025316455696204,
          0.10236220472440949,
          0.03614457831325302
         ],
         "type": "scatter",
         "textposition": "bottom center"
        },
        {
         "line": {
          "color": "rgb(210,210,210)"
         },
         "mode": "lines+markers",
         "name": "2000 iterations",
         "showlegend": true,
         "x": [
          0,
          1,
          2,
          3,
          4,
          5,
          6,
          7,
          8,
          9
         ],
         "y": [
          0.02325581395348838,
          0.08653846153846156,
          0.2211538461538462,
          0.2522522522522523,
          0.2766798418972331,
          0.24770642201834864,
          0.22758620689655165,
          0.1582491582491582,
          0.09195402298850573,
          0.0574712643678161
         ],
         "type": "scatter",
         "textposition": "bottom center"
        },
        {
         "line": {
          "color": "rgb(196,196,196)"
         },
         "mode": "lines+markers",
         "name": "3000 iterations",
         "showlegend": true,
         "x": [
          0,
          1,
          2,
          3,
          4,
          5,
          6,
          7,
          8,
          9
         ],
         "y": [
          0.024193548387096784,
          0.10191082802547773,
          0.21527777777777787,
          0.2323529411764704,
          0.2834645669291337,
          0.27728613569321514,
          0.22807017543859648,
          0.15777262180974472,
          0.0973684210526315,
          0.06225680933852139
         ],
         "type": "scatter",
         "textposition": "bottom center"
        },
        {
         "line": {
          "color": "rgb(182,182,182)"
         },
         "mode": "lines+markers",
         "name": "4000 iterations",
         "showlegend": true,
         "x": [
          0,
          1,
          2,
          3,
          4,
          5,
          6,
          7,
          8,
          9
         ],
         "y": [
          0.030303030303030304,
          0.10096153846153844,
          0.20895522388059698,
          0.2462203023758099,
          0.2991803278688526,
          0.2869565217391304,
          0.23421926910299004,
          0.1693121693121693,
          0.09230769230769234,
          0.06268656716417907
         ],
         "type": "scatter",
         "textposition": "bottom center"
        },
        {
         "line": {
          "color": "rgb(168,168,168)"
         },
         "mode": "lines+markers",
         "name": "5000 iterations",
         "showlegend": true,
         "x": [
          0,
          1,
          2,
          3,
          4,
          5,
          6,
          7,
          8,
          9
         ],
         "y": [
          0.039215686274509796,
          0.11328124999999997,
          0.2490706319702602,
          0.2517605633802817,
          0.29081632653061223,
          0.29930795847750863,
          0.22715404699738911,
          0.15232722143864602,
          0.08801213960546284,
          0.06310679611650483
         ],
         "type": "scatter",
         "textposition": "bottom center"
        },
        {
         "line": {
          "color": "rgb(154,154,154)"
         },
         "mode": "lines+markers",
         "name": "6000 iterations",
         "showlegend": true,
         "x": [
          0,
          1,
          2,
          3,
          4,
          5,
          6,
          7,
          8,
          9
         ],
         "y": [
          0.04132231404958678,
          0.11148648648648643,
          0.2558823529411763,
          0.2571428571428572,
          0.2917251051893409,
          0.30115273775216145,
          0.2335135135135138,
          0.15957446808510653,
          0.09032258064516133,
          0.06237816764132556
         ],
         "type": "scatter",
         "textposition": "bottom center"
        },
        {
         "line": {
          "color": "rgb(140,140,140)"
         },
         "mode": "lines+markers",
         "name": "7000 iterations",
         "showlegend": true,
         "x": [
          0,
          1,
          2,
          3,
          4,
          5,
          6,
          7,
          8,
          9
         ],
         "y": [
          0.05460750853242319,
          0.11111111111111102,
          0.2574999999999999,
          0.2561132561132562,
          0.29638854296388556,
          0.30160692212608176,
          0.23605947955390358,
          0.16096579476861178,
          0.09613259668508299,
          0.05737704918032788
         ],
         "type": "scatter",
         "textposition": "bottom center"
        },
        {
         "line": {
          "color": "rgb(126,126,126)"
         },
         "mode": "lines+markers",
         "name": "8000 iterations",
         "showlegend": true,
         "x": [
          0,
          1,
          2,
          3,
          4,
          5,
          6,
          7,
          8,
          9
         ],
         "y": [
          0.050147492625368696,
          0.10512129380053903,
          0.24557522123893805,
          0.24887387387387416,
          0.3029637760702529,
          0.3025751072961378,
          0.2404549147034933,
          0.15627743634767352,
          0.09683604985618417,
          0.058321479374110974
         ],
         "type": "scatter",
         "textposition": "bottom center"
        },
        {
         "line": {
          "color": "rgb(112,112,112)"
         },
         "mode": "lines+markers",
         "name": "9000 iterations",
         "showlegend": true,
         "x": [
          0,
          1,
          2,
          3,
          4,
          5,
          6,
          7,
          8,
          9
         ],
         "y": [
          0.04960835509138378,
          0.1051344743276283,
          0.24901960784313737,
          0.2505070993914809,
          0.29970326409495573,
          0.30000000000000027,
          0.2413058907026264,
          0.15928515928515946,
          0.09803921568627458,
          0.06017925736235597
         ],
         "type": "scatter",
         "textposition": "bottom center"
        },
        {
         "line": {
          "color": "rgb(255,0,0)"
         },
         "mode": "lines+markers+text",
         "name": "Ground Truth",
         "showlegend": true,
         "text": [
          0.01,
          0.03,
          0.07,
          0.12,
          0.18,
          0.2,
          0.18,
          0.12,
          0.07,
          0.03
         ],
         "textfont": {
          "family": "sans serif",
          "size": 18
         },
         "x": [
          0,
          1,
          2,
          3,
          4,
          5,
          6,
          7,
          8,
          9
         ],
         "y": [
          0.01,
          0.03,
          0.07,
          0.12,
          0.18,
          0.2,
          0.18,
          0.12,
          0.07,
          0.03
         ],
         "type": "scatter",
         "textposition": "bottom center"
        }
       ],
       "layout": {
        "template": {
         "data": {
          "bar": [
           {
            "error_x": {
             "color": "#2a3f5f"
            },
            "error_y": {
             "color": "#2a3f5f"
            },
            "marker": {
             "line": {
              "color": "#E5ECF6",
              "width": 0.5
             },
             "pattern": {
              "fillmode": "overlay",
              "size": 10,
              "solidity": 0.2
             }
            },
            "type": "bar"
           }
          ],
          "barpolar": [
           {
            "marker": {
             "line": {
              "color": "#E5ECF6",
              "width": 0.5
             },
             "pattern": {
              "fillmode": "overlay",
              "size": 10,
              "solidity": 0.2
             }
            },
            "type": "barpolar"
           }
          ],
          "carpet": [
           {
            "aaxis": {
             "endlinecolor": "#2a3f5f",
             "gridcolor": "white",
             "linecolor": "white",
             "minorgridcolor": "white",
             "startlinecolor": "#2a3f5f"
            },
            "baxis": {
             "endlinecolor": "#2a3f5f",
             "gridcolor": "white",
             "linecolor": "white",
             "minorgridcolor": "white",
             "startlinecolor": "#2a3f5f"
            },
            "type": "carpet"
           }
          ],
          "choropleth": [
           {
            "colorbar": {
             "outlinewidth": 0,
             "ticks": ""
            },
            "type": "choropleth"
           }
          ],
          "contour": [
           {
            "colorbar": {
             "outlinewidth": 0,
             "ticks": ""
            },
            "colorscale": [
             [
              0,
              "#0d0887"
             ],
             [
              0.1111111111111111,
              "#46039f"
             ],
             [
              0.2222222222222222,
              "#7201a8"
             ],
             [
              0.3333333333333333,
              "#9c179e"
             ],
             [
              0.4444444444444444,
              "#bd3786"
             ],
             [
              0.5555555555555556,
              "#d8576b"
             ],
             [
              0.6666666666666666,
              "#ed7953"
             ],
             [
              0.7777777777777778,
              "#fb9f3a"
             ],
             [
              0.8888888888888888,
              "#fdca26"
             ],
             [
              1,
              "#f0f921"
             ]
            ],
            "type": "contour"
           }
          ],
          "contourcarpet": [
           {
            "colorbar": {
             "outlinewidth": 0,
             "ticks": ""
            },
            "type": "contourcarpet"
           }
          ],
          "heatmap": [
           {
            "colorbar": {
             "outlinewidth": 0,
             "ticks": ""
            },
            "colorscale": [
             [
              0,
              "#0d0887"
             ],
             [
              0.1111111111111111,
              "#46039f"
             ],
             [
              0.2222222222222222,
              "#7201a8"
             ],
             [
              0.3333333333333333,
              "#9c179e"
             ],
             [
              0.4444444444444444,
              "#bd3786"
             ],
             [
              0.5555555555555556,
              "#d8576b"
             ],
             [
              0.6666666666666666,
              "#ed7953"
             ],
             [
              0.7777777777777778,
              "#fb9f3a"
             ],
             [
              0.8888888888888888,
              "#fdca26"
             ],
             [
              1,
              "#f0f921"
             ]
            ],
            "type": "heatmap"
           }
          ],
          "heatmapgl": [
           {
            "colorbar": {
             "outlinewidth": 0,
             "ticks": ""
            },
            "colorscale": [
             [
              0,
              "#0d0887"
             ],
             [
              0.1111111111111111,
              "#46039f"
             ],
             [
              0.2222222222222222,
              "#7201a8"
             ],
             [
              0.3333333333333333,
              "#9c179e"
             ],
             [
              0.4444444444444444,
              "#bd3786"
             ],
             [
              0.5555555555555556,
              "#d8576b"
             ],
             [
              0.6666666666666666,
              "#ed7953"
             ],
             [
              0.7777777777777778,
              "#fb9f3a"
             ],
             [
              0.8888888888888888,
              "#fdca26"
             ],
             [
              1,
              "#f0f921"
             ]
            ],
            "type": "heatmapgl"
           }
          ],
          "histogram": [
           {
            "marker": {
             "pattern": {
              "fillmode": "overlay",
              "size": 10,
              "solidity": 0.2
             }
            },
            "type": "histogram"
           }
          ],
          "histogram2d": [
           {
            "colorbar": {
             "outlinewidth": 0,
             "ticks": ""
            },
            "colorscale": [
             [
              0,
              "#0d0887"
             ],
             [
              0.1111111111111111,
              "#46039f"
             ],
             [
              0.2222222222222222,
              "#7201a8"
             ],
             [
              0.3333333333333333,
              "#9c179e"
             ],
             [
              0.4444444444444444,
              "#bd3786"
             ],
             [
              0.5555555555555556,
              "#d8576b"
             ],
             [
              0.6666666666666666,
              "#ed7953"
             ],
             [
              0.7777777777777778,
              "#fb9f3a"
             ],
             [
              0.8888888888888888,
              "#fdca26"
             ],
             [
              1,
              "#f0f921"
             ]
            ],
            "type": "histogram2d"
           }
          ],
          "histogram2dcontour": [
           {
            "colorbar": {
             "outlinewidth": 0,
             "ticks": ""
            },
            "colorscale": [
             [
              0,
              "#0d0887"
             ],
             [
              0.1111111111111111,
              "#46039f"
             ],
             [
              0.2222222222222222,
              "#7201a8"
             ],
             [
              0.3333333333333333,
              "#9c179e"
             ],
             [
              0.4444444444444444,
              "#bd3786"
             ],
             [
              0.5555555555555556,
              "#d8576b"
             ],
             [
              0.6666666666666666,
              "#ed7953"
             ],
             [
              0.7777777777777778,
              "#fb9f3a"
             ],
             [
              0.8888888888888888,
              "#fdca26"
             ],
             [
              1,
              "#f0f921"
             ]
            ],
            "type": "histogram2dcontour"
           }
          ],
          "mesh3d": [
           {
            "colorbar": {
             "outlinewidth": 0,
             "ticks": ""
            },
            "type": "mesh3d"
           }
          ],
          "parcoords": [
           {
            "line": {
             "colorbar": {
              "outlinewidth": 0,
              "ticks": ""
             }
            },
            "type": "parcoords"
           }
          ],
          "pie": [
           {
            "automargin": true,
            "type": "pie"
           }
          ],
          "scatter": [
           {
            "marker": {
             "colorbar": {
              "outlinewidth": 0,
              "ticks": ""
             }
            },
            "type": "scatter"
           }
          ],
          "scatter3d": [
           {
            "line": {
             "colorbar": {
              "outlinewidth": 0,
              "ticks": ""
             }
            },
            "marker": {
             "colorbar": {
              "outlinewidth": 0,
              "ticks": ""
             }
            },
            "type": "scatter3d"
           }
          ],
          "scattercarpet": [
           {
            "marker": {
             "colorbar": {
              "outlinewidth": 0,
              "ticks": ""
             }
            },
            "type": "scattercarpet"
           }
          ],
          "scattergeo": [
           {
            "marker": {
             "colorbar": {
              "outlinewidth": 0,
              "ticks": ""
             }
            },
            "type": "scattergeo"
           }
          ],
          "scattergl": [
           {
            "marker": {
             "colorbar": {
              "outlinewidth": 0,
              "ticks": ""
             }
            },
            "type": "scattergl"
           }
          ],
          "scattermapbox": [
           {
            "marker": {
             "colorbar": {
              "outlinewidth": 0,
              "ticks": ""
             }
            },
            "type": "scattermapbox"
           }
          ],
          "scatterpolar": [
           {
            "marker": {
             "colorbar": {
              "outlinewidth": 0,
              "ticks": ""
             }
            },
            "type": "scatterpolar"
           }
          ],
          "scatterpolargl": [
           {
            "marker": {
             "colorbar": {
              "outlinewidth": 0,
              "ticks": ""
             }
            },
            "type": "scatterpolargl"
           }
          ],
          "scatterternary": [
           {
            "marker": {
             "colorbar": {
              "outlinewidth": 0,
              "ticks": ""
             }
            },
            "type": "scatterternary"
           }
          ],
          "surface": [
           {
            "colorbar": {
             "outlinewidth": 0,
             "ticks": ""
            },
            "colorscale": [
             [
              0,
              "#0d0887"
             ],
             [
              0.1111111111111111,
              "#46039f"
             ],
             [
              0.2222222222222222,
              "#7201a8"
             ],
             [
              0.3333333333333333,
              "#9c179e"
             ],
             [
              0.4444444444444444,
              "#bd3786"
             ],
             [
              0.5555555555555556,
              "#d8576b"
             ],
             [
              0.6666666666666666,
              "#ed7953"
             ],
             [
              0.7777777777777778,
              "#fb9f3a"
             ],
             [
              0.8888888888888888,
              "#fdca26"
             ],
             [
              1,
              "#f0f921"
             ]
            ],
            "type": "surface"
           }
          ],
          "table": [
           {
            "cells": {
             "fill": {
              "color": "#EBF0F8"
             },
             "line": {
              "color": "white"
             }
            },
            "header": {
             "fill": {
              "color": "#C8D4E3"
             },
             "line": {
              "color": "white"
             }
            },
            "type": "table"
           }
          ]
         },
         "layout": {
          "annotationdefaults": {
           "arrowcolor": "#2a3f5f",
           "arrowhead": 0,
           "arrowwidth": 1
          },
          "autotypenumbers": "strict",
          "coloraxis": {
           "colorbar": {
            "outlinewidth": 0,
            "ticks": ""
           }
          },
          "colorscale": {
           "diverging": [
            [
             0,
             "#8e0152"
            ],
            [
             0.1,
             "#c51b7d"
            ],
            [
             0.2,
             "#de77ae"
            ],
            [
             0.3,
             "#f1b6da"
            ],
            [
             0.4,
             "#fde0ef"
            ],
            [
             0.5,
             "#f7f7f7"
            ],
            [
             0.6,
             "#e6f5d0"
            ],
            [
             0.7,
             "#b8e186"
            ],
            [
             0.8,
             "#7fbc41"
            ],
            [
             0.9,
             "#4d9221"
            ],
            [
             1,
             "#276419"
            ]
           ],
           "sequential": [
            [
             0,
             "#0d0887"
            ],
            [
             0.1111111111111111,
             "#46039f"
            ],
            [
             0.2222222222222222,
             "#7201a8"
            ],
            [
             0.3333333333333333,
             "#9c179e"
            ],
            [
             0.4444444444444444,
             "#bd3786"
            ],
            [
             0.5555555555555556,
             "#d8576b"
            ],
            [
             0.6666666666666666,
             "#ed7953"
            ],
            [
             0.7777777777777778,
             "#fb9f3a"
            ],
            [
             0.8888888888888888,
             "#fdca26"
            ],
            [
             1,
             "#f0f921"
            ]
           ],
           "sequentialminus": [
            [
             0,
             "#0d0887"
            ],
            [
             0.1111111111111111,
             "#46039f"
            ],
            [
             0.2222222222222222,
             "#7201a8"
            ],
            [
             0.3333333333333333,
             "#9c179e"
            ],
            [
             0.4444444444444444,
             "#bd3786"
            ],
            [
             0.5555555555555556,
             "#d8576b"
            ],
            [
             0.6666666666666666,
             "#ed7953"
            ],
            [
             0.7777777777777778,
             "#fb9f3a"
            ],
            [
             0.8888888888888888,
             "#fdca26"
            ],
            [
             1,
             "#f0f921"
            ]
           ]
          },
          "colorway": [
           "#636efa",
           "#EF553B",
           "#00cc96",
           "#ab63fa",
           "#FFA15A",
           "#19d3f3",
           "#FF6692",
           "#B6E880",
           "#FF97FF",
           "#FECB52"
          ],
          "font": {
           "color": "#2a3f5f"
          },
          "geo": {
           "bgcolor": "white",
           "lakecolor": "white",
           "landcolor": "#E5ECF6",
           "showlakes": true,
           "showland": true,
           "subunitcolor": "white"
          },
          "hoverlabel": {
           "align": "left"
          },
          "hovermode": "closest",
          "mapbox": {
           "style": "light"
          },
          "paper_bgcolor": "white",
          "plot_bgcolor": "#E5ECF6",
          "polar": {
           "angularaxis": {
            "gridcolor": "white",
            "linecolor": "white",
            "ticks": ""
           },
           "bgcolor": "#E5ECF6",
           "radialaxis": {
            "gridcolor": "white",
            "linecolor": "white",
            "ticks": ""
           }
          },
          "scene": {
           "xaxis": {
            "backgroundcolor": "#E5ECF6",
            "gridcolor": "white",
            "gridwidth": 2,
            "linecolor": "white",
            "showbackground": true,
            "ticks": "",
            "zerolinecolor": "white"
           },
           "yaxis": {
            "backgroundcolor": "#E5ECF6",
            "gridcolor": "white",
            "gridwidth": 2,
            "linecolor": "white",
            "showbackground": true,
            "ticks": "",
            "zerolinecolor": "white"
           },
           "zaxis": {
            "backgroundcolor": "#E5ECF6",
            "gridcolor": "white",
            "gridwidth": 2,
            "linecolor": "white",
            "showbackground": true,
            "ticks": "",
            "zerolinecolor": "white"
           }
          },
          "shapedefaults": {
           "line": {
            "color": "#2a3f5f"
           }
          },
          "ternary": {
           "aaxis": {
            "gridcolor": "white",
            "linecolor": "white",
            "ticks": ""
           },
           "baxis": {
            "gridcolor": "white",
            "linecolor": "white",
            "ticks": ""
           },
           "bgcolor": "#E5ECF6",
           "caxis": {
            "gridcolor": "white",
            "linecolor": "white",
            "ticks": ""
           }
          },
          "title": {
           "x": 0.05
          },
          "xaxis": {
           "automargin": true,
           "gridcolor": "white",
           "linecolor": "white",
           "ticks": "",
           "title": {
            "standoff": 15
           },
           "zerolinecolor": "white",
           "zerolinewidth": 2
          },
          "yaxis": {
           "automargin": true,
           "gridcolor": "white",
           "linecolor": "white",
           "ticks": "",
           "title": {
            "standoff": 15
           },
           "zerolinecolor": "white",
           "zerolinewidth": 2
          }
         }
        }
       },
       "config": {
        "plotlyServerURL": "https://plot.ly"
       }
      }
     },
     "metadata": {}
    }
   ],
   "metadata": {}
  },
  {
   "cell_type": "code",
   "execution_count": null,
   "source": [
    "import gzip\n",
    "import pickle as pkl\n",
    "\n",
    "n_cores = 8\n",
    "n_folds = 25\n",
    "horizon = 2500\n",
    "\n",
    "game = games.apple_tasting(False)\n",
    "\n",
    "algos = [ random_algo.Random(  game, horizon, ),    \n",
    "          cpb_side.CPB_side(  game, horizon, 1.01, 0.05), \n",
    "          cpb_side_gaussian.RandCPB_side(game, horizon, 1.01, 0.05, 1/8, 10, False, 10e-7),\n",
    "          linucb.LinUCB(game, horizon, 1.01)   ] #cpb_side_gaussian.CPB_side_gauss(game, horizon, 1/16, 10)\n",
    "\n",
    "colors = [  [0,0,0], [250,0,0], [0,250,0] , [0,0,250]  ] #, [250,0,0]\n",
    "labels = [  'random', 'CBP-side 0.05',  'RandCPB-side 0.001', 'linUCB' ] #  'Rand CPB-side'\n",
    "\n",
    "fig = go.Figure( )\n",
    "\n",
    "for alg, color, label in zip( algos, colors, labels):\n",
    "\n",
    "    r,g,b = color\n",
    "    result = evaluate_parallel(n_cores, n_folds, horizon, alg, game, 'easy')\n",
    "    np.save('./results/apple_tasting/easy_context_{}_{}_{}'.format(horizon,n_folds, label), result)\n",
    "    regret =  np.mean(result,0) \n",
    "    \n",
    "    xcoords = np.arange(0,horizon,1).tolist()\n",
    "    std =  np.std(result,0) \n",
    "    upper_regret = regret + std\n",
    "\n",
    "    fig.add_trace(go.Scatter(x=xcoords, y=regret, line=dict(color='rgb({},{},{})'.format(r,g,b)), mode='lines',  name=label )) # \n",
    "\n",
    "    fig.add_trace(   go.Scatter( x=xcoords+xcoords[::-1], y=upper_regret.tolist()+regret.tolist()[::-1],  fill='toself', fillcolor='rgba({},{},{},0.2)'.format(r,g,b), \n",
    "                         line=dict(color='rgba(255,255,255,0)'),   hoverinfo=\"skip\",  showlegend=False )  )\n",
    "    \n",
    "fig.update_layout(legend= dict(yanchor=\"top\",y=0.98,xanchor=\"left\",x=0.77), autosize=False,\n",
    "                 xaxis_title=\"Sequence\",\n",
    "                 yaxis_title=\"Regret\",\n",
    "                 margin=go.layout.Margin( l=0,   r=0,   b=0,    t=0, ), \n",
    "                  font=dict(size=13,) )\n",
    "\n",
    "fig.show(legend=True)\n",
    "\n",
    "# fig.write_image(\"./easy_AT_context.pdf\")\n",
    "\n",
    "#fig.update_xaxes(type=\"log\")\n",
    "# fig.write_image(\"./easy_AT_context_log.pdf\")\n",
    "\n",
    "fig.show()"
   ],
   "outputs": [],
   "metadata": {}
  }
 ],
 "metadata": {
  "interpreter": {
   "hash": "0215ed8d73c40df5de54d647d65b604dcf02460a7de2b27ed9878602c67cf72c"
  },
  "kernelspec": {
   "name": "python3",
   "display_name": "Python 3.9.15 64-bit ('climate-ai': conda)"
  },
  "language_info": {
   "codemirror_mode": {
    "name": "ipython",
    "version": 3
   },
   "file_extension": ".py",
   "mimetype": "text/x-python",
   "name": "python",
   "nbconvert_exporter": "python",
   "pygments_lexer": "ipython3",
   "version": "3.9.15"
  },
  "orig_nbformat": 4
 },
 "nbformat": 4,
 "nbformat_minor": 2
}