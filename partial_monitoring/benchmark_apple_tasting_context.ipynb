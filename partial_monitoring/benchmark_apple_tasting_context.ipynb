{
 "cells": [
  {
   "cell_type": "code",
   "execution_count": 401,
   "source": [
    "import numpy as np\n",
    "from multiprocessing import Pool\n",
    "from functools import partial\n",
    "import plotly.graph_objects as go\n",
    "import gzip\n",
    "import pickle as pkl\n",
    "\n",
    "import games\n",
    "import synthetic_data\n",
    "import random_algo\n",
    "\n",
    "\n",
    "import cpb_side\n",
    "import cpb_side_gaussian\n",
    "import linucb\n",
    "\n",
    "\n",
    "import PGIDSratio\n",
    "import synthetic_data\n",
    "import numpy as np\n",
    "from torchvision import datasets, transforms\n",
    "\n",
    "import matplotlib.pyplot as plt\n",
    "\n",
    "\n",
    "class FakeIds():\n",
    "\n",
    "    def __init__(self, M, imbalance):\n",
    "\n",
    "        self.imbalance = imbalance\n",
    "        self.M = M\n",
    "        self.dim = len(imbalance)\n",
    "        self.labels = [i for i in range(self.dim)]\n",
    "        \n",
    "        \n",
    "    def get_contexts(self, horizon, game):\n",
    "\n",
    "        contexts = np.empty( ( horizon, 10) )\n",
    "        outcomes = np.zeros( horizon, dtype = int)\n",
    "\n",
    "        for i in range(horizon):\n",
    "\n",
    "            label = np.random.choice( self.labels , p = self.imbalance)\n",
    "\n",
    "            contexts[i] = np.zeros(10)\n",
    "            pred_label = np.random.choice(  self.labels , p = self.M[label] )\n",
    "            contexts[i][pred_label] = 1\n",
    "            \n",
    "            if pred_label != label:\n",
    "                outcomes[i] = 1\n",
    "            else:\n",
    "                outcomes[i] = 0\n",
    "                \n",
    "        return outcomes, contexts\n",
    "\n",
    "    def get_context(self, ):\n",
    "        label = np.random.choice( self.labels , p = self.imbalance)\n",
    "\n",
    "        context = np.zeros(self.dim)\n",
    "        pred_label = np.random.choice(  self.labels , p = self.M[label] )\n",
    "        context[pred_label] = 1\n",
    "            \n",
    "        if pred_label != label:\n",
    "            outcome = 1\n",
    "        else:\n",
    "            outcome = 0\n",
    "                \n",
    "        return outcome, context\n",
    "\n",
    "class Evaluation:\n",
    "\n",
    "    def __init__(self, ground_truth, epsilon, n_labels):\n",
    "        self.ground_truth = ground_truth\n",
    "        self.epsilon = epsilon\n",
    "        self.n_labels = n_labels\n",
    "\n",
    "    def get_feedback(self, game, action, outcome):\n",
    "        return game.FeedbackMatrix[ action ][ outcome ]\n",
    "\n",
    "    def eval_policy_once(self, alg, game, context_generator, jobid,):\n",
    "\n",
    "        np.random.seed(jobid)\n",
    "        \n",
    "        alg.reset()\n",
    "\n",
    "        estimates_history = {}\n",
    "\n",
    "        t = 0\n",
    "        latest_estimate = np.ones(len(self.ground_truth)) * 1000\n",
    "        # print('ground truth', self.ground_truth )\n",
    "        status = True\n",
    "        while status == True:\n",
    "            \n",
    "            outcome, context = context_generator.get_context() \n",
    "            context = context.reshape((-1,1))\n",
    "\n",
    "            if t % 10000 == 0 and t>0 :\n",
    "                print(t, 'latest estimate', latest_estimate)\n",
    "\n",
    "            if t>2 and alg.name == 'randcbpside':\n",
    "                estimates = []\n",
    "                for i in range( self.n_labels ):\n",
    "                    sim = np.zeros( self.n_labels )\n",
    "                    sim[i] = 1\n",
    "                    estimate = alg.contexts[1]['weights'] @ sim\n",
    "                    estimates.append( estimate[0] )\n",
    "                latest_estimate = estimates\n",
    "\n",
    "            elif t>2 and alg.name == 'random':\n",
    "                latest_estimate = alg.weights[:,0]\n",
    "\n",
    "        \n",
    "            if ( abs( self.ground_truth - latest_estimate  ) <= self.epsilon ).all() :\n",
    "                status = False\n",
    "\n",
    "            # Environment chooses one outcome and one context associated to this outcome\n",
    "            \n",
    "            \n",
    "            # policy chooses one action\n",
    "            #print('t', t,  'outcome', outcome, 'context', context)\n",
    "            action = alg.get_action(t, context)\n",
    "\n",
    "            # print('t', t, 'action', action, 'outcome', outcome, )\n",
    "            feedback =  self.get_feedback( game, action, outcome )\n",
    "\n",
    "            alg.update(action, feedback, outcome, t, context )\n",
    "\n",
    "            t = t+1\n",
    "            \n",
    "        return  t \n"
   ],
   "outputs": [],
   "metadata": {}
  },
  {
   "cell_type": "code",
   "execution_count": 403,
   "source": [
    "class Random():\n",
    "\n",
    "    def __init__(self, game, n_labels):\n",
    "\n",
    "        self.name = 'random'\n",
    "\n",
    "        self.n_labels = n_labels\n",
    "        self.game = game\n",
    "\n",
    "        self.weights = np.ones( (self.n_labels,2) )\n",
    "        self.feedbacks = np.zeros( (self.n_labels,2) )\n",
    "        self.N = np.zeros( self.n_labels )\n",
    "\n",
    "    def get_action(self, t, context = None ):\n",
    "        \n",
    "        pbt = np.ones( self.game.n_actions ) / self.game.n_actions\n",
    "        action = np.random.choice(self.game.n_actions, 1,  p = pbt )[0]\n",
    "        return action\n",
    "\n",
    "    def update(self, action, feedback, outcome, t, context):\n",
    "        if action == 1:\n",
    "            idx = np.argmax(context)\n",
    "            self.feedbacks[idx][feedback] += 1\n",
    "            self.N[idx] += 1\n",
    "            estimates = [ self.feedbacks[i] / self.N[i] if self.N[i] !=0 else np.zeros( (1,2) ) for i in range(len(self.N) ) ] \n",
    "            self.weights = np.vstack(estimates)\n",
    "\n",
    "    def reset(self,):\n",
    "        self.weights = np.ones( (self.n_labels,2) )\n",
    "        self.feedbacks = np.zeros( (self.n_labels,2) )\n",
    "        self.N = np.zeros( self.n_labels )\n",
    "\n",
    "\n",
    "def confusion_matrix(M):\n",
    "\n",
    "    for i in range(n_labels):\n",
    "\n",
    "        M[i][i] -= errors[i]\n",
    "        n_splits = np.random.randint(1, n_labels-1) \n",
    "\n",
    "        coefs = np.random.uniform(0, 1, n_splits)\n",
    "        coefs = coefs / sum(coefs)\n",
    "\n",
    "        for idx in range(n_splits):\n",
    "\n",
    "            status = True\n",
    "            while status == True:\n",
    "                location = np.random.randint(0, n_labels)\n",
    "                if location != i:\n",
    "                    status = False\n",
    "\n",
    "            M[i][location] += coefs[idx] *  errors[i]\n",
    "\n",
    "    return M\n",
    "\n",
    "def truncate(value):\n",
    "    if value<-1 or value>1:\n",
    "        status = False\n",
    "        while status == False:\n",
    "            value = abs( np.random.normal(0, 0.1 ) )\n",
    "            if value <1:\n",
    "                status = True\n",
    "    return value\n",
    "\n",
    "\n",
    "\n",
    "def get_ground_truth(M, imbalance):\n",
    "    # correct probabilities\n",
    "    probas_correct = np.diag(M) * imbalance\n",
    "\n",
    "    # correct probabilities\n",
    "    probas_incorrect = M.copy()\n",
    "    np.fill_diagonal( probas_incorrect, 0 ) \n",
    "    probas_incorrect = np.sum( probas_incorrect.T * imbalance, 1)\n",
    "\n",
    "    # final probabilites\n",
    "    final_probas = probas_incorrect / (  probas_correct + probas_incorrect )\n",
    "    return final_probas\n",
    "\n",
    "game = games.apple_tasting(False)\n",
    "\n",
    "n_trials = 3\n",
    "\n",
    "results = np.zeros( (n_trials, 2) )\n",
    "\n",
    "for trial in range(n_trials):\n",
    "\n",
    "    print(trial)\n",
    "\n",
    "    jobid = trial\n",
    "\n",
    "    n_labels = np.random.randint(3, 10)\n",
    "    imbalance = np.array( [ np.random.uniform(50,100) if np.random.uniform(0,1)<0.1 else np.random.uniform(0,25) for _ in range(n_labels) ] )\n",
    "    imbalance = imbalance / sum(imbalance)\n",
    "\n",
    "    M = np.identity(n_labels)\n",
    "    errors = np.array( [ truncate( abs( np.random.normal(0.5, 0.5 ) ) ) if np.random.uniform(0,1)<0.1 else truncate( abs( np.random.normal(0, 0.1 ) ) ) for _ in range(n_labels) ] )\n",
    "    M = confusion_matrix(M)\n",
    "    \n",
    "    ground_truth = get_ground_truth(M, imbalance)\n",
    "    print('ground truth', ground_truth)\n",
    "\n",
    "    epsilon = 0.01\n",
    "\n",
    "    task = Evaluation(ground_truth , epsilon, n_labels ) \n",
    "    contexts_generator = FakeIds(M, imbalance )\n",
    "\n",
    "    for idx, alg in enumerate([ Random(  game, n_labels ),  cpb_side_gaussian.RandCPB_side(game, n_labels, None, 1.01, 0.001, 1/8, 10, False, 10e-7)  ]):\n",
    "\n",
    "        t = task.eval_policy_once(alg, game, contexts_generator, jobid)\n",
    "        results[trial][idx] = t\n",
    "\n",
    "    print(results[trial])\n",
    "    print()\n",
    "\n",
    "    "
   ],
   "outputs": [
    {
     "output_type": "stream",
     "name": "stdout",
     "text": [
      "0\n",
      "ground truth [0.226662   0.         0.08376924]\n",
      "0\n",
      "1\n",
      "[ 350. 4111.]\n",
      "\n",
      "1\n",
      "ground truth [0.49551873 0.73787411 0.21653922 0.05315866 0.16082235 0.14327177\n",
      " 0.6895101 ]\n",
      "10000 latest estimate [0.48931624 0.73129252 0.22978723 0.05904908 0.14930183 0.13513514\n",
      " 0.69090909]\n",
      "0\n",
      "1\n",
      "10000 latest estimate [0.4772978959025476, 0.6889952153110046, 0.21969696969696997, 0.055133450224040474, 0.15239096163951704, 0.16286644951140059, 0.7388059701492541]\n",
      "20000 latest estimate [0.4844006568144515, 0.7008928571428572, 0.2370689655172421, 0.05711800521890402, 0.1567423230974636, 0.17142857142857143, 0.7383720930232559]\n"
     ]
    }
   ],
   "metadata": {}
  },
  {
   "cell_type": "code",
   "execution_count": 388,
   "source": [
    "\n",
    "# algos = [ random_algo.Random(  game, horizon, ),\n",
    "#           cpb_side_gaussian.RandCPB_side(game, 10, horizon, 1.01, 0.001, 1/8, 10, False, 10e-7)  ]\n",
    "\n",
    "# colors = [  [0,0,0],  [250,0,0]  ] \n",
    "# labels = [   'random', 'RandCBP'  ]  \n",
    "\n",
    "# imbalance = np.array( [0.05, 0.05, 0.30, 0.1, 0.1, 0.1, 0.1, 0.1, 0.05, 0.05] )\n",
    "\n",
    "# M = np.array(  [ [ 0.7,  0,   0,   0,   0,    0,    0.2,  0,    0,     0.1 ], \n",
    "#                  [ 0.1,  0.9, 0,   0,   0,    0,    0,    0,    0,     0 ],\n",
    "#                  [ 0.1,  0,   0.9, 0,   0,    0,    0,    0,    0,     0 ],\n",
    "#                  [ 0.1,  0,   0,   0.8, 0,    0,    0,    0,    0.05,  0.05 ],\n",
    "#                  [ 0,    0,   0,   0,   0.99, 0,    0,    0,    0.01,  0 ],\n",
    "#                  [ 0,    0,   0,   0,   0,    0.96, 0.02, 0,    0.02,  0 ],\n",
    "#                  [ 0,    0,   0,   0,   0,    0,    0.99, 0,    0,     0.01 ],\n",
    "#                  [ 0,    0.1, 0.1, 0,   0,    0,    0,    0.70, 0,     0.1 ],\n",
    "#                  [ 0.1,    0,   0,   0,   0,    0,    0,    0,    0.9,     0 ],\n",
    "#                  [ 0,    0.2,   0,   0,   0,    0,    0,    0,    0,     0.8 ] ] )  \n",
    "\n",
    "\n",
    "\n",
    "# fig = go.Figure(    )\n",
    "\n",
    "# for alg, color, label in list(zip(algos, colors, labels))[::-1]:\n",
    "\n",
    "# alg = cpb_side_gaussian.RandCPB_side(game, 10, horizon, 1.01, 0.05, 1/8, 10, False, 10e-7)\n",
    "\n",
    "# alg = \n",
    "\n",
    "\n",
    "\n",
    "\n",
    "print(M)"
   ],
   "outputs": [
    {
     "output_type": "stream",
     "name": "stdout",
     "text": [
      "[[8.78536976e-01 0.00000000e+00 0.00000000e+00 6.29953284e-02\n",
      "  0.00000000e+00 5.14247550e-02 7.04294033e-03 0.00000000e+00\n",
      "  0.00000000e+00]\n",
      " [1.44408088e-03 9.35727069e-01 0.00000000e+00 0.00000000e+00\n",
      "  2.23233266e-02 0.00000000e+00 6.82135529e-03 3.36841686e-02\n",
      "  0.00000000e+00]\n",
      " [0.00000000e+00 4.02106683e-03 9.91952149e-01 4.02678433e-03\n",
      "  0.00000000e+00 0.00000000e+00 0.00000000e+00 0.00000000e+00\n",
      "  0.00000000e+00]\n",
      " [0.00000000e+00 0.00000000e+00 9.41885059e-03 9.80702832e-01\n",
      "  0.00000000e+00 2.38852218e-03 2.50439793e-04 2.22066239e-04\n",
      "  7.01728933e-03]\n",
      " [0.00000000e+00 0.00000000e+00 0.00000000e+00 0.00000000e+00\n",
      "  9.12914984e-01 8.70850161e-02 0.00000000e+00 0.00000000e+00\n",
      "  0.00000000e+00]\n",
      " [0.00000000e+00 0.00000000e+00 1.41487890e-02 1.09375899e-02\n",
      "  6.17261697e-03 8.89402051e-01 4.12934821e-02 3.80454709e-02\n",
      "  0.00000000e+00]\n",
      " [1.76903342e-03 0.00000000e+00 0.00000000e+00 1.92761815e-02\n",
      "  0.00000000e+00 9.36267281e-04 9.69009050e-01 0.00000000e+00\n",
      "  9.00946796e-03]\n",
      " [0.00000000e+00 0.00000000e+00 0.00000000e+00 1.68218426e-01\n",
      "  9.19581467e-02 0.00000000e+00 0.00000000e+00 3.99704096e-01\n",
      "  3.40119332e-01]\n",
      " [0.00000000e+00 6.31225818e-03 7.41214993e-03 1.40092969e-02\n",
      "  1.53983410e-02 0.00000000e+00 0.00000000e+00 0.00000000e+00\n",
      "  9.56867954e-01]]\n"
     ]
    }
   ],
   "metadata": {}
  },
  {
   "cell_type": "code",
   "execution_count": 287,
   "source": [
    "np.random.normal( 0.5, 0.5 )"
   ],
   "outputs": [
    {
     "output_type": "execute_result",
     "data": {
      "text/plain": [
       "0.8421090330435743"
      ]
     },
     "metadata": {},
     "execution_count": 287
    }
   ],
   "metadata": {}
  },
  {
   "cell_type": "code",
   "execution_count": 42,
   "source": [
    "a = np.ones( (10,2) )\n",
    "a[0] / 2"
   ],
   "outputs": [
    {
     "output_type": "execute_result",
     "data": {
      "text/plain": [
       "array([0.5, 0.5])"
      ]
     },
     "metadata": {},
     "execution_count": 42
    }
   ],
   "metadata": {}
  },
  {
   "cell_type": "code",
   "execution_count": 36,
   "source": [
    "a = np.ones( (10,2) ) \n",
    "b = np.ones(  10 ) * 2\n",
    "a / b[:,None]"
   ],
   "outputs": [
    {
     "output_type": "execute_result",
     "data": {
      "text/plain": [
       "array([[0.5, 0.5],\n",
       "       [0.5, 0.5],\n",
       "       [0.5, 0.5],\n",
       "       [0.5, 0.5],\n",
       "       [0.5, 0.5],\n",
       "       [0.5, 0.5],\n",
       "       [0.5, 0.5],\n",
       "       [0.5, 0.5],\n",
       "       [0.5, 0.5],\n",
       "       [0.5, 0.5]])"
      ]
     },
     "metadata": {},
     "execution_count": 36
    }
   ],
   "metadata": {}
  },
  {
   "cell_type": "code",
   "execution_count": 20,
   "source": [
    "import pandas as pd\n",
    "\n",
    "\n",
    "\n",
    "\n",
    "\n",
    "df = np.vstack( [ np.array([0,1,2,3,4,5,6,7,8,9]),  np.round( final_probas , 2) ] ).T\n",
    "df = pd.DataFrame(df)\n",
    "df.columns = ['index', 'ground_truth'] \n",
    "\n",
    "for k in estimates_history.keys():\n",
    "    df[str(k)] = estimates_history[k]\n",
    "\n",
    "steps = round( (224 - 96) / len(estimates_history.keys() ) )\n",
    "greys = np.arange(224, 96, -steps)\n",
    "\n",
    "fig = go.Figure( )\n",
    "\n",
    "for i , k in enumerate( estimates_history.keys() ):\n",
    "    col = greys[i]\n",
    "    fig.add_trace(go.Scatter(x=df['index'], y=df[str(k)], line=dict(color='rgb({},{},{})'.format(col,col,col) ) ,mode='lines+markers',  name='{} rounds'.format(k),   showlegend=True ))\n",
    "\n",
    "fig.add_trace(go.Scatter(x=df['index'], y=df['ground_truth'], text = df['ground_truth'],  line=dict(color='rgb(255,0,0)' ), textfont=dict( family=\"sans serif\", size=18) ,mode='lines+markers+text',  name='Deployment Error (ground truth)',   showlegend=True ))\n",
    "\n",
    "fig.update_traces(textposition=\"top center\")\n",
    "\n",
    "fig.update_layout(yaxis_range=[-0.1,1])\n",
    "\n",
    "fig.show(legend=True)\n",
    "# fig.write_image(\"./estimates_imbalanced.png\")\n",
    "\n"
   ],
   "outputs": [
    {
     "output_type": "display_data",
     "data": {
      "application/vnd.plotly.v1+json": {
       "data": [
        {
         "line": {
          "color": "rgb(224,224,224)"
         },
         "mode": "lines+markers",
         "name": "10 rounds",
         "showlegend": true,
         "x": [
          0,
          1,
          2,
          3,
          4,
          5,
          6,
          7,
          8,
          9
         ],
         "y": [
          0,
          0,
          0,
          0,
          0,
          0,
          0,
          0,
          0,
          0
         ],
         "type": "scatter",
         "textposition": "top center"
        },
        {
         "line": {
          "color": "rgb(203,203,203)"
         },
         "mode": "lines+markers",
         "name": "100 rounds",
         "showlegend": true,
         "x": [
          0,
          1,
          2,
          3,
          4,
          5,
          6,
          7,
          8,
          9
         ],
         "y": [
          0.046296296296296294,
          0.018518518518518517,
          0.007812500000000002,
          0,
          0,
          0,
          0,
          0,
          0,
          0.009345794392523364
         ],
         "type": "scatter",
         "textposition": "top center"
        },
        {
         "line": {
          "color": "rgb(182,182,182)"
         },
         "mode": "lines+markers",
         "name": "200 rounds",
         "showlegend": true,
         "x": [
          0,
          1,
          2,
          3,
          4,
          5,
          6,
          7,
          8,
          9
         ],
         "y": [
          0.1,
          0.036036036036036036,
          0.006369426751592357,
          0,
          0,
          0,
          0.02459016393442623,
          0,
          0,
          0.01818181818181818
         ],
         "type": "scatter",
         "textposition": "top center"
        },
        {
         "line": {
          "color": "rgb(161,161,161)"
         },
         "mode": "lines+markers",
         "name": "1000 rounds",
         "showlegend": true,
         "x": [
          0,
          1,
          2,
          3,
          4,
          5,
          6,
          7,
          8,
          9
         ],
         "y": [
          0.2685714285714286,
          0.16463414634146342,
          0.015957446808510627,
          0,
          0,
          0,
          0.05607476635514018,
          0,
          0.025974025974025976,
          0.10062893081761007
         ],
         "type": "scatter",
         "textposition": "top center"
        },
        {
         "line": {
          "color": "rgb(140,140,140)"
         },
         "mode": "lines+markers",
         "name": "4000 rounds",
         "showlegend": true,
         "x": [
          0,
          1,
          2,
          3,
          4,
          5,
          6,
          7,
          8,
          9
         ],
         "y": [
          0.42670157068062803,
          0.23380281690140828,
          0.029523088569265745,
          0,
          0,
          0,
          0.08303249097472924,
          0,
          0.06688963210702338,
          0.21159420289855058
         ],
         "type": "scatter",
         "textposition": "top center"
        },
        {
         "line": {
          "color": "rgb(119,119,119)"
         },
         "mode": "lines+markers",
         "name": "8000 rounds",
         "showlegend": true,
         "x": [
          0,
          1,
          2,
          3,
          4,
          5,
          6,
          7,
          8,
          9
         ],
         "y": [
          0.47394957983193275,
          0.2775974025974026,
          0.03211198023878148,
          0,
          0,
          0,
          0.09726443768996967,
          0,
          0.10546875000000004,
          0.2647554806070826
         ],
         "type": "scatter",
         "textposition": "top center"
        },
        {
         "line": {
          "color": "rgb(255,0,0)"
         },
         "mode": "lines+markers+text",
         "name": "Deployment Error (ground truth)",
         "showlegend": true,
         "text": [
          0.59,
          0.31,
          0.04,
          0,
          0,
          0,
          0.11,
          0,
          0.15,
          0.34
         ],
         "textfont": {
          "family": "sans serif",
          "size": 18
         },
         "x": [
          0,
          1,
          2,
          3,
          4,
          5,
          6,
          7,
          8,
          9
         ],
         "y": [
          0.59,
          0.31,
          0.04,
          0,
          0,
          0,
          0.11,
          0,
          0.15,
          0.34
         ],
         "type": "scatter",
         "textposition": "top center"
        }
       ],
       "layout": {
        "template": {
         "data": {
          "bar": [
           {
            "error_x": {
             "color": "#2a3f5f"
            },
            "error_y": {
             "color": "#2a3f5f"
            },
            "marker": {
             "line": {
              "color": "#E5ECF6",
              "width": 0.5
             },
             "pattern": {
              "fillmode": "overlay",
              "size": 10,
              "solidity": 0.2
             }
            },
            "type": "bar"
           }
          ],
          "barpolar": [
           {
            "marker": {
             "line": {
              "color": "#E5ECF6",
              "width": 0.5
             },
             "pattern": {
              "fillmode": "overlay",
              "size": 10,
              "solidity": 0.2
             }
            },
            "type": "barpolar"
           }
          ],
          "carpet": [
           {
            "aaxis": {
             "endlinecolor": "#2a3f5f",
             "gridcolor": "white",
             "linecolor": "white",
             "minorgridcolor": "white",
             "startlinecolor": "#2a3f5f"
            },
            "baxis": {
             "endlinecolor": "#2a3f5f",
             "gridcolor": "white",
             "linecolor": "white",
             "minorgridcolor": "white",
             "startlinecolor": "#2a3f5f"
            },
            "type": "carpet"
           }
          ],
          "choropleth": [
           {
            "colorbar": {
             "outlinewidth": 0,
             "ticks": ""
            },
            "type": "choropleth"
           }
          ],
          "contour": [
           {
            "colorbar": {
             "outlinewidth": 0,
             "ticks": ""
            },
            "colorscale": [
             [
              0,
              "#0d0887"
             ],
             [
              0.1111111111111111,
              "#46039f"
             ],
             [
              0.2222222222222222,
              "#7201a8"
             ],
             [
              0.3333333333333333,
              "#9c179e"
             ],
             [
              0.4444444444444444,
              "#bd3786"
             ],
             [
              0.5555555555555556,
              "#d8576b"
             ],
             [
              0.6666666666666666,
              "#ed7953"
             ],
             [
              0.7777777777777778,
              "#fb9f3a"
             ],
             [
              0.8888888888888888,
              "#fdca26"
             ],
             [
              1,
              "#f0f921"
             ]
            ],
            "type": "contour"
           }
          ],
          "contourcarpet": [
           {
            "colorbar": {
             "outlinewidth": 0,
             "ticks": ""
            },
            "type": "contourcarpet"
           }
          ],
          "heatmap": [
           {
            "colorbar": {
             "outlinewidth": 0,
             "ticks": ""
            },
            "colorscale": [
             [
              0,
              "#0d0887"
             ],
             [
              0.1111111111111111,
              "#46039f"
             ],
             [
              0.2222222222222222,
              "#7201a8"
             ],
             [
              0.3333333333333333,
              "#9c179e"
             ],
             [
              0.4444444444444444,
              "#bd3786"
             ],
             [
              0.5555555555555556,
              "#d8576b"
             ],
             [
              0.6666666666666666,
              "#ed7953"
             ],
             [
              0.7777777777777778,
              "#fb9f3a"
             ],
             [
              0.8888888888888888,
              "#fdca26"
             ],
             [
              1,
              "#f0f921"
             ]
            ],
            "type": "heatmap"
           }
          ],
          "heatmapgl": [
           {
            "colorbar": {
             "outlinewidth": 0,
             "ticks": ""
            },
            "colorscale": [
             [
              0,
              "#0d0887"
             ],
             [
              0.1111111111111111,
              "#46039f"
             ],
             [
              0.2222222222222222,
              "#7201a8"
             ],
             [
              0.3333333333333333,
              "#9c179e"
             ],
             [
              0.4444444444444444,
              "#bd3786"
             ],
             [
              0.5555555555555556,
              "#d8576b"
             ],
             [
              0.6666666666666666,
              "#ed7953"
             ],
             [
              0.7777777777777778,
              "#fb9f3a"
             ],
             [
              0.8888888888888888,
              "#fdca26"
             ],
             [
              1,
              "#f0f921"
             ]
            ],
            "type": "heatmapgl"
           }
          ],
          "histogram": [
           {
            "marker": {
             "pattern": {
              "fillmode": "overlay",
              "size": 10,
              "solidity": 0.2
             }
            },
            "type": "histogram"
           }
          ],
          "histogram2d": [
           {
            "colorbar": {
             "outlinewidth": 0,
             "ticks": ""
            },
            "colorscale": [
             [
              0,
              "#0d0887"
             ],
             [
              0.1111111111111111,
              "#46039f"
             ],
             [
              0.2222222222222222,
              "#7201a8"
             ],
             [
              0.3333333333333333,
              "#9c179e"
             ],
             [
              0.4444444444444444,
              "#bd3786"
             ],
             [
              0.5555555555555556,
              "#d8576b"
             ],
             [
              0.6666666666666666,
              "#ed7953"
             ],
             [
              0.7777777777777778,
              "#fb9f3a"
             ],
             [
              0.8888888888888888,
              "#fdca26"
             ],
             [
              1,
              "#f0f921"
             ]
            ],
            "type": "histogram2d"
           }
          ],
          "histogram2dcontour": [
           {
            "colorbar": {
             "outlinewidth": 0,
             "ticks": ""
            },
            "colorscale": [
             [
              0,
              "#0d0887"
             ],
             [
              0.1111111111111111,
              "#46039f"
             ],
             [
              0.2222222222222222,
              "#7201a8"
             ],
             [
              0.3333333333333333,
              "#9c179e"
             ],
             [
              0.4444444444444444,
              "#bd3786"
             ],
             [
              0.5555555555555556,
              "#d8576b"
             ],
             [
              0.6666666666666666,
              "#ed7953"
             ],
             [
              0.7777777777777778,
              "#fb9f3a"
             ],
             [
              0.8888888888888888,
              "#fdca26"
             ],
             [
              1,
              "#f0f921"
             ]
            ],
            "type": "histogram2dcontour"
           }
          ],
          "mesh3d": [
           {
            "colorbar": {
             "outlinewidth": 0,
             "ticks": ""
            },
            "type": "mesh3d"
           }
          ],
          "parcoords": [
           {
            "line": {
             "colorbar": {
              "outlinewidth": 0,
              "ticks": ""
             }
            },
            "type": "parcoords"
           }
          ],
          "pie": [
           {
            "automargin": true,
            "type": "pie"
           }
          ],
          "scatter": [
           {
            "marker": {
             "colorbar": {
              "outlinewidth": 0,
              "ticks": ""
             }
            },
            "type": "scatter"
           }
          ],
          "scatter3d": [
           {
            "line": {
             "colorbar": {
              "outlinewidth": 0,
              "ticks": ""
             }
            },
            "marker": {
             "colorbar": {
              "outlinewidth": 0,
              "ticks": ""
             }
            },
            "type": "scatter3d"
           }
          ],
          "scattercarpet": [
           {
            "marker": {
             "colorbar": {
              "outlinewidth": 0,
              "ticks": ""
             }
            },
            "type": "scattercarpet"
           }
          ],
          "scattergeo": [
           {
            "marker": {
             "colorbar": {
              "outlinewidth": 0,
              "ticks": ""
             }
            },
            "type": "scattergeo"
           }
          ],
          "scattergl": [
           {
            "marker": {
             "colorbar": {
              "outlinewidth": 0,
              "ticks": ""
             }
            },
            "type": "scattergl"
           }
          ],
          "scattermapbox": [
           {
            "marker": {
             "colorbar": {
              "outlinewidth": 0,
              "ticks": ""
             }
            },
            "type": "scattermapbox"
           }
          ],
          "scatterpolar": [
           {
            "marker": {
             "colorbar": {
              "outlinewidth": 0,
              "ticks": ""
             }
            },
            "type": "scatterpolar"
           }
          ],
          "scatterpolargl": [
           {
            "marker": {
             "colorbar": {
              "outlinewidth": 0,
              "ticks": ""
             }
            },
            "type": "scatterpolargl"
           }
          ],
          "scatterternary": [
           {
            "marker": {
             "colorbar": {
              "outlinewidth": 0,
              "ticks": ""
             }
            },
            "type": "scatterternary"
           }
          ],
          "surface": [
           {
            "colorbar": {
             "outlinewidth": 0,
             "ticks": ""
            },
            "colorscale": [
             [
              0,
              "#0d0887"
             ],
             [
              0.1111111111111111,
              "#46039f"
             ],
             [
              0.2222222222222222,
              "#7201a8"
             ],
             [
              0.3333333333333333,
              "#9c179e"
             ],
             [
              0.4444444444444444,
              "#bd3786"
             ],
             [
              0.5555555555555556,
              "#d8576b"
             ],
             [
              0.6666666666666666,
              "#ed7953"
             ],
             [
              0.7777777777777778,
              "#fb9f3a"
             ],
             [
              0.8888888888888888,
              "#fdca26"
             ],
             [
              1,
              "#f0f921"
             ]
            ],
            "type": "surface"
           }
          ],
          "table": [
           {
            "cells": {
             "fill": {
              "color": "#EBF0F8"
             },
             "line": {
              "color": "white"
             }
            },
            "header": {
             "fill": {
              "color": "#C8D4E3"
             },
             "line": {
              "color": "white"
             }
            },
            "type": "table"
           }
          ]
         },
         "layout": {
          "annotationdefaults": {
           "arrowcolor": "#2a3f5f",
           "arrowhead": 0,
           "arrowwidth": 1
          },
          "autotypenumbers": "strict",
          "coloraxis": {
           "colorbar": {
            "outlinewidth": 0,
            "ticks": ""
           }
          },
          "colorscale": {
           "diverging": [
            [
             0,
             "#8e0152"
            ],
            [
             0.1,
             "#c51b7d"
            ],
            [
             0.2,
             "#de77ae"
            ],
            [
             0.3,
             "#f1b6da"
            ],
            [
             0.4,
             "#fde0ef"
            ],
            [
             0.5,
             "#f7f7f7"
            ],
            [
             0.6,
             "#e6f5d0"
            ],
            [
             0.7,
             "#b8e186"
            ],
            [
             0.8,
             "#7fbc41"
            ],
            [
             0.9,
             "#4d9221"
            ],
            [
             1,
             "#276419"
            ]
           ],
           "sequential": [
            [
             0,
             "#0d0887"
            ],
            [
             0.1111111111111111,
             "#46039f"
            ],
            [
             0.2222222222222222,
             "#7201a8"
            ],
            [
             0.3333333333333333,
             "#9c179e"
            ],
            [
             0.4444444444444444,
             "#bd3786"
            ],
            [
             0.5555555555555556,
             "#d8576b"
            ],
            [
             0.6666666666666666,
             "#ed7953"
            ],
            [
             0.7777777777777778,
             "#fb9f3a"
            ],
            [
             0.8888888888888888,
             "#fdca26"
            ],
            [
             1,
             "#f0f921"
            ]
           ],
           "sequentialminus": [
            [
             0,
             "#0d0887"
            ],
            [
             0.1111111111111111,
             "#46039f"
            ],
            [
             0.2222222222222222,
             "#7201a8"
            ],
            [
             0.3333333333333333,
             "#9c179e"
            ],
            [
             0.4444444444444444,
             "#bd3786"
            ],
            [
             0.5555555555555556,
             "#d8576b"
            ],
            [
             0.6666666666666666,
             "#ed7953"
            ],
            [
             0.7777777777777778,
             "#fb9f3a"
            ],
            [
             0.8888888888888888,
             "#fdca26"
            ],
            [
             1,
             "#f0f921"
            ]
           ]
          },
          "colorway": [
           "#636efa",
           "#EF553B",
           "#00cc96",
           "#ab63fa",
           "#FFA15A",
           "#19d3f3",
           "#FF6692",
           "#B6E880",
           "#FF97FF",
           "#FECB52"
          ],
          "font": {
           "color": "#2a3f5f"
          },
          "geo": {
           "bgcolor": "white",
           "lakecolor": "white",
           "landcolor": "#E5ECF6",
           "showlakes": true,
           "showland": true,
           "subunitcolor": "white"
          },
          "hoverlabel": {
           "align": "left"
          },
          "hovermode": "closest",
          "mapbox": {
           "style": "light"
          },
          "paper_bgcolor": "white",
          "plot_bgcolor": "#E5ECF6",
          "polar": {
           "angularaxis": {
            "gridcolor": "white",
            "linecolor": "white",
            "ticks": ""
           },
           "bgcolor": "#E5ECF6",
           "radialaxis": {
            "gridcolor": "white",
            "linecolor": "white",
            "ticks": ""
           }
          },
          "scene": {
           "xaxis": {
            "backgroundcolor": "#E5ECF6",
            "gridcolor": "white",
            "gridwidth": 2,
            "linecolor": "white",
            "showbackground": true,
            "ticks": "",
            "zerolinecolor": "white"
           },
           "yaxis": {
            "backgroundcolor": "#E5ECF6",
            "gridcolor": "white",
            "gridwidth": 2,
            "linecolor": "white",
            "showbackground": true,
            "ticks": "",
            "zerolinecolor": "white"
           },
           "zaxis": {
            "backgroundcolor": "#E5ECF6",
            "gridcolor": "white",
            "gridwidth": 2,
            "linecolor": "white",
            "showbackground": true,
            "ticks": "",
            "zerolinecolor": "white"
           }
          },
          "shapedefaults": {
           "line": {
            "color": "#2a3f5f"
           }
          },
          "ternary": {
           "aaxis": {
            "gridcolor": "white",
            "linecolor": "white",
            "ticks": ""
           },
           "baxis": {
            "gridcolor": "white",
            "linecolor": "white",
            "ticks": ""
           },
           "bgcolor": "#E5ECF6",
           "caxis": {
            "gridcolor": "white",
            "linecolor": "white",
            "ticks": ""
           }
          },
          "title": {
           "x": 0.05
          },
          "xaxis": {
           "automargin": true,
           "gridcolor": "white",
           "linecolor": "white",
           "ticks": "",
           "title": {
            "standoff": 15
           },
           "zerolinecolor": "white",
           "zerolinewidth": 2
          },
          "yaxis": {
           "automargin": true,
           "gridcolor": "white",
           "linecolor": "white",
           "ticks": "",
           "title": {
            "standoff": 15
           },
           "zerolinecolor": "white",
           "zerolinewidth": 2
          }
         }
        },
        "yaxis": {
         "range": [
          -0.1,
          1
         ]
        }
       },
       "config": {
        "plotlyServerURL": "https://plot.ly"
       }
      }
     },
     "metadata": {}
    }
   ],
   "metadata": {}
  },
  {
   "cell_type": "code",
   "execution_count": 26,
   "source": [
    "( abs( final_probas - estimates_history[8000] ) <= 0.025 ).all()"
   ],
   "outputs": [
    {
     "output_type": "execute_result",
     "data": {
      "text/plain": [
       "False"
      ]
     },
     "metadata": {},
     "execution_count": 26
    }
   ],
   "metadata": {}
  },
  {
   "cell_type": "code",
   "execution_count": null,
   "source": [
    "import gzip\n",
    "import pickle as pkl\n",
    "\n",
    "n_cores = 8\n",
    "n_folds = 25\n",
    "horizon = 2500\n",
    "\n",
    "game = games.apple_tasting(False)\n",
    "\n",
    "algos = [ random_algo.Random(  game, horizon, ),    \n",
    "          cpb_side.CPB_side(  game, horizon, 1.01, 0.05), \n",
    "          cpb_side_gaussian.RandCPB_side(game, horizon, 1.01, 0.05, 1/8, 10, False, 10e-7),\n",
    "          linucb.LinUCB(game, horizon, 1.01)   ] #cpb_side_gaussian.CPB_side_gauss(game, horizon, 1/16, 10)\n",
    "\n",
    "colors = [  [0,0,0], [250,0,0], [0,250,0] , [0,0,250]  ] #, [250,0,0]\n",
    "labels = [  'random', 'CBP-side 0.05',  'RandCPB-side 0.001', 'linUCB' ] #  'Rand CPB-side'\n",
    "\n",
    "fig = go.Figure( )\n",
    "\n",
    "for alg, color, label in zip( algos, colors, labels):\n",
    "\n",
    "    r,g,b = color\n",
    "    result = evaluate_parallel(n_cores, n_folds, horizon, alg, game, 'easy')\n",
    "    np.save('./results/apple_tasting/easy_context_{}_{}_{}'.format(horizon,n_folds, label), result)\n",
    "    regret =  np.mean(result,0) \n",
    "    \n",
    "    xcoords = np.arange(0,horizon,1).tolist()\n",
    "    std =  np.std(result,0) \n",
    "    upper_regret = regret + std\n",
    "\n",
    "    fig.add_trace(go.Scatter(x=xcoords, y=regret, line=dict(color='rgb({},{},{})'.format(r,g,b)), mode='lines',  name=label )) # \n",
    "\n",
    "    fig.add_trace(   go.Scatter( x=xcoords+xcoords[::-1], y=upper_regret.tolist()+regret.tolist()[::-1],  fill='toself', fillcolor='rgba({},{},{},0.2)'.format(r,g,b), \n",
    "                         line=dict(color='rgba(255,255,255,0)'),   hoverinfo=\"skip\",  showlegend=False )  )\n",
    "    \n",
    "fig.update_layout(legend= dict(yanchor=\"top\",y=0.98,xanchor=\"left\",x=0.77), autosize=False,\n",
    "                 xaxis_title=\"Sequence\",\n",
    "                 yaxis_title=\"Regret\",\n",
    "                 margin=go.layout.Margin( l=0,   r=0,   b=0,    t=0, ), \n",
    "                  font=dict(size=13,) )\n",
    "\n",
    "fig.show(legend=True)\n",
    "\n",
    "# fig.write_image(\"./easy_AT_context.pdf\")\n",
    "\n",
    "#fig.update_xaxes(type=\"log\")\n",
    "# fig.write_image(\"./easy_AT_context_log.pdf\")\n",
    "\n",
    "fig.show()"
   ],
   "outputs": [],
   "metadata": {}
  }
 ],
 "metadata": {
  "interpreter": {
   "hash": "0215ed8d73c40df5de54d647d65b604dcf02460a7de2b27ed9878602c67cf72c"
  },
  "kernelspec": {
   "name": "python3",
   "display_name": "Python 3.9.15 64-bit ('climate-ai': conda)"
  },
  "language_info": {
   "codemirror_mode": {
    "name": "ipython",
    "version": 3
   },
   "file_extension": ".py",
   "mimetype": "text/x-python",
   "name": "python",
   "nbconvert_exporter": "python",
   "pygments_lexer": "ipython3",
   "version": "3.9.15"
  },
  "orig_nbformat": 4
 },
 "nbformat": 4,
 "nbformat_minor": 2
}