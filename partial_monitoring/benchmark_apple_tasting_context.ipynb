{
 "cells": [
  {
   "cell_type": "code",
   "execution_count": 1,
   "source": [
    "import numpy as np\n",
    "from multiprocessing import Pool\n",
    "from functools import partial\n",
    "import plotly.graph_objects as go\n",
    "import gzip\n",
    "import pickle as pkl\n",
    "\n",
    "import games\n",
    "import synthetic_data\n",
    "import random_algo\n",
    "\n",
    "\n",
    "import cpb_side\n",
    "import cpb_side_gaussian\n",
    "import linucb\n",
    "\n",
    "\n",
    "import PGIDSratio\n",
    "import synthetic_data\n",
    "import numpy as np\n",
    "from torchvision import datasets, transforms\n",
    "\n",
    "import matplotlib.pyplot as plt\n",
    "\n",
    "\n",
    "class FakeIds():\n",
    "\n",
    "    def __init__(self, M, imbalance):\n",
    "\n",
    "        self.imbalance = imbalance\n",
    "        self.M = M\n",
    "        \n",
    "        \n",
    "    def get_contexts(self, horizon, game):\n",
    "\n",
    "        contexts = np.empty( ( horizon, 10) )\n",
    "        outcomes = np.zeros( horizon, dtype = int)\n",
    "\n",
    "        for i in range(horizon):\n",
    "\n",
    "            label = np.random.choice( [0,1,2,3,4,5,6,7,8,9] , p = self.imbalance)\n",
    "\n",
    "            contexts[i] = np.zeros(10)\n",
    "            pred_label = np.random.choice(  [0,1,2,3,4,5,6,7,8,9] , p = self.M[label] )\n",
    "            contexts[i][pred_label] = 1\n",
    "            \n",
    "            if pred_label != label:\n",
    "                outcomes[i] = 1\n",
    "            else:\n",
    "                outcomes[i] = 0\n",
    "                \n",
    "        return outcomes, contexts\n",
    "\n",
    "    def get_context(self, ):\n",
    "        label = np.random.choice( [0,1,2,3,4,5,6,7,8,9] , p = self.imbalance)\n",
    "\n",
    "        context = np.zeros(10)\n",
    "        pred_label = np.random.choice(  [0,1,2,3,4,5,6,7,8,9] , p = self.M[label] )\n",
    "        context[pred_label] = 1\n",
    "            \n",
    "        if pred_label != label:\n",
    "            outcome = 1\n",
    "        else:\n",
    "            outcome = 0\n",
    "                \n",
    "        return outcome, context\n",
    "\n",
    "class Evaluation:\n",
    "\n",
    "    def __init__(self, ground_truth, epsilon):\n",
    "        self.ground_truth = ground_truth\n",
    "        self.epsilon = epsilon\n",
    "\n",
    "    def get_feedback(self, game, action, outcome):\n",
    "        return game.FeedbackMatrix[ action ][ outcome ]\n",
    "\n",
    "    def get_bandit_feedback(self, game, action, outcome):\n",
    "        return game.banditFeedbackMatrix[ action ][ outcome ]\n",
    "\n",
    "    def eval_policy_once(self, alg, game, context_generator, jobid,):\n",
    "\n",
    "        np.random.seed(jobid)\n",
    "        \n",
    "        alg.reset()\n",
    "\n",
    "        estimates_history = {}\n",
    "\n",
    "        t = 0\n",
    "        latest_estimate = np.ones(len(self.ground_truth)) * 1000\n",
    "        print('ground truth', self.ground_truth )\n",
    "        status = True\n",
    "        while status == True:\n",
    "\n",
    "            outcome, context = context_generator.get_context() \n",
    "            context = context.reshape((-1,1))\n",
    "\n",
    "            print(t,  latest_estimate )\n",
    "\n",
    "        \n",
    "            if t>2:\n",
    "                estimates = []\n",
    "                for i in range(10):\n",
    "                    sim = np.zeros(10)\n",
    "                    sim[i] = 1\n",
    "                    estimate = alg.contexts[1]['weights'] @ sim\n",
    "                    estimates.append( estimate[0] )\n",
    "                latest_estimate = estimates\n",
    "                if ( abs( self.ground_truth - latest_estimate  ) <= self.epsilon ).all() :\n",
    "                    status = False\n",
    "\n",
    "            # Environment chooses one outcome and one context associated to this outcome\n",
    "            \n",
    "            \n",
    "            # policy chooses one action\n",
    "            #print('t', t,  'outcome', outcome, 'context', context)\n",
    "            action = alg.get_action(t, context)\n",
    "\n",
    "            # print('t', t, 'action', action, 'outcome', outcome, )\n",
    "            feedback =  self.get_feedback( game, action, outcome )\n",
    "\n",
    "            alg.update(action, feedback, outcome, t, context )\n",
    "\n",
    "            t = t+1\n",
    "            \n",
    "        return  t \n"
   ],
   "outputs": [],
   "metadata": {}
  },
  {
   "cell_type": "code",
   "execution_count": 6,
   "source": [
    "np.sum(M,1)"
   ],
   "outputs": [
    {
     "output_type": "execute_result",
     "data": {
      "text/plain": [
       "array([0.3 , 0.1 , 0.1 , 0.2 , 0.01, 0.04, 0.01, 0.3 , 0.1 , 0.2 ])"
      ]
     },
     "metadata": {},
     "execution_count": 6
    }
   ],
   "metadata": {}
  },
  {
   "cell_type": "code",
   "execution_count": 9,
   "source": [
    "class Random():\n",
    "\n",
    "    def __init__(self, game):\n",
    "\n",
    "        self.game = game\n",
    "        self.weights = np.ones(2)\n",
    "        self.feedbacks = np.zeros(2)\n",
    "        self.N = np.zeros(2)\n",
    "\n",
    "    def get_action(self, t, context = None ):\n",
    "        \n",
    "        pbt = np.ones( self.game.n_actions ) / self.game.n_actions\n",
    "        action = np.random.choice(self.game.n_actions, 1,  p = pbt )[0]\n",
    "        return action\n",
    "\n",
    "    def update(self, action, feedback, outcome, context, t):\n",
    "\n",
    "        if action == 1:\n",
    "            self.weights[feedback] = self.symbols[feedback] / self.N[1]\n",
    "        \n",
    "\n",
    "    def reset(self,):\n",
    "        self.weights = np.ones(2)\n",
    "        self.feedbacks = np.zeros(2)\n",
    "        self.N = np.zeros(2)\n",
    "\n",
    "\n",
    "def get_ground_truth(M, imbalance):\n",
    "    # correct probabilities\n",
    "    probas_correct = np.diag(M) * imbalance\n",
    "\n",
    "    # correct probabilities\n",
    "\n",
    "    probas_incorrect = M.copy()\n",
    "    np.fill_diagonal( probas_incorrect, 0 ) \n",
    "    probas_incorrect = np.sum( probas_incorrect.T * imbalance, 1)\n",
    "\n",
    "    # final probabilites\n",
    "\n",
    "    final_probas = probas_incorrect / (  probas_correct + probas_incorrect )\n",
    "    return final_probas\n",
    "\n",
    "n_cores = 1\n",
    "n_folds = 1\n",
    "horizon = 10000\n",
    "\n",
    "epsilon = 0.025\n",
    "\n",
    "game = games.apple_tasting(False)\n",
    "\n",
    "\n",
    "jobid = 3\n",
    "\n",
    "# algos = [ random_algo.Random(  game, horizon, ),\n",
    "#           cpb_side_gaussian.RandCPB_side(game, 10, horizon, 1.01, 0.001, 1/8, 10, False, 10e-7)  ]\n",
    "\n",
    "colors = [  [0,0,0],  [250,0,0]  ] \n",
    "labels = [   'random', 'RandCBP'  ]  \n",
    "\n",
    "imbalance = np.array( [0.05, 0.05, 0.30, 0.1, 0.1, 0.1, 0.1, 0.1, 0.05, 0.05] )\n",
    "\n",
    "M = np.array(  [ [ 0.7,  0,   0,   0,   0,    0,    0.2,  0,    0,     0.1 ], \n",
    "                 [ 0.1,  0.9, 0,   0,   0,    0,    0,    0,    0,     0 ],\n",
    "                 [ 0.1,  0,   0.9, 0,   0,    0,    0,    0,    0,     0 ],\n",
    "                 [ 0.1,  0,   0,   0.8, 0,    0,    0,    0,    0.05,  0.05 ],\n",
    "                 [ 0,    0,   0,   0,   0.99, 0,    0,    0,    0.01,  0 ],\n",
    "                 [ 0,    0,   0,   0,   0,    0.96, 0.02, 0,    0.02,  0 ],\n",
    "                 [ 0,    0,   0,   0,   0,    0,    0.99, 0,    0,     0.01 ],\n",
    "                 [ 0,    0.1, 0.1, 0,   0,    0,    0,    0.70, 0,     0.1 ],\n",
    "                 [ 0.1,    0,   0,   0,   0,    0,    0,    0,    0.9,     0 ],\n",
    "                 [ 0,    0.2,   0,   0,   0,    0,    0,    0,    0,     0.8 ] ] )  \n",
    "\n",
    "ground_truth = get_ground_truth(M, imbalance)\n",
    "task = Evaluation(ground_truth , epsilon ) \n",
    "contexts_generator = FakeIds(M, imbalance )\n",
    "\n",
    "fig = go.Figure(    )\n",
    "\n",
    "# for alg, color, label in list(zip(algos, colors, labels))[::-1]:\n",
    "\n",
    "# alg = cpb_side_gaussian.RandCPB_side(game, 10, horizon, 1.01, 0.05, 1/8, 10, False, 10e-7)\n",
    "\n",
    "alg = random_algo.Random(  game, horizon, )\n",
    "\n",
    "estimates_history = task.eval_policy_once(alg, game, contexts_generator, jobid)\n",
    "\n",
    "    "
   ],
   "outputs": [
    {
     "output_type": "stream",
     "name": "stdout",
     "text": [
      "ground truth [0.58823529 0.30769231 0.03571429 0.         0.         0.\n",
      " 0.10810811 0.         0.1509434  0.3442623 ]\n",
      "0 [1000. 1000. 1000. 1000. 1000. 1000. 1000. 1000. 1000. 1000.]\n",
      "1 [1000. 1000. 1000. 1000. 1000. 1000. 1000. 1000. 1000. 1000.]\n",
      "2 [1000. 1000. 1000. 1000. 1000. 1000. 1000. 1000. 1000. 1000.]\n",
      "3 [1000. 1000. 1000. 1000. 1000. 1000. 1000. 1000. 1000. 1000.]\n"
     ]
    },
    {
     "output_type": "error",
     "ename": "AttributeError",
     "evalue": "'Random' object has no attribute 'contexts'",
     "traceback": [
      "\u001b[0;31m---------------------------------------------------------------------------\u001b[0m",
      "\u001b[0;31mAttributeError\u001b[0m                            Traceback (most recent call last)",
      "Input \u001b[0;32mIn [9]\u001b[0m, in \u001b[0;36m<cell line: 58>\u001b[0;34m()\u001b[0m\n\u001b[1;32m     52\u001b[0m \u001b[38;5;66;03m# for alg, color, label in list(zip(algos, colors, labels))[::-1]:\u001b[39;00m\n\u001b[1;32m     53\u001b[0m \n\u001b[1;32m     54\u001b[0m \u001b[38;5;66;03m# alg = cpb_side_gaussian.RandCPB_side(game, 10, horizon, 1.01, 0.05, 1/8, 10, False, 10e-7)\u001b[39;00m\n\u001b[1;32m     56\u001b[0m alg \u001b[38;5;241m=\u001b[39m random_algo\u001b[38;5;241m.\u001b[39mRandom(  game, horizon, )\n\u001b[0;32m---> 58\u001b[0m estimates_history \u001b[38;5;241m=\u001b[39m \u001b[43mtask\u001b[49m\u001b[38;5;241;43m.\u001b[39;49m\u001b[43meval_policy_once\u001b[49m\u001b[43m(\u001b[49m\u001b[43malg\u001b[49m\u001b[43m,\u001b[49m\u001b[43m \u001b[49m\u001b[43mgame\u001b[49m\u001b[43m,\u001b[49m\u001b[43m \u001b[49m\u001b[43mcontexts_generator\u001b[49m\u001b[43m,\u001b[49m\u001b[43m \u001b[49m\u001b[43mjobid\u001b[49m\u001b[43m)\u001b[49m\n",
      "Input \u001b[0;32mIn [1]\u001b[0m, in \u001b[0;36mEvaluation.eval_policy_once\u001b[0;34m(self, alg, game, context_generator, jobid)\u001b[0m\n\u001b[1;32m    103\u001b[0m     sim \u001b[38;5;241m=\u001b[39m np\u001b[38;5;241m.\u001b[39mzeros(\u001b[38;5;241m10\u001b[39m)\n\u001b[1;32m    104\u001b[0m     sim[i] \u001b[38;5;241m=\u001b[39m \u001b[38;5;241m1\u001b[39m\n\u001b[0;32m--> 105\u001b[0m     estimate \u001b[38;5;241m=\u001b[39m \u001b[43malg\u001b[49m\u001b[38;5;241;43m.\u001b[39;49m\u001b[43mcontexts\u001b[49m[\u001b[38;5;241m1\u001b[39m][\u001b[38;5;124m'\u001b[39m\u001b[38;5;124mweights\u001b[39m\u001b[38;5;124m'\u001b[39m] \u001b[38;5;241m@\u001b[39m sim\n\u001b[1;32m    106\u001b[0m     estimates\u001b[38;5;241m.\u001b[39mappend( estimate[\u001b[38;5;241m0\u001b[39m] )\n\u001b[1;32m    107\u001b[0m latest_estimate \u001b[38;5;241m=\u001b[39m estimates\n",
      "\u001b[0;31mAttributeError\u001b[0m: 'Random' object has no attribute 'contexts'"
     ]
    }
   ],
   "metadata": {}
  },
  {
   "cell_type": "code",
   "execution_count": 39,
   "source": [
    "estimates_history"
   ],
   "outputs": [
    {
     "output_type": "execute_result",
     "data": {
      "text/plain": [
       "0"
      ]
     },
     "metadata": {},
     "execution_count": 39
    }
   ],
   "metadata": {}
  },
  {
   "cell_type": "code",
   "execution_count": 20,
   "source": [
    "import pandas as pd\n",
    "\n",
    "\n",
    "\n",
    "\n",
    "\n",
    "df = np.vstack( [ np.array([0,1,2,3,4,5,6,7,8,9]),  np.round( final_probas , 2) ] ).T\n",
    "df = pd.DataFrame(df)\n",
    "df.columns = ['index', 'ground_truth'] \n",
    "\n",
    "for k in estimates_history.keys():\n",
    "    df[str(k)] = estimates_history[k]\n",
    "\n",
    "steps = round( (224 - 96) / len(estimates_history.keys() ) )\n",
    "greys = np.arange(224, 96, -steps)\n",
    "\n",
    "fig = go.Figure( )\n",
    "\n",
    "for i , k in enumerate( estimates_history.keys() ):\n",
    "    col = greys[i]\n",
    "    fig.add_trace(go.Scatter(x=df['index'], y=df[str(k)], line=dict(color='rgb({},{},{})'.format(col,col,col) ) ,mode='lines+markers',  name='{} rounds'.format(k),   showlegend=True ))\n",
    "\n",
    "fig.add_trace(go.Scatter(x=df['index'], y=df['ground_truth'], text = df['ground_truth'],  line=dict(color='rgb(255,0,0)' ), textfont=dict( family=\"sans serif\", size=18) ,mode='lines+markers+text',  name='Deployment Error (ground truth)',   showlegend=True ))\n",
    "\n",
    "fig.update_traces(textposition=\"top center\")\n",
    "\n",
    "fig.update_layout(yaxis_range=[-0.1,1])\n",
    "\n",
    "fig.show(legend=True)\n",
    "# fig.write_image(\"./estimates_imbalanced.png\")\n",
    "\n"
   ],
   "outputs": [
    {
     "output_type": "display_data",
     "data": {
      "application/vnd.plotly.v1+json": {
       "data": [
        {
         "line": {
          "color": "rgb(224,224,224)"
         },
         "mode": "lines+markers",
         "name": "10 rounds",
         "showlegend": true,
         "x": [
          0,
          1,
          2,
          3,
          4,
          5,
          6,
          7,
          8,
          9
         ],
         "y": [
          0,
          0,
          0,
          0,
          0,
          0,
          0,
          0,
          0,
          0
         ],
         "type": "scatter",
         "textposition": "top center"
        },
        {
         "line": {
          "color": "rgb(203,203,203)"
         },
         "mode": "lines+markers",
         "name": "100 rounds",
         "showlegend": true,
         "x": [
          0,
          1,
          2,
          3,
          4,
          5,
          6,
          7,
          8,
          9
         ],
         "y": [
          0.046296296296296294,
          0.018518518518518517,
          0.007812500000000002,
          0,
          0,
          0,
          0,
          0,
          0,
          0.009345794392523364
         ],
         "type": "scatter",
         "textposition": "top center"
        },
        {
         "line": {
          "color": "rgb(182,182,182)"
         },
         "mode": "lines+markers",
         "name": "200 rounds",
         "showlegend": true,
         "x": [
          0,
          1,
          2,
          3,
          4,
          5,
          6,
          7,
          8,
          9
         ],
         "y": [
          0.1,
          0.036036036036036036,
          0.006369426751592357,
          0,
          0,
          0,
          0.02459016393442623,
          0,
          0,
          0.01818181818181818
         ],
         "type": "scatter",
         "textposition": "top center"
        },
        {
         "line": {
          "color": "rgb(161,161,161)"
         },
         "mode": "lines+markers",
         "name": "1000 rounds",
         "showlegend": true,
         "x": [
          0,
          1,
          2,
          3,
          4,
          5,
          6,
          7,
          8,
          9
         ],
         "y": [
          0.2685714285714286,
          0.16463414634146342,
          0.015957446808510627,
          0,
          0,
          0,
          0.05607476635514018,
          0,
          0.025974025974025976,
          0.10062893081761007
         ],
         "type": "scatter",
         "textposition": "top center"
        },
        {
         "line": {
          "color": "rgb(140,140,140)"
         },
         "mode": "lines+markers",
         "name": "4000 rounds",
         "showlegend": true,
         "x": [
          0,
          1,
          2,
          3,
          4,
          5,
          6,
          7,
          8,
          9
         ],
         "y": [
          0.42670157068062803,
          0.23380281690140828,
          0.029523088569265745,
          0,
          0,
          0,
          0.08303249097472924,
          0,
          0.06688963210702338,
          0.21159420289855058
         ],
         "type": "scatter",
         "textposition": "top center"
        },
        {
         "line": {
          "color": "rgb(119,119,119)"
         },
         "mode": "lines+markers",
         "name": "8000 rounds",
         "showlegend": true,
         "x": [
          0,
          1,
          2,
          3,
          4,
          5,
          6,
          7,
          8,
          9
         ],
         "y": [
          0.47394957983193275,
          0.2775974025974026,
          0.03211198023878148,
          0,
          0,
          0,
          0.09726443768996967,
          0,
          0.10546875000000004,
          0.2647554806070826
         ],
         "type": "scatter",
         "textposition": "top center"
        },
        {
         "line": {
          "color": "rgb(255,0,0)"
         },
         "mode": "lines+markers+text",
         "name": "Deployment Error (ground truth)",
         "showlegend": true,
         "text": [
          0.59,
          0.31,
          0.04,
          0,
          0,
          0,
          0.11,
          0,
          0.15,
          0.34
         ],
         "textfont": {
          "family": "sans serif",
          "size": 18
         },
         "x": [
          0,
          1,
          2,
          3,
          4,
          5,
          6,
          7,
          8,
          9
         ],
         "y": [
          0.59,
          0.31,
          0.04,
          0,
          0,
          0,
          0.11,
          0,
          0.15,
          0.34
         ],
         "type": "scatter",
         "textposition": "top center"
        }
       ],
       "layout": {
        "template": {
         "data": {
          "bar": [
           {
            "error_x": {
             "color": "#2a3f5f"
            },
            "error_y": {
             "color": "#2a3f5f"
            },
            "marker": {
             "line": {
              "color": "#E5ECF6",
              "width": 0.5
             },
             "pattern": {
              "fillmode": "overlay",
              "size": 10,
              "solidity": 0.2
             }
            },
            "type": "bar"
           }
          ],
          "barpolar": [
           {
            "marker": {
             "line": {
              "color": "#E5ECF6",
              "width": 0.5
             },
             "pattern": {
              "fillmode": "overlay",
              "size": 10,
              "solidity": 0.2
             }
            },
            "type": "barpolar"
           }
          ],
          "carpet": [
           {
            "aaxis": {
             "endlinecolor": "#2a3f5f",
             "gridcolor": "white",
             "linecolor": "white",
             "minorgridcolor": "white",
             "startlinecolor": "#2a3f5f"
            },
            "baxis": {
             "endlinecolor": "#2a3f5f",
             "gridcolor": "white",
             "linecolor": "white",
             "minorgridcolor": "white",
             "startlinecolor": "#2a3f5f"
            },
            "type": "carpet"
           }
          ],
          "choropleth": [
           {
            "colorbar": {
             "outlinewidth": 0,
             "ticks": ""
            },
            "type": "choropleth"
           }
          ],
          "contour": [
           {
            "colorbar": {
             "outlinewidth": 0,
             "ticks": ""
            },
            "colorscale": [
             [
              0,
              "#0d0887"
             ],
             [
              0.1111111111111111,
              "#46039f"
             ],
             [
              0.2222222222222222,
              "#7201a8"
             ],
             [
              0.3333333333333333,
              "#9c179e"
             ],
             [
              0.4444444444444444,
              "#bd3786"
             ],
             [
              0.5555555555555556,
              "#d8576b"
             ],
             [
              0.6666666666666666,
              "#ed7953"
             ],
             [
              0.7777777777777778,
              "#fb9f3a"
             ],
             [
              0.8888888888888888,
              "#fdca26"
             ],
             [
              1,
              "#f0f921"
             ]
            ],
            "type": "contour"
           }
          ],
          "contourcarpet": [
           {
            "colorbar": {
             "outlinewidth": 0,
             "ticks": ""
            },
            "type": "contourcarpet"
           }
          ],
          "heatmap": [
           {
            "colorbar": {
             "outlinewidth": 0,
             "ticks": ""
            },
            "colorscale": [
             [
              0,
              "#0d0887"
             ],
             [
              0.1111111111111111,
              "#46039f"
             ],
             [
              0.2222222222222222,
              "#7201a8"
             ],
             [
              0.3333333333333333,
              "#9c179e"
             ],
             [
              0.4444444444444444,
              "#bd3786"
             ],
             [
              0.5555555555555556,
              "#d8576b"
             ],
             [
              0.6666666666666666,
              "#ed7953"
             ],
             [
              0.7777777777777778,
              "#fb9f3a"
             ],
             [
              0.8888888888888888,
              "#fdca26"
             ],
             [
              1,
              "#f0f921"
             ]
            ],
            "type": "heatmap"
           }
          ],
          "heatmapgl": [
           {
            "colorbar": {
             "outlinewidth": 0,
             "ticks": ""
            },
            "colorscale": [
             [
              0,
              "#0d0887"
             ],
             [
              0.1111111111111111,
              "#46039f"
             ],
             [
              0.2222222222222222,
              "#7201a8"
             ],
             [
              0.3333333333333333,
              "#9c179e"
             ],
             [
              0.4444444444444444,
              "#bd3786"
             ],
             [
              0.5555555555555556,
              "#d8576b"
             ],
             [
              0.6666666666666666,
              "#ed7953"
             ],
             [
              0.7777777777777778,
              "#fb9f3a"
             ],
             [
              0.8888888888888888,
              "#fdca26"
             ],
             [
              1,
              "#f0f921"
             ]
            ],
            "type": "heatmapgl"
           }
          ],
          "histogram": [
           {
            "marker": {
             "pattern": {
              "fillmode": "overlay",
              "size": 10,
              "solidity": 0.2
             }
            },
            "type": "histogram"
           }
          ],
          "histogram2d": [
           {
            "colorbar": {
             "outlinewidth": 0,
             "ticks": ""
            },
            "colorscale": [
             [
              0,
              "#0d0887"
             ],
             [
              0.1111111111111111,
              "#46039f"
             ],
             [
              0.2222222222222222,
              "#7201a8"
             ],
             [
              0.3333333333333333,
              "#9c179e"
             ],
             [
              0.4444444444444444,
              "#bd3786"
             ],
             [
              0.5555555555555556,
              "#d8576b"
             ],
             [
              0.6666666666666666,
              "#ed7953"
             ],
             [
              0.7777777777777778,
              "#fb9f3a"
             ],
             [
              0.8888888888888888,
              "#fdca26"
             ],
             [
              1,
              "#f0f921"
             ]
            ],
            "type": "histogram2d"
           }
          ],
          "histogram2dcontour": [
           {
            "colorbar": {
             "outlinewidth": 0,
             "ticks": ""
            },
            "colorscale": [
             [
              0,
              "#0d0887"
             ],
             [
              0.1111111111111111,
              "#46039f"
             ],
             [
              0.2222222222222222,
              "#7201a8"
             ],
             [
              0.3333333333333333,
              "#9c179e"
             ],
             [
              0.4444444444444444,
              "#bd3786"
             ],
             [
              0.5555555555555556,
              "#d8576b"
             ],
             [
              0.6666666666666666,
              "#ed7953"
             ],
             [
              0.7777777777777778,
              "#fb9f3a"
             ],
             [
              0.8888888888888888,
              "#fdca26"
             ],
             [
              1,
              "#f0f921"
             ]
            ],
            "type": "histogram2dcontour"
           }
          ],
          "mesh3d": [
           {
            "colorbar": {
             "outlinewidth": 0,
             "ticks": ""
            },
            "type": "mesh3d"
           }
          ],
          "parcoords": [
           {
            "line": {
             "colorbar": {
              "outlinewidth": 0,
              "ticks": ""
             }
            },
            "type": "parcoords"
           }
          ],
          "pie": [
           {
            "automargin": true,
            "type": "pie"
           }
          ],
          "scatter": [
           {
            "marker": {
             "colorbar": {
              "outlinewidth": 0,
              "ticks": ""
             }
            },
            "type": "scatter"
           }
          ],
          "scatter3d": [
           {
            "line": {
             "colorbar": {
              "outlinewidth": 0,
              "ticks": ""
             }
            },
            "marker": {
             "colorbar": {
              "outlinewidth": 0,
              "ticks": ""
             }
            },
            "type": "scatter3d"
           }
          ],
          "scattercarpet": [
           {
            "marker": {
             "colorbar": {
              "outlinewidth": 0,
              "ticks": ""
             }
            },
            "type": "scattercarpet"
           }
          ],
          "scattergeo": [
           {
            "marker": {
             "colorbar": {
              "outlinewidth": 0,
              "ticks": ""
             }
            },
            "type": "scattergeo"
           }
          ],
          "scattergl": [
           {
            "marker": {
             "colorbar": {
              "outlinewidth": 0,
              "ticks": ""
             }
            },
            "type": "scattergl"
           }
          ],
          "scattermapbox": [
           {
            "marker": {
             "colorbar": {
              "outlinewidth": 0,
              "ticks": ""
             }
            },
            "type": "scattermapbox"
           }
          ],
          "scatterpolar": [
           {
            "marker": {
             "colorbar": {
              "outlinewidth": 0,
              "ticks": ""
             }
            },
            "type": "scatterpolar"
           }
          ],
          "scatterpolargl": [
           {
            "marker": {
             "colorbar": {
              "outlinewidth": 0,
              "ticks": ""
             }
            },
            "type": "scatterpolargl"
           }
          ],
          "scatterternary": [
           {
            "marker": {
             "colorbar": {
              "outlinewidth": 0,
              "ticks": ""
             }
            },
            "type": "scatterternary"
           }
          ],
          "surface": [
           {
            "colorbar": {
             "outlinewidth": 0,
             "ticks": ""
            },
            "colorscale": [
             [
              0,
              "#0d0887"
             ],
             [
              0.1111111111111111,
              "#46039f"
             ],
             [
              0.2222222222222222,
              "#7201a8"
             ],
             [
              0.3333333333333333,
              "#9c179e"
             ],
             [
              0.4444444444444444,
              "#bd3786"
             ],
             [
              0.5555555555555556,
              "#d8576b"
             ],
             [
              0.6666666666666666,
              "#ed7953"
             ],
             [
              0.7777777777777778,
              "#fb9f3a"
             ],
             [
              0.8888888888888888,
              "#fdca26"
             ],
             [
              1,
              "#f0f921"
             ]
            ],
            "type": "surface"
           }
          ],
          "table": [
           {
            "cells": {
             "fill": {
              "color": "#EBF0F8"
             },
             "line": {
              "color": "white"
             }
            },
            "header": {
             "fill": {
              "color": "#C8D4E3"
             },
             "line": {
              "color": "white"
             }
            },
            "type": "table"
           }
          ]
         },
         "layout": {
          "annotationdefaults": {
           "arrowcolor": "#2a3f5f",
           "arrowhead": 0,
           "arrowwidth": 1
          },
          "autotypenumbers": "strict",
          "coloraxis": {
           "colorbar": {
            "outlinewidth": 0,
            "ticks": ""
           }
          },
          "colorscale": {
           "diverging": [
            [
             0,
             "#8e0152"
            ],
            [
             0.1,
             "#c51b7d"
            ],
            [
             0.2,
             "#de77ae"
            ],
            [
             0.3,
             "#f1b6da"
            ],
            [
             0.4,
             "#fde0ef"
            ],
            [
             0.5,
             "#f7f7f7"
            ],
            [
             0.6,
             "#e6f5d0"
            ],
            [
             0.7,
             "#b8e186"
            ],
            [
             0.8,
             "#7fbc41"
            ],
            [
             0.9,
             "#4d9221"
            ],
            [
             1,
             "#276419"
            ]
           ],
           "sequential": [
            [
             0,
             "#0d0887"
            ],
            [
             0.1111111111111111,
             "#46039f"
            ],
            [
             0.2222222222222222,
             "#7201a8"
            ],
            [
             0.3333333333333333,
             "#9c179e"
            ],
            [
             0.4444444444444444,
             "#bd3786"
            ],
            [
             0.5555555555555556,
             "#d8576b"
            ],
            [
             0.6666666666666666,
             "#ed7953"
            ],
            [
             0.7777777777777778,
             "#fb9f3a"
            ],
            [
             0.8888888888888888,
             "#fdca26"
            ],
            [
             1,
             "#f0f921"
            ]
           ],
           "sequentialminus": [
            [
             0,
             "#0d0887"
            ],
            [
             0.1111111111111111,
             "#46039f"
            ],
            [
             0.2222222222222222,
             "#7201a8"
            ],
            [
             0.3333333333333333,
             "#9c179e"
            ],
            [
             0.4444444444444444,
             "#bd3786"
            ],
            [
             0.5555555555555556,
             "#d8576b"
            ],
            [
             0.6666666666666666,
             "#ed7953"
            ],
            [
             0.7777777777777778,
             "#fb9f3a"
            ],
            [
             0.8888888888888888,
             "#fdca26"
            ],
            [
             1,
             "#f0f921"
            ]
           ]
          },
          "colorway": [
           "#636efa",
           "#EF553B",
           "#00cc96",
           "#ab63fa",
           "#FFA15A",
           "#19d3f3",
           "#FF6692",
           "#B6E880",
           "#FF97FF",
           "#FECB52"
          ],
          "font": {
           "color": "#2a3f5f"
          },
          "geo": {
           "bgcolor": "white",
           "lakecolor": "white",
           "landcolor": "#E5ECF6",
           "showlakes": true,
           "showland": true,
           "subunitcolor": "white"
          },
          "hoverlabel": {
           "align": "left"
          },
          "hovermode": "closest",
          "mapbox": {
           "style": "light"
          },
          "paper_bgcolor": "white",
          "plot_bgcolor": "#E5ECF6",
          "polar": {
           "angularaxis": {
            "gridcolor": "white",
            "linecolor": "white",
            "ticks": ""
           },
           "bgcolor": "#E5ECF6",
           "radialaxis": {
            "gridcolor": "white",
            "linecolor": "white",
            "ticks": ""
           }
          },
          "scene": {
           "xaxis": {
            "backgroundcolor": "#E5ECF6",
            "gridcolor": "white",
            "gridwidth": 2,
            "linecolor": "white",
            "showbackground": true,
            "ticks": "",
            "zerolinecolor": "white"
           },
           "yaxis": {
            "backgroundcolor": "#E5ECF6",
            "gridcolor": "white",
            "gridwidth": 2,
            "linecolor": "white",
            "showbackground": true,
            "ticks": "",
            "zerolinecolor": "white"
           },
           "zaxis": {
            "backgroundcolor": "#E5ECF6",
            "gridcolor": "white",
            "gridwidth": 2,
            "linecolor": "white",
            "showbackground": true,
            "ticks": "",
            "zerolinecolor": "white"
           }
          },
          "shapedefaults": {
           "line": {
            "color": "#2a3f5f"
           }
          },
          "ternary": {
           "aaxis": {
            "gridcolor": "white",
            "linecolor": "white",
            "ticks": ""
           },
           "baxis": {
            "gridcolor": "white",
            "linecolor": "white",
            "ticks": ""
           },
           "bgcolor": "#E5ECF6",
           "caxis": {
            "gridcolor": "white",
            "linecolor": "white",
            "ticks": ""
           }
          },
          "title": {
           "x": 0.05
          },
          "xaxis": {
           "automargin": true,
           "gridcolor": "white",
           "linecolor": "white",
           "ticks": "",
           "title": {
            "standoff": 15
           },
           "zerolinecolor": "white",
           "zerolinewidth": 2
          },
          "yaxis": {
           "automargin": true,
           "gridcolor": "white",
           "linecolor": "white",
           "ticks": "",
           "title": {
            "standoff": 15
           },
           "zerolinecolor": "white",
           "zerolinewidth": 2
          }
         }
        },
        "yaxis": {
         "range": [
          -0.1,
          1
         ]
        }
       },
       "config": {
        "plotlyServerURL": "https://plot.ly"
       }
      }
     },
     "metadata": {}
    }
   ],
   "metadata": {}
  },
  {
   "cell_type": "code",
   "execution_count": 26,
   "source": [
    "( abs( final_probas - estimates_history[8000] ) <= 0.025 ).all()"
   ],
   "outputs": [
    {
     "output_type": "execute_result",
     "data": {
      "text/plain": [
       "False"
      ]
     },
     "metadata": {},
     "execution_count": 26
    }
   ],
   "metadata": {}
  },
  {
   "cell_type": "code",
   "execution_count": null,
   "source": [
    "import gzip\n",
    "import pickle as pkl\n",
    "\n",
    "n_cores = 8\n",
    "n_folds = 25\n",
    "horizon = 2500\n",
    "\n",
    "game = games.apple_tasting(False)\n",
    "\n",
    "algos = [ random_algo.Random(  game, horizon, ),    \n",
    "          cpb_side.CPB_side(  game, horizon, 1.01, 0.05), \n",
    "          cpb_side_gaussian.RandCPB_side(game, horizon, 1.01, 0.05, 1/8, 10, False, 10e-7),\n",
    "          linucb.LinUCB(game, horizon, 1.01)   ] #cpb_side_gaussian.CPB_side_gauss(game, horizon, 1/16, 10)\n",
    "\n",
    "colors = [  [0,0,0], [250,0,0], [0,250,0] , [0,0,250]  ] #, [250,0,0]\n",
    "labels = [  'random', 'CBP-side 0.05',  'RandCPB-side 0.001', 'linUCB' ] #  'Rand CPB-side'\n",
    "\n",
    "fig = go.Figure( )\n",
    "\n",
    "for alg, color, label in zip( algos, colors, labels):\n",
    "\n",
    "    r,g,b = color\n",
    "    result = evaluate_parallel(n_cores, n_folds, horizon, alg, game, 'easy')\n",
    "    np.save('./results/apple_tasting/easy_context_{}_{}_{}'.format(horizon,n_folds, label), result)\n",
    "    regret =  np.mean(result,0) \n",
    "    \n",
    "    xcoords = np.arange(0,horizon,1).tolist()\n",
    "    std =  np.std(result,0) \n",
    "    upper_regret = regret + std\n",
    "\n",
    "    fig.add_trace(go.Scatter(x=xcoords, y=regret, line=dict(color='rgb({},{},{})'.format(r,g,b)), mode='lines',  name=label )) # \n",
    "\n",
    "    fig.add_trace(   go.Scatter( x=xcoords+xcoords[::-1], y=upper_regret.tolist()+regret.tolist()[::-1],  fill='toself', fillcolor='rgba({},{},{},0.2)'.format(r,g,b), \n",
    "                         line=dict(color='rgba(255,255,255,0)'),   hoverinfo=\"skip\",  showlegend=False )  )\n",
    "    \n",
    "fig.update_layout(legend= dict(yanchor=\"top\",y=0.98,xanchor=\"left\",x=0.77), autosize=False,\n",
    "                 xaxis_title=\"Sequence\",\n",
    "                 yaxis_title=\"Regret\",\n",
    "                 margin=go.layout.Margin( l=0,   r=0,   b=0,    t=0, ), \n",
    "                  font=dict(size=13,) )\n",
    "\n",
    "fig.show(legend=True)\n",
    "\n",
    "# fig.write_image(\"./easy_AT_context.pdf\")\n",
    "\n",
    "#fig.update_xaxes(type=\"log\")\n",
    "# fig.write_image(\"./easy_AT_context_log.pdf\")\n",
    "\n",
    "fig.show()"
   ],
   "outputs": [],
   "metadata": {}
  }
 ],
 "metadata": {
  "interpreter": {
   "hash": "0215ed8d73c40df5de54d647d65b604dcf02460a7de2b27ed9878602c67cf72c"
  },
  "kernelspec": {
   "name": "python3",
   "display_name": "Python 3.9.15 64-bit ('climate-ai': conda)"
  },
  "language_info": {
   "codemirror_mode": {
    "name": "ipython",
    "version": 3
   },
   "file_extension": ".py",
   "mimetype": "text/x-python",
   "name": "python",
   "nbconvert_exporter": "python",
   "pygments_lexer": "ipython3",
   "version": "3.9.15"
  },
  "orig_nbformat": 4
 },
 "nbformat": 4,
 "nbformat_minor": 2
}