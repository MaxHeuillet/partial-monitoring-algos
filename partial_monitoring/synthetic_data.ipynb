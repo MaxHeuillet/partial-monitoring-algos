{
 "cells": [
  {
   "cell_type": "code",
   "execution_count": 1,
   "source": [
    "import numpy as np\n",
    "import matplotlib.pyplot as plt\n",
    "import synthetic_data\n",
    "\n",
    "# d = 2\n",
    "# margin = 0.2 #np.random.uniform(0,0.5)\n",
    "\n",
    "# b = np.random.uniform(-0.2,0.2)\n",
    "# w = np.random.uniform(-1,1, d) \n",
    "\n",
    "\n",
    "# classA, classB = [], []\n",
    "# for _ in range(1000):\n",
    "#     point = np.random.uniform(-1, 1, d)\n",
    "#     if w.T @ point + b > margin:\n",
    "#         classA.append(point)\n",
    "#     elif w.T @ point + b < -margin:\n",
    "#         classB.append(point)\n",
    "\n",
    "# #if len(classA)>0 and len(classB)>0:\n",
    "# classA = np.array( classA )\n",
    "# classB = np.array( classB )\n",
    "# plt.plot( classA[:,0] , classA[:,1] ,  'o', color = 'red')\n",
    "# plt.plot( classB[:,0] , classB[:,1] ,  'o', color = 'blue')\n",
    "\n",
    "\n",
    "contexts = synthetic_data.LinearContexts(2, 0)\n",
    "contexts.make_task()\n",
    "# contexts.get_context(0)\n",
    "contexts.generate_unique_context()\n",
    "\n"
   ],
   "outputs": [],
   "metadata": {}
  },
  {
   "cell_type": "code",
   "execution_count": 21,
   "source": [
    "contexts.get_same_context(1)"
   ],
   "outputs": [
    {
     "output_type": "execute_result",
     "data": {
      "text/plain": [
       "array([ 0.05360788, -0.9819622 ])"
      ]
     },
     "metadata": {},
     "execution_count": 21
    }
   ],
   "metadata": {}
  },
  {
   "cell_type": "code",
   "execution_count": 35,
   "source": [
    "\n",
    "b = 0.2\n",
    "a = 0.7\n",
    "margin = 0.5\n",
    "\n",
    "classA, classB = [], []\n",
    "for _ in range(10000):\n",
    "    point = np.random.uniform(-1, 1, 2)\n",
    "    if ( point[0] / a)**2 + ( point[1] / b)**2 > 1 + margin:\n",
    "        classA.append(point)\n",
    "    elif ( point[0] / a)**2 + ( point[1] / b)**2 < 1 - margin:\n",
    "        classB.append(point)\n",
    "\n",
    "classA = np.array( classA )\n",
    "classB = np.array( classB )\n",
    "plt.plot( classA[:,0] , classA[:,1] ,  'o', color = 'red')\n",
    "plt.plot( classB[:,0] , classB[:,1] ,  'o', color = 'blue')"
   ],
   "outputs": [
    {
     "output_type": "execute_result",
     "data": {
      "text/plain": [
       "[<matplotlib.lines.Line2D at 0x7f99fb0c9df0>]"
      ]
     },
     "metadata": {},
     "execution_count": 35
    },
    {
     "output_type": "display_data",
     "data": {
      "image/png": "[encoded data removed]",
      "text/plain": [
       "<Figure size 432x288 with 1 Axes>"
      ]
     },
     "metadata": {
      "needs_background": "light"
     }
    }
   ],
   "metadata": {}
  },
  {
   "cell_type": "code",
   "execution_count": null,
   "source": [],
   "outputs": [],
   "metadata": {}
  }
 ],
 "metadata": {
  "orig_nbformat": 4,
  "language_info": {
   "name": "python",
   "version": "3.9.7",
   "mimetype": "text/x-python",
   "codemirror_mode": {
    "name": "ipython",
    "version": 3
   },
   "pygments_lexer": "ipython3",
   "nbconvert_exporter": "python",
   "file_extension": ".py"
  },
  "kernelspec": {
   "name": "python3",
   "display_name": "Python 3.9.7 64-bit ('base': conda)"
  },
  "interpreter": {
   "hash": "344d6e1eb6c69a09b391ba62eeebc9dd41b2e6460265f57d872a624609e34999"
  }
 },
 "nbformat": 4,
 "nbformat_minor": 2
}