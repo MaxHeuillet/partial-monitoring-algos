{
 "cells": [
  {
   "cell_type": "code",
   "execution_count": 2,
   "source": [
    "import numpy as np\n",
    "import matplotlib.pyplot as plt\n",
    "import synthetic_data\n",
    "\n",
    "# d = 2\n",
    "# margin = 0.2 #np.random.uniform(0,0.5)\n",
    "\n",
    "# b = np.random.uniform(-0.2,0.2)\n",
    "# w = np.random.uniform(-1,1, d) \n",
    "\n",
    "\n",
    "# classA, classB = [], []\n",
    "# for _ in range(1000):\n",
    "#     point = np.random.uniform(-1, 1, d)\n",
    "#     if w.T @ point + b > margin:\n",
    "#         classA.append(point)\n",
    "#     elif w.T @ point + b < -margin:\n",
    "#         classB.append(point)\n",
    "\n",
    "# #if len(classA)>0 and len(classB)>0:\n",
    "# classA = np.array( classA )\n",
    "# classB = np.array( classB )\n",
    "# plt.plot( classA[:,0] , classA[:,1] ,  'o', color = 'red')\n",
    "# plt.plot( classB[:,0] , classB[:,1] ,  'o', color = 'blue')\n",
    "# contexts.make_task()\n",
    "\n",
    "\n",
    "from numpy.linalg import norm\n",
    "# contexts = synthetic_data.LinearContexts( np.array([0.5,0.5]), 0, 2, 0.01)\n",
    "\n",
    "# contexts.generate_unique_context()\n",
    "      \n",
    "# classA, classB = [], []\n",
    "\n",
    "# for _ in range(1000):\n",
    "#     c0 = contexts.get_same_context(0) \n",
    "#     c1 = contexts.get_same_context(1) \n",
    "\n",
    "\n",
    "#     classA.append( c0 )\n",
    "#     classB.append( c1 )\n",
    "\n",
    "# classA = np.array( classA )\n",
    "# classB = np.array( classB )\n",
    "# plt.plot( classA[:,0] , classA[:,1] ,  'o', color = 'red')\n",
    "# plt.plot( classB[:,0] , classB[:,1] ,  'o', color = 'blue')\n"
   ],
   "outputs": [],
   "metadata": {}
  },
  {
   "cell_type": "code",
   "execution_count": 6,
   "source": [
    "class ToyContexts:\n",
    "\n",
    "    def __init__(self, ):\n",
    "        pass\n",
    "\n",
    "    def get_context(self, label):\n",
    "        while True:\n",
    "            context = np.random.uniform(0, 1, 1 )\n",
    "            if   context >= 0.5 and label == 0:\n",
    "                return [1,context] #/ norm(context, 1)\n",
    "            elif  context < 0.5 and label == 1:\n",
    "                return context #/ norm(context, 1)\n",
    "\n",
    "    def generate_unique_context(self,):\n",
    "        self.context_A = None\n",
    "        self.context_B = None\n",
    "        while  self.context_A == None or self.context_B == None:\n",
    "            context = np.random.uniform(0, 1, 1)\n",
    "            if context >= 0.5 and self.context_A == None :\n",
    "                self.context_A = context #/ norm(context, 1)\n",
    "            elif context < 0.5 and self.context_B == None:\n",
    "                self.context_B = context #/ norm(context, 1)\n",
    "\n",
    "    def get_same_context(self, label):\n",
    "        if label == 0:\n",
    "                return self.context_A\n",
    "        elif label == 1:\n",
    "                return self.context_B\n",
    "\n",
    "contexts = ToyContexts(  )\n",
    "contexts.generate_unique_context()\n",
    "      \n",
    "classA, classB = [], []\n",
    "\n",
    "for _ in range(1000):\n",
    "    c0 = contexts.get_context(0) \n",
    "    c1 = contexts.get_context(1) \n",
    "\n",
    "    classA.append( [1,c0] )\n",
    "    classB.append( [1,c1] )\n",
    "\n",
    "classA = np.array( classA , dtype=object)\n",
    "classB = np.array( classB , dtype=object)\n",
    "plt.plot( classA[:,0] , classA[:,1] ,  'o', color = 'red')\n",
    "plt.plot( classB[:,0] , classB[:,1] ,  'o', color = 'blue')"
   ],
   "outputs": [
    {
     "output_type": "execute_result",
     "data": {
      "text/plain": [
       "[<matplotlib.lines.Line2D at 0x7febd9135400>]"
      ]
     },
     "metadata": {},
     "execution_count": 6
    },
    {
     "output_type": "display_data",
     "data": {
      "image/png": "[encoded data removed]",
      "text/plain": [
       "<Figure size 432x288 with 1 Axes>"
      ]
     },
     "metadata": {
      "needs_background": "light"
     }
    }
   ],
   "metadata": {}
  },
  {
   "cell_type": "code",
   "execution_count": 35,
   "source": [
    "\n",
    "b = 0.2\n",
    "a = 0.7\n",
    "margin = 0.5\n",
    "\n",
    "classA, classB = [], []\n",
    "for _ in range(10000):\n",
    "    point = np.random.uniform(-1, 1, 2)\n",
    "    if ( point[0] / a)**2 + ( point[1] / b)**2 > 1 + margin:\n",
    "        classA.append(point)\n",
    "    elif ( point[0] / a)**2 + ( point[1] / b)**2 < 1 - margin:\n",
    "        classB.append(point)\n",
    "\n",
    "classA = np.array( classA )\n",
    "classB = np.array( classB )\n",
    "plt.plot( classA[:,0] , classA[:,1] ,  'o', color = 'red')\n",
    "plt.plot( classB[:,0] , classB[:,1] ,  'o', color = 'blue')"
   ],
   "outputs": [
    {
     "output_type": "execute_result",
     "data": {
      "text/plain": [
       "[<matplotlib.lines.Line2D at 0x7f99fb0c9df0>]"
      ]
     },
     "metadata": {},
     "execution_count": 35
    },
    {
     "output_type": "display_data",
     "data": {
      "image/png": "[encoded data removed]",
      "text/plain": [
       "<Figure size 432x288 with 1 Axes>"
      ]
     },
     "metadata": {
      "needs_background": "light"
     }
    }
   ],
   "metadata": {}
  },
  {
   "cell_type": "code",
   "execution_count": null,
   "source": [],
   "outputs": [],
   "metadata": {}
  }
 ],
 "metadata": {
  "orig_nbformat": 4,
  "language_info": {
   "name": "python",
   "version": "3.9.7",
   "mimetype": "text/x-python",
   "codemirror_mode": {
    "name": "ipython",
    "version": 3
   },
   "pygments_lexer": "ipython3",
   "nbconvert_exporter": "python",
   "file_extension": ".py"
  },
  "kernelspec": {
   "name": "python3",
   "display_name": "Python 3.9.7 64-bit ('climate-ai': conda)"
  },
  "interpreter": {
   "hash": "0215ed8d73c40df5de54d647d65b604dcf02460a7de2b27ed9878602c67cf72c"
  }
 },
 "nbformat": 4,
 "nbformat_minor": 2
}