{
 "cells": [
  {
   "cell_type": "code",
   "execution_count": 1,
   "source": [
    "import numpy as np\n",
    "import matplotlib.pyplot as plt\n",
    "\n",
    "import numpy as np\n",
    "import games\n",
    "\n",
    "import TSPM\n",
    "import PM_DMED\n",
    "import cbp\n",
    "import randcbp\n",
    "import bpm\n",
    "import randcbp\n",
    "\n",
    "class Evaluation:\n",
    "\n",
    "    def __init__(self, horizon,type ):\n",
    "        self.type = type\n",
    "        self.horizon = horizon\n",
    "\n",
    "    def get_outcomes(self, game):\n",
    "        outcomes = np.random.choice( game.n_outcomes , p= list( game.outcome_dist.values() ), size= self.horizon) \n",
    "        return outcomes\n",
    "\n",
    "    def get_feedback(self, game, action, outcome):\n",
    "        return game.FeedbackMatrix[ action ][ outcome ]\n",
    "\n",
    "    def eval_policy_once(self, alg, game, job):\n",
    "\n",
    "        alg.reset()\n",
    "\n",
    "        distribution, jobid = job\n",
    "\n",
    "        np.random.seed(jobid)\n",
    "\n",
    "        outcome_distribution =  {'spam':distribution[0],'ham':distribution[1]}\n",
    "\n",
    "        game.set_outcome_distribution( outcome_distribution, jobid )\n",
    "\n",
    "        action_counter = np.zeros( (game.n_actions, self.horizon) )\n",
    "        outcomes = self.get_outcomes(game)\n",
    "\n",
    "        for t in range(self.horizon):\n",
    "\n",
    "            # policy chooses one action\n",
    "            action = alg.get_action(t)\n",
    "\n",
    "            # Environment chooses one outcome\n",
    "            outcome = outcomes[t]\n",
    "\n",
    "            # print('t', t, 'action', action, 'outcome', outcome, )\n",
    "            feedback =  self.get_feedback( game, action, outcome )\n",
    "\n",
    "            alg.update(action, feedback, outcome, None, t)\n",
    "\n",
    "            for i in range(game.n_actions):\n",
    "                if i == action:\n",
    "                    action_counter[i][t] = action_counter[i][t-1] +1\n",
    "                else:\n",
    "                    action_counter[i][t] = action_counter[i][t-1]\n",
    "\n",
    "        regret = np.array( [ game.delta(i) for i in range(game.n_actions) ] ).T @ action_counter\n",
    "\n",
    "        return regret"
   ],
   "outputs": [],
   "metadata": {}
  },
  {
   "cell_type": "code",
   "execution_count": 3,
   "source": [
    "horizon = 100\n",
    "jobid = 3\n",
    "p = 0.8\n",
    "job = [p, 1-p], jobid \n",
    "\n",
    "fig, axes = plt.subplots(nrows=1, ncols=2, figsize=(5, 3))\n",
    "\n",
    "for ax, game in enumerate( [  games.apple_tasting(False), games.label_efficient() ] ):\n",
    "\n",
    "    ev = Evaluation(horizon, None)\n",
    "\n",
    "    ###### PM-DMED:\n",
    "    c =1 \n",
    "    alg = PM_DMED.PM_DMED( game, horizon, c) \n",
    "    result_pmdmed = ev.eval_policy_once(alg, game, job)\n",
    "\n",
    "    ###### CBP:\n",
    "    alpha = 1.01\n",
    "    alg = cbp.CBP(  game, horizon, alpha )\n",
    "    result_cbp = ev.eval_policy_once(alg, game, job)\n",
    "\n",
    "    ###### RandCBP:\n",
    "    alpha = 1.01\n",
    "    sigma = 1\n",
    "    K = 20\n",
    "    epsilon = 10e-7\n",
    "    alg = randcbp.RandCBP(  game, horizon, alpha, sigma, K, epsilon) \n",
    "    result_randcbp = ev.eval_policy_once(alg, game, job)\n",
    "\n",
    "    ###### BPMleast:\n",
    "    alg = bpm.BPM(  game, horizon )\n",
    "    result_bpmleast = ev.eval_policy_once(alg, game, job)\n",
    "\n",
    "    ##### BPM-TS:\n",
    "    R = 0\n",
    "    alg = TSPM.TSPM_alg(  game, horizon, R) \n",
    "    result_bpmts = ev.eval_policy_once(alg, game, job)\n",
    "\n",
    "    ###### TSPM:\n",
    "    R = 1\n",
    "    alg = TSPM.TSPM_alg(  game,horizon, R) \n",
    "    result_tspm = ev.eval_policy_once(alg, game, job)\n",
    "\n",
    "    axes[ax].plot(range(horizon), result_pmdmed, label = 'pm-dmed' )\n",
    "    axes[ax].plot(range(horizon), result_cbp, label = 'cbp' )\n",
    "    axes[ax].plot(range(horizon), result_randcbp, label = 'randcbp' )\n",
    "    axes[ax].plot(range(horizon), result_bpmleast, label = 'bpm-least' )\n",
    "    axes[ax].plot(range(horizon), result_bpmts, label = 'bpm-ts' )\n",
    "    axes[ax].plot(range(horizon), result_tspm, label = 'tspm' )\n",
    "\n",
    "plt.legend()"
   ],
   "outputs": [
    {
     "output_type": "stream",
     "name": "stdout",
     "text": [
      "n-actions 2 n-outcomes 2 alphabet 3\n",
      "n-actions 2 n-outcomes 2\n",
      "n-actions 2 n-outcomes 2\n",
      "n-actions 2 n-outcomes 2\n",
      "n-actions 3 n-outcomes 2 alphabet 3\n",
      "n-actions 3 n-outcomes 2\n",
      "n-actions 3 n-outcomes 2\n",
      "n-actions 3 n-outcomes 2\n"
     ]
    },
    {
     "output_type": "execute_result",
     "data": {
      "text/plain": [
       "<matplotlib.legend.Legend at 0x7fa34c80c3a0>"
      ]
     },
     "metadata": {},
     "execution_count": 3
    },
    {
     "output_type": "display_data",
     "data": {
      "image/png": "[encoded data removed]",
      "text/plain": [
       "<Figure size 360x216 with 2 Axes>"
      ]
     },
     "metadata": {
      "needs_background": "light"
     }
    }
   ],
   "metadata": {}
  }
 ],
 "metadata": {
  "kernelspec": {
   "name": "python3",
   "display_name": "Python 3.9.15 64-bit ('climate-ai': conda)"
  },
  "language_info": {
   "codemirror_mode": {
    "name": "ipython",
    "version": 3
   },
   "file_extension": ".py",
   "mimetype": "text/x-python",
   "name": "python",
   "nbconvert_exporter": "python",
   "pygments_lexer": "ipython3",
   "version": "3.9.15"
  },
  "orig_nbformat": 4,
  "vscode": {
   "interpreter": {
    "hash": "ea0114cb9172efb607fa3d4693544b55f200153fae449834f41fe7defbe1701a"
   }
  },
  "interpreter": {
   "hash": "0215ed8d73c40df5de54d647d65b604dcf02460a7de2b27ed9878602c67cf72c"
  }
 },
 "nbformat": 4,
 "nbformat_minor": 2
}