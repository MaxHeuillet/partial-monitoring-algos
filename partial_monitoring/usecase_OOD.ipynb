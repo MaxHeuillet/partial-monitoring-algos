{
 "cells": [
  {
   "cell_type": "code",
   "execution_count": 130,
   "source": [
    "\n",
    "import scipy.stats as ss\n",
    "import numpy as np\n",
    "import matplotlib.pyplot as plt\n",
    "\n",
    "x = np.array([0, 1, 2, 3, 4, 5, 6, 7, 8, 9])\n",
    "\n",
    "perturbation_rate = 0.2\n",
    "n_classes = 10\n",
    "\n",
    "y = np.ones( n_classes) / n_classes\n",
    "z = gaussian_distribution(5, 2)\n",
    "k = multinomial_distribution(2, 1, 7, 0.1)\n",
    "\n",
    "\n",
    "fig, ax = plt.subplots( nrows=1, ncols=1 )\n",
    "\n",
    "ax.bar(x-0.2, y, width=0.2, color='b', align='center', label='Uniform')\n",
    "ax.bar(x, z, width=0.2, color='g', align='center', label='Gaussian')\n",
    "ax.bar(x+0.2, k, width=0.2, color='r', align='center', label='Bimodal Gaussian')\n",
    "ax.legend()\n",
    "plt.ylabel('Probability')\n",
    "plt.xlabel('Digits')\n",
    "plt.show()\n",
    "fig.savefig('in_distribution.pdf', bbox_inches='tight' )\n",
    "\n",
    "print(y)\n",
    "print(z)\n",
    "print(k)"
   ],
   "outputs": [
    {
     "output_type": "display_data",
     "data": {
      "image/png": "[encoded data removed]",
      "text/plain": [
       "<Figure size 432x288 with 1 Axes>"
      ]
     },
     "metadata": {
      "needs_background": "light"
     }
    },
    {
     "output_type": "stream",
     "name": "stdout",
     "text": [
      "[0.1 0.1 0.1 0.1 0.1 0.1 0.1 0.1 0.1 0.1]\n",
      "[0.00938744 0.02826442 0.06660327 0.12284535 0.17736299 0.2004605\n",
      " 0.17736299 0.12284535 0.06660327 0.02826442]\n",
      "[3.03931336e-02 1.21241604e-01 1.92058772e-01 1.21241604e-01\n",
      " 3.03931336e-02 2.99782587e-03 1.15116446e-04 5.01558658e-01\n",
      " 1.53276385e-07 2.01265511e-11]\n"
     ]
    }
   ],
   "metadata": {}
  },
  {
   "cell_type": "code",
   "execution_count": 54,
   "source": [
    "import numpy as np\n",
    "import matplotlib.pyplot as plt\n",
    "\n",
    "switches = { 0:[6, 8, 9], 1:[4, 7], 2:[3], 3:[8, 9], 4:[8], 5:[6, 8], 6:[8], 7:[4, 8], 8:[0], 9:[8] }\n",
    "p_attack = 0.2\n",
    "p_attack_per_label = np.array( [3.03931336e-02, 1.21241604e-01, 1.92058772e-01, 1.21241604e-01, 3.03931336e-02, 2.99782587e-03, 1.15116446e-04, 5.01558658e-01, 1.53276385e-07, 2.01265511e-11 ] )\n",
    "attacks_cond = np.zeros(10)\n",
    "attacks_nocond = np.zeros(10)\n",
    "horizon = 100000\n",
    "for _ in range(horizon):\n",
    "\n",
    "    label = np.random.randint(0, 9)\n",
    "\n",
    "    if np.random.uniform(0, 1) <= p_attack:\n",
    "\n",
    "        candidates = switches[label]\n",
    "        pred_label = np.random.choice(  [0,1,2,3,4,5,6,7,8,9] , p = p_attack_per_label )\n",
    "        attacks_cond[pred_label] = attacks_cond[pred_label] +1\n",
    "\n",
    "fig, ax = plt.subplots( nrows=1, ncols=1 )\n",
    "x = np.array([0, 1, 2, 3, 4, 5, 6, 7, 8, 9])\n",
    "ax.bar(x-0.2, attacks_cond / sum(attacks_cond), width=0.2, color='b', align='center', label='No Cond')\n",
    "ax.legend()"
   ],
   "outputs": [
    {
     "output_type": "execute_result",
     "data": {
      "text/plain": [
       "<matplotlib.legend.Legend at 0x7fb2494aebe0>"
      ]
     },
     "metadata": {},
     "execution_count": 54
    },
    {
     "output_type": "display_data",
     "data": {
      "image/png": "[encoded data removed]",
      "text/plain": [
       "<Figure size 432x288 with 1 Axes>"
      ]
     },
     "metadata": {
      "needs_background": "light"
     }
    }
   ],
   "metadata": {}
  },
  {
   "cell_type": "code",
   "execution_count": null,
   "source": [
    "def black_box(X, y):\n",
    "\n",
    "    error_pbt = np.random.uniform(0,1)\n",
    "\n",
    "    if error_pbt <= error_rate:\n",
    "        y_pred = np.random(  )\n",
    "\n",
    "    return pred_label"
   ],
   "outputs": [],
   "metadata": {}
  },
  {
   "cell_type": "code",
   "execution_count": 115,
   "source": [
    "i = 9\n",
    "print('label', label[i], 'outcome', outcomes[i] )\n",
    "plt.imshow(stream[i], cmap=\"gray\")\n",
    "\n",
    "device = torch.device(\"cpu\")  \n",
    "horizon = 10\n",
    "outcome_distribution = [0.5,0.5]\n"
   ],
   "outputs": [
    {
     "output_type": "stream",
     "name": "stdout",
     "text": [
      "label 8.0 outcome 0.0\n"
     ]
    },
    {
     "output_type": "execute_result",
     "data": {
      "text/plain": [
       "<matplotlib.image.AxesImage at 0x7f12fcdf3220>"
      ]
     },
     "metadata": {},
     "execution_count": 115
    },
    {
     "output_type": "display_data",
     "data": {
      "image/png": "[encoded data removed]",
      "text/plain": [
       "<Figure size 432x288 with 1 Axes>"
      ]
     },
     "metadata": {
      "needs_background": "light"
     }
    }
   ],
   "metadata": {}
  },
  {
   "cell_type": "code",
   "execution_count": 4,
   "source": [
    "# stream = datastream.random_stream(  data, blackbox, list(  outcome_distribution.values() ) )\n",
    "\n",
    "# horizon = 10\n",
    "\n",
    "\n",
    "\n",
    "# perturbation_rate = 0.1\n",
    "# n =1000\n",
    "# attack = 0\n",
    "# no_attack = 0\n",
    "\n",
    "# for d in data:\n",
    "\n",
    "#     if np.random.uniform( 0,1 ) <= perturbation_rate:\n",
    "#         attack+=1\n",
    "\n",
    "\n",
    "#     else:\n",
    "#         no_attack+=1\n",
    "\n",
    "# print(   attack/n, no_attack/n)\n",
    "\n",
    "\n",
    "\n",
    "# gaussian_noise(x, severity=5)\n",
    "# shot_noise(x, severity=5)\n",
    "# impulse_noise(x, severity=4)\n",
    "# speckle_noise(x, severity=5)\n",
    "# pessimal_noise(x, severity=1)\n",
    "# gaussian_blur(x, severity=2)\n",
    "# glass_blur(x, severity=1)\n",
    "# defocus_blur(x, severity=1)\n",
    "# motion_blur(x, severity=1)\n",
    "# zoom_blur(x, severity=5)\n",
    "# fog(x, severity=5)\n",
    "# frost(x, severity=5)\n",
    "# snow(x, severity=5)\n",
    "# spatter(x, severity=4)\n",
    "# contrast(x, severity=4)\n",
    "# brightness(x, severity=5)\n",
    "# saturate(x, severity=5)\n",
    "# pixelate(x, severity=3)\n",
    "# shear(x, severity=2)\n",
    "# x = 1\n",
    "# corruptions.identity(x)\n",
    "\n",
    "\n",
    "    # print(d[0], d[1])\n",
    "\n",
    "\n",
    "\n",
    "# X_train = [  d[0]   for d in data_train ]\n",
    "# X_train = torch.stack(X_train)\n",
    "\n",
    "\n",
    "\n",
    "# m = X_train.mean(0, keepdim=True).to(device)\n",
    "# s = X_train.std(0, unbiased=False, keepdim=True).to(device)\n",
    "# sample = np.random.randint(0, len(data), horizon) \n",
    "# datastream = DataStream( horizon, sample, m, s)\n",
    "\n",
    "\n",
    "# stream = datastream.random_stream(  data, blackbox, list(  outcome_distribution.values() ) )\n",
    "\n",
    "\n",
    "# stream = get_stream( data, blackbox_model, horizon, outcome_distribution, m, s )"
   ],
   "outputs": [
    {
     "output_type": "execute_result",
     "data": {
      "text/plain": [
       "<__main__.DataStream at 0x7f1311add820>"
      ]
     },
     "metadata": {},
     "execution_count": 4
    }
   ],
   "metadata": {}
  },
  {
   "cell_type": "code",
   "execution_count": null,
   "source": [
    "\n",
    "\n",
    "    # def virtual_plus(self, i, v_i, t, k, exhaust):\n",
    "\n",
    "    #     outcome = 0\n",
    "\n",
    "    #     if i <= t: # sampling phase\n",
    "    #         self.R[i] = v_i\n",
    "    #         self.R = { k: v for k, v in sorted(self.R.items(), key=lambda item: item[1]) }\n",
    "            \n",
    "    #     else: # selection phase\n",
    "    #         last_value = list( self.R.values() )[-1]\n",
    "    #         last_key = list( self.R.keys() )[-1]\n",
    "    #         num_left_to_pick = k - len(self.Sa) \n",
    "    #         num_samples_left = self.horizon - i\n",
    "    #         if  num_samples_left <= num_left_to_pick and exhaust and num_left_to_pick > 0:\n",
    "    #             self.Sa.append(i)\n",
    "    #             outcome = 1\n",
    "\n",
    "    #         if v_i >= last_value and len(self.Sa) <= k:\n",
    "    #             del self.R[ last_key ]\n",
    "    #             self.R[i] = v_i\n",
    "    #             self.R = {k: v for k, v in sorted(self.R.items(), key=lambda item: item[1])}\n",
    "    #             self.Sa.append(i)\n",
    "    #             outcome = 1\n",
    "\n",
    "    #     return outcome\n",
    "\n",
    "    # def secretary_stream(self, data, blackbox, t, k, exhaust):\n",
    "\n",
    "    #     stream = []\n",
    "    #     label = []\n",
    "    #     outcomes = []\n",
    "\n",
    "    #     for i, idx, in enumerate(self.sample) : \n",
    "\n",
    "    #         X, y =  data[idx]\n",
    "    #         X = X.reshape( (1,1,28,28) ).to(device)\n",
    "    #         y = torch.Tensor([ y ]).type(torch.LongTensor).to(device)\n",
    "\n",
    "    #         delta = attacks.pgd_linf(blackbox, X , y).to(device)\n",
    "    #         X_prime = X + delta\n",
    "    #         v_i = nn.CrossEntropyLoss()( blackbox(X_prime) ,y)\n",
    "\n",
    "    #         outcome = self.virtual_plus( i, v_i, t, k, exhaust)\n",
    "\n",
    "    #         stream.append(  X[0]  )\n",
    "    #         label.append(y )\n",
    "    #         outcomes.append([outcome])\n",
    "\n",
    "    #     stream = torch.stack(stream).to('cpu').detach().numpy()\n",
    "    #     label = torch.stack(label).to('cpu').detach().numpy()\n",
    "    #     status = torch.Tensor(outcomes).to('cpu').detach().numpy()\n",
    "    #     #\n",
    "    #     return  TensorDataset( stream, label, status ) \n",
    "\n",
    "\n",
    "# blackbox_model = blackbox.load()\n",
    "# mnist_val = datasets.MNIST(\"../data\", train=False, download=True, transform=transforms.ToTensor() )\n",
    "# datastream = DataStream()\n",
    "# # random_stream = datastream.random_stream( mnist_val, blackbox_model, [0.5,0.5] )\n",
    "# sec_stream = datastream.secretary_stream( mnist_val, blackbox_model  )"
   ],
   "outputs": [],
   "metadata": {}
  }
 ],
 "metadata": {
  "orig_nbformat": 4,
  "language_info": {
   "name": "python",
   "version": "3.9.15",
   "mimetype": "text/x-python",
   "codemirror_mode": {
    "name": "ipython",
    "version": 3
   },
   "pygments_lexer": "ipython3",
   "nbconvert_exporter": "python",
   "file_extension": ".py"
  },
  "kernelspec": {
   "name": "python3",
   "display_name": "Python 3.9.15 64-bit ('climate-ai': conda)"
  },
  "interpreter": {
   "hash": "0215ed8d73c40df5de54d647d65b604dcf02460a7de2b27ed9878602c67cf72c"
  }
 },
 "nbformat": 4,
 "nbformat_minor": 2
}