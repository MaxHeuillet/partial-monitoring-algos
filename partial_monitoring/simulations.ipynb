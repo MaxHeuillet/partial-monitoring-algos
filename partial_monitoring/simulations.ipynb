{
 "cells": [
  {
   "cell_type": "code",
   "execution_count": 37,
   "source": [
    "import numpy as np\n",
    "import matplotlib.pyplot as plt\n",
    "\n",
    "\n",
    "def obtain_probability( t, M_prim, sigma, alpha):\n",
    "\n",
    "    epsilon = 10e-3\n",
    "\n",
    "    U = np.sqrt( alpha  * np.log(t) ) \n",
    "\n",
    "    alphas = np.arange(0, U, U/M_prim )\n",
    "\n",
    "    p_m_hat =  np.array([ np.exp( -(alphas[i]**2) / 2*(sigma**2)  )  for i in range(len(alphas)-1) ] )\n",
    "    p_m = (1 - epsilon) * p_m_hat / p_m_hat.sum()\n",
    "    p_m = p_m.tolist()\n",
    "    p_m.append(epsilon)\n",
    "        \n",
    "    # Z = np.random.choice(alphas, p= p_m)\n",
    "\n",
    "    return p_m, p_m_hat\n",
    "\n",
    "M_prim = 20\n",
    "t = 1000\n",
    "sigma = 1/16\n",
    "alpha = 1.01\n",
    "p_m,p_m_hat = obtain_probability( t, M_prim, sigma, alpha)\n",
    "# plt.plot( range(M_prim-1), p_m_hat )\n",
    "plt.plot( range(M_prim), p_m )"
   ],
   "outputs": [
    {
     "output_type": "execute_result",
     "data": {
      "text/plain": [
       "[<matplotlib.lines.Line2D at 0x7f7f5b031250>]"
      ]
     },
     "metadata": {},
     "execution_count": 37
    },
    {
     "output_type": "display_data",
     "data": {
      "image/png": "[encoded data removed]",
      "text/plain": [
       "<Figure size 432x288 with 1 Axes>"
      ]
     },
     "metadata": {
      "needs_background": "light"
     }
    }
   ],
   "metadata": {}
  },
  {
   "cell_type": "code",
   "execution_count": 3,
   "source": [
    "len(p_m)"
   ],
   "outputs": [
    {
     "output_type": "execute_result",
     "data": {
      "text/plain": [
       "20"
      ]
     },
     "metadata": {},
     "execution_count": 3
    }
   ],
   "metadata": {}
  }
 ],
 "metadata": {
  "orig_nbformat": 4,
  "language_info": {
   "name": "python",
   "version": "3.9.7",
   "mimetype": "text/x-python",
   "codemirror_mode": {
    "name": "ipython",
    "version": 3
   },
   "pygments_lexer": "ipython3",
   "nbconvert_exporter": "python",
   "file_extension": ".py"
  },
  "kernelspec": {
   "name": "python3",
   "display_name": "Python 3.9.7 64-bit ('climate-ai': conda)"
  },
  "interpreter": {
   "hash": "0215ed8d73c40df5de54d647d65b604dcf02460a7de2b27ed9878602c67cf72c"
  }
 },
 "nbformat": 4,
 "nbformat_minor": 2
}