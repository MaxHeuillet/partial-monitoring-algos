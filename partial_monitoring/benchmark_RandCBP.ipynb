{
 "cells": [
  {
   "cell_type": "code",
   "execution_count": 1,
   "metadata": {},
   "outputs": [],
   "source": [
    "import numpy as np\n",
    "import plotly.graph_objects as go\n",
    "import os\n",
    "import gzip\n",
    "import pickle as pkl\n",
    "\n",
    "def loadall_results(path, horizon, n_folds):\n",
    "    result = np.zeros( (n_folds, horizon) )\n",
    "    with gzip.open(  path ,'rb') as f:\n",
    "        for i in range(n_folds):\n",
    "            try:\n",
    "                res = pkl.load(f)\n",
    "                result[i] = res\n",
    "            except EOFError:\n",
    "                break\n",
    "    return result\n"
   ]
  },
  {
   "cell_type": "code",
   "execution_count": null,
   "metadata": {},
   "outputs": [],
   "source": [
    "\n",
    "n_folds = 96\n",
    "horizon = 20000\n",
    "\n",
    "game = 'LE'\n",
    "task = 'imbalanced'\n",
    "\n",
    "colors = [  [250,0,0],[250,0,0], [250,0,0], [250,0,0],\n",
    "            [0,250,0], [0,250,0], [0,250,0], [0,250,0],\n",
    "            [0,0,250], [0,0,250], [0,0,250],[0,0,250],\n",
    "            [255,128,0], [255,128,0], [255,128,0], [255,128,0]  ]\n",
    "\n",
    "labels = [   'RandCBP_1_5',  'RandCBP_18_5', 'RandCBP_116_5','RandCBP_132_5', \n",
    "             'RandCBP_1_10',  'RandCBP_18_10', 'RandCBP_116_10','RandCBP_132_10',\n",
    "             'RandCBP_1_20',  'RandCBP_18_20', 'RandCBP_116_20','RandCBP_132_20', \n",
    "             'RandCBP_1_100',  'RandCBP_18_100', 'RandCBP_116_100','RandCBP_132_100'  ]\n",
    "             \n",
    "fig1 = go.Figure(    )\n",
    "\n",
    "\n",
    "for color, label in zip( colors, labels):\n",
    "    r,g,b = color\n",
    "\n",
    "    direct = './results/benchmark_randcbp/{}/'.format(game)\n",
    "    path = os.path.join(direct, '{}_{}_{}_{}.pkl.gz'.format(task,horizon,n_folds,label) )\n",
    "    result = loadall_results(path, horizon, n_folds)\n",
    "\n",
    "    regret =  np.mean(result,0) \n",
    "    xcoords = np.arange(0,horizon,1).tolist()\n",
    "    std =  np.std(result,0) \n",
    "    upper_regret = regret + std\n",
    "\n",
    "    if 'RandCBP_132' in label:\n",
    "        fig1.add_trace(go.Scatter(x=xcoords, y=regret, line=dict(color='rgb({},{},{})'.format(r,g,b),  dash=  'dot' ), mode='lines', \n",
    "                legendgroup='M = {}'.format( label.split('_')[2] ), name='σ = 1/32'.format( label.split('_')[2] ) ) ) \n",
    "\n",
    "    elif 'RandCBP_116' in label:\n",
    "        fig1.add_trace(go.Scatter(x=xcoords, y=regret, line=dict(color='rgb({},{},{})'.format(r,g,b),  dash=  'longdashdot' ), mode='lines', \n",
    "                legendgroup='M = {}'.format( label.split('_')[2] ), name='σ = 1/16'.format( label.split('_')[2] ) ) )  \n",
    "\n",
    "    elif 'RandCBP_18' in label:\n",
    "        fig1.add_trace(go.Scatter(x=xcoords, y=regret, line=dict(color='rgb({},{},{})'.format(r,g,b),  dash=  'dash' ), mode='lines',\n",
    "                legendgroup='M = {}'.format( label.split('_')[2] ),  name='σ = 1/8'.format( label.split('_')[2] ) ) ) \n",
    "\n",
    "    elif 'RandCBP_1' in label:\n",
    "        fig1.add_trace(go.Scatter(x=xcoords, y=regret, line=dict(color='rgb({},{},{})'.format(r,g,b),  dash=  'solid' ), mode='lines', \n",
    "                legendgroup='M = {}'.format( label.split('_')[2] ),legendgrouptitle_text='M = {}'.format( label.split('_')[2] ), name='σ = 1'.format( label.split('_')[2] ) ) ) \n",
    "\n",
    "    fig1.add_trace(   go.Scatter( x=xcoords+xcoords[::-1], y=upper_regret.tolist()+regret.tolist()[::-1],  fill='toself', fillcolor='rgba({},{},{},0.05)'.format(r,g,b), \n",
    "                         line=dict(color='rgba(255,255,255,0)'),   hoverinfo=\"skip\",  showlegend=False ) )\n",
    "    \n",
    "fig1.update_yaxes(range=[0, 50] )\n",
    "fig1.update_layout(legend= dict(yanchor=\"top\",y=1,xanchor=\"left\",x=0.43),\n",
    "                    legend_orientation=\"h\",\n",
    "                    autosize=False,\n",
    "                    xaxis_title=\"Sequence\",\n",
    "                    yaxis_title=\"Regret\",\n",
    "                    margin=go.layout.Margin( l=0,   r=0,   b=0,    t=0, ), \n",
    "                    font=dict(size=13,) )\n",
    "fig1.show()\n",
    "fig1.write_image(\"./benchmarkRandCBP_{}_{}.pdf\".format(task, game) )\n"
   ]
  }
 ],
 "metadata": {
  "interpreter": {
   "hash": "0215ed8d73c40df5de54d647d65b604dcf02460a7de2b27ed9878602c67cf72c"
  },
  "kernelspec": {
   "display_name": "Python 3.9.15 64-bit ('climate-ai': conda)",
   "name": "python3"
  },
  "language_info": {
   "codemirror_mode": {
    "name": "ipython",
    "version": 3
   },
   "file_extension": ".py",
   "mimetype": "text/x-python",
   "name": "python",
   "nbconvert_exporter": "python",
   "pygments_lexer": "ipython3",
   "version": "3.8.16"
  },
  "orig_nbformat": 4,
  "vscode": {
   "interpreter": {
    "hash": "ea0114cb9172efb607fa3d4693544b55f200153fae449834f41fe7defbe1701a"
   }
  }
 },
 "nbformat": 4,
 "nbformat_minor": 2
}
