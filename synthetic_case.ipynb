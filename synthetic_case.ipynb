{
 "cells": [
  {
   "cell_type": "code",
   "execution_count": 1,
   "source": [
    "from sklearn.linear_model import SGDClassifier\n",
    "import numpy as np\n",
    "import collections\n",
    "import matplotlib.pyplot as plt\n",
    "from sklearn.preprocessing import StandardScaler\n",
    "from sklearn.pipeline import make_pipeline\n",
    "from sklearn.datasets import make_classification\n",
    "from sklearn.model_selection import train_test_split\n",
    "from sklearn.metrics import confusion_matrix\n",
    "from scipy.special import logsumexp\n",
    "import torch\n",
    "import torch.nn as nn\n",
    "import torch.optim as optim\n",
    "from torchvision import datasets, transforms\n",
    "from torch.utils.data import DataLoader\n",
    "from torch.utils.data.sampler import SubsetRandomSampler\n",
    "import torch\n",
    "import torch.nn as nn\n",
    "import torch.optim as optim\n",
    "from torch.utils.data import DataLoader, TensorDataset\n",
    "from torch import Tensor\n",
    "import geometry\n",
    "import itertools\n",
    "from collections import defaultdict\n",
    "import collections\n",
    "import target\n",
    "import controler\n",
    "import utils\n",
    "from functools import reduce\n",
    "import linear_regression\n",
    "from multiprocessing import Pool\n",
    "from functools import partial\n",
    "import numpy as np\n",
    "import geometry\n",
    "import itertools \n",
    "from itertools import islice\n",
    "import games\n",
    "import feedexp3\n",
    "import geometry_v2\n",
    "import cpb\n",
    "import feedexp3_v2\n",
    "import bpm\n",
    "import random_algo\n",
    "import feedexp3_v3\n",
    "\n",
    "def evaluate_parallel(nbCores, n_folds, horizon, alg, game):\n",
    "    print(\"nbCores:\", nbCores, \"nbFolds:\", n_folds, \"Horizon:\", horizon)\n",
    "    pool = Pool(processes = nbCores) \n",
    "    task = Evaluation(horizon)\n",
    "    return np.asarray(  pool.map( partial( task.eval_policy_once, alg, game ), range(n_folds) ) ) \n",
    "\n",
    "def runif_in_simplex(n):\n",
    "  ''' Return uniformly random vector in the n-simplex '''\n",
    "  k = np.random.exponential(scale=1.0, size=n)\n",
    "  return k / sum(k)\n",
    "\n",
    "class Evaluation:\n",
    "\n",
    "    def __init__(self, horizon ):\n",
    "        self.horizon = horizon\n",
    "        # self.outcome_distribution = outcome_distribution\n",
    "    \n",
    "    def get_outcomes(self, game, job_id):\n",
    "        np.random.seed(job_id)\n",
    "        # self.means = runif_in_simplex( self.game.n_outcomes )\n",
    "        outcomes = np.random.choice( game.n_outcomes , p= list( game.outcome_dist.values() ), size= self.horizon) \n",
    "        return outcomes\n",
    "\n",
    "    def get_feedback(self, game, action, outcome):\n",
    "        return game.FeedbackMatrix[ action ][ outcome ]\n",
    "\n",
    "    def eval_policy_once(self, alg, game, jobid):\n",
    "\n",
    "        action_counter = np.zeros( (game.n_actions, self.horizon) )\n",
    "\n",
    "        # generate outcomes obliviously\n",
    "        outcomes = self.get_outcomes(game, jobid)\n",
    "\n",
    "        for t in range(self.horizon):\n",
    "\n",
    "            # policy chooses one action\n",
    "            action = alg.get_action(t)\n",
    "\n",
    "            # Environment chooses one outcome\n",
    "            outcome = outcomes[t]\n",
    "            feedback =  self.get_feedback( game, action, outcome )\n",
    "\n",
    "\n",
    "            alg.update(action, feedback, outcome)\n",
    "            # print('t', t, 'action', action, 'outcome', outcome, 'action',action, 'eta', alg.eta, 'gamma', alg.gamma, 'pbt',alg.pbt )\n",
    "            # print('nu', alg.nu / alg.n )\n",
    "\n",
    "            for i in range(game.n_actions):\n",
    "                if i == action:\n",
    "                    action_counter[i][t] = action_counter[i][t-1] +1\n",
    "                else:\n",
    "                    action_counter[i][t] = action_counter[i][t-1]\n",
    "\n",
    "        return action_counter\n",
    "\n",
    "def eval_cpbvanilla_parallel(task, nbCores, n_folds, horizon, alpha):\n",
    "    print(\"nbCores:\", nbCores, \"nbFolds:\", n_folds, \"Horizon:\", horizon)\n",
    "    pool = Pool(processes = nbCores) \n",
    "    return np.asarray(  pool.map( partial( task.cpb_vanilla_v2 ,alpha ), range(n_folds) ) ) \n",
    "\n",
    "def runif_in_simplex(n):\n",
    "  ''' Return uniformly random vector in the n-simplex '''\n",
    "  k = np.random.exponential(scale=1.0, size=n)\n",
    "  return k / sum(k)\n"
   ],
   "outputs": [],
   "metadata": {}
  },
  {
   "cell_type": "code",
   "execution_count": 16,
   "source": [
    "n_cores = 16\n",
    "n_folds = 25\n",
    "horizon = 200\n",
    "\n",
    "outcome_distribution =  {'spam':0.05,'ham':0.95}"
   ],
   "outputs": [],
   "metadata": {}
  },
  {
   "cell_type": "code",
   "execution_count": 5,
   "source": [
    "game = games.apple_tasting(False, outcome_distribution)\n",
    "print('optimal action', game.i_star)\n",
    "alg = cpb.CPB( game, horizon )\n",
    "task = Evaluation(horizon)\n",
    "task.eval_policy_once(alg,game,1)"
   ],
   "outputs": [
    {
     "output_type": "stream",
     "name": "stdout",
     "text": [
      "optimal action 1\n"
     ]
    },
    {
     "output_type": "execute_result",
     "data": {
      "text/plain": [
       "array([[  1.,   1.,   1.,   1.,   1.,   1.,   1.,   1.,   1.,   1.,   1.,\n",
       "          1.,   1.,   1.,   1.,   1.,   1.,   2.,   2.,   2.,   2.,   2.,\n",
       "          2.,   2.,   2.,   2.,   2.,   2.,   2.,   2.,   2.,   2.,   2.,\n",
       "          2.,   3.,   3.,   3.,   3.,   3.,   3.,   3.,   3.,   3.,   3.,\n",
       "          3.,   3.,   3.,   3.,   3.,   3.,   3.,   4.,   4.,   4.,   4.,\n",
       "          4.,   4.,   4.,   4.,   4.,   4.,   4.,   4.,   4.,   4.,   4.,\n",
       "          4.,   4.,   5.,   5.,   5.,   5.,   5.,   5.,   5.,   5.,   5.,\n",
       "          5.,   5.,   5.,   5.,   5.,   5.,   5.,   5.,   6.,   7.,   8.,\n",
       "          9.,  10.,  11.,  12.,  13.,  14.,  15.,  16.,  17.,  18.,  19.,\n",
       "         20.,  21.,  22.,  23.,  24.,  25.,  26.,  27.,  28.,  29.,  30.,\n",
       "         31.,  32.,  33.,  34.,  35.,  36.,  37.,  38.,  39.,  40.,  41.,\n",
       "         42.,  43.,  44.,  45.,  46.,  47.,  48.,  49.,  50.,  51.,  52.,\n",
       "         53.,  54.,  55.,  56.,  57.,  58.,  59.,  60.,  61.,  62.,  63.,\n",
       "         64.,  65.,  66.,  67.,  68.,  69.,  70.,  71.,  72.,  73.,  74.,\n",
       "         75.,  76.,  77.,  78.,  79.,  80.,  81.,  82.,  83.,  84.,  85.,\n",
       "         86.,  87.,  88.,  89.,  90.,  91.,  92.,  93.,  94.,  95.,  96.,\n",
       "         97.,  98.,  99., 100., 101., 102., 103., 104., 105., 106., 107.,\n",
       "        108., 109., 110., 111., 112., 113., 114., 115., 116., 117., 118.,\n",
       "        119., 120.],\n",
       "       [  0.,   1.,   2.,   3.,   4.,   5.,   6.,   7.,   8.,   9.,  10.,\n",
       "         11.,  12.,  13.,  14.,  15.,  16.,  16.,  17.,  18.,  19.,  20.,\n",
       "         21.,  22.,  23.,  24.,  25.,  26.,  27.,  28.,  29.,  30.,  31.,\n",
       "         32.,  32.,  33.,  34.,  35.,  36.,  37.,  38.,  39.,  40.,  41.,\n",
       "         42.,  43.,  44.,  45.,  46.,  47.,  48.,  48.,  49.,  50.,  51.,\n",
       "         52.,  53.,  54.,  55.,  56.,  57.,  58.,  59.,  60.,  61.,  62.,\n",
       "         63.,  64.,  64.,  65.,  66.,  67.,  68.,  69.,  70.,  71.,  72.,\n",
       "         73.,  74.,  75.,  76.,  77.,  78.,  79.,  80.,  80.,  80.,  80.,\n",
       "         80.,  80.,  80.,  80.,  80.,  80.,  80.,  80.,  80.,  80.,  80.,\n",
       "         80.,  80.,  80.,  80.,  80.,  80.,  80.,  80.,  80.,  80.,  80.,\n",
       "         80.,  80.,  80.,  80.,  80.,  80.,  80.,  80.,  80.,  80.,  80.,\n",
       "         80.,  80.,  80.,  80.,  80.,  80.,  80.,  80.,  80.,  80.,  80.,\n",
       "         80.,  80.,  80.,  80.,  80.,  80.,  80.,  80.,  80.,  80.,  80.,\n",
       "         80.,  80.,  80.,  80.,  80.,  80.,  80.,  80.,  80.,  80.,  80.,\n",
       "         80.,  80.,  80.,  80.,  80.,  80.,  80.,  80.,  80.,  80.,  80.,\n",
       "         80.,  80.,  80.,  80.,  80.,  80.,  80.,  80.,  80.,  80.,  80.,\n",
       "         80.,  80.,  80.,  80.,  80.,  80.,  80.,  80.,  80.,  80.,  80.,\n",
       "         80.,  80.,  80.,  80.,  80.,  80.,  80.,  80.,  80.,  80.,  80.,\n",
       "         80.,  80.]])"
      ]
     },
     "metadata": {},
     "execution_count": 5
    }
   ],
   "metadata": {}
  },
  {
   "cell_type": "code",
   "execution_count": 17,
   "source": [
    "\n",
    "game = games.apple_tasting(False, outcome_distribution)\n",
    "\n",
    "alg = cpb.CPB(  game, horizon,)\n",
    "result0 = evaluate_parallel(n_cores, n_folds, horizon, alg, game)\n",
    "regret0 = np.array([ game.delta(i) for i in range(game.n_actions) ]).T @ np.mean(result0,0) \n",
    "std0 = np.array([ game.delta(i) for i in range(game.n_actions) ]).T @ np.std(result0,0) \n",
    "plt.plot(   regret0 , label = 'CPB', color = 'purple' )\n",
    "plt.fill_between( range(horizon) ,  regret0    , regret0 + std0 , color = 'purple' , alpha = 0.2)\n",
    "\n",
    "alg = feedexp3.FeedExp3(  game, horizon, )\n",
    "result2 = evaluate_parallel(n_cores, n_folds, horizon, alg, game)\n",
    "regret2 = np.array([ game.delta(i) for i in range(game.n_actions) ]).T @ np.mean(result2,0) \n",
    "std2 = np.array([ game.delta(i) for i in range(game.n_actions) ]).T @ np.std(result2,0) \n",
    "plt.plot(   regret2  , label = 'Bianchi', color = 'orange' )\n",
    "plt.fill_between( range(horizon) ,  regret2    , regret2 + std2 , color = 'orange' , alpha = 0.2)\n",
    "\n",
    "alg = feedexp3_v3.FeedExp3(  game, horizon, )\n",
    "result3 = evaluate_parallel(n_cores, n_folds, horizon, alg, game)\n",
    "regret3 = np.array([ game.delta(i) for i in range(game.n_actions) ]).T @ np.mean(result3,0) \n",
    "std3 = np.array([ game.delta(i) for i in range(game.n_actions) ]).T @ np.std(result3,0) \n",
    "plt.plot(   regret3  , label = 'Piccolboni', color = 'green' )\n",
    "plt.fill_between( range(horizon) ,  regret3    , regret3 + std3 , color = 'green' , alpha = 0.2)\n",
    "\n",
    "alg = bpm.BPM(  game, horizon,  [0.5,0.5], np.identity(2) )\n",
    "result3 = evaluate_parallel(n_cores, n_folds, horizon, alg, game)\n",
    "regret3 = np.array([ game.delta(i) for i in range(game.n_actions) ]).T @ np.mean(result3, 0) \n",
    "std3 = np.array([ game.delta(i) for i in range(game.n_actions) ]).T @ np.std(result3, 0) \n",
    "plt.plot(   regret3 , label = 'BPM-least', color = 'blue' )\n",
    "plt.fill_between( range(horizon) ,  regret3 , regret3 + std3 , color = 'blue' , alpha = 0.2)\n",
    "\n",
    "plt.legend()"
   ],
   "outputs": [
    {
     "output_type": "stream",
     "name": "stdout",
     "text": [
      "nbCores: 16 nbFolds: 25 Horizon: 200\n",
      "nbCores: 16 nbFolds: 25 Horizon: 200\n",
      "nbCores: 16 nbFolds: 25 Horizon: 200\n",
      "n-actions 2 n-outcomes 2 alphabet 2\n",
      "nbCores: 16 nbFolds: 25 Horizon: 200\n"
     ]
    }
   ],
   "metadata": {}
  },
  {
   "cell_type": "code",
   "execution_count": 11,
   "source": [
    "game = games.bandit(False,outcome_distribution)\n",
    "\n",
    "alg = cpb.CPB(  game, horizon,)\n",
    "result0 = evaluate_parallel(n_cores, n_folds, horizon, alg, game)\n",
    "regret0 = np.array([ game.delta(i) for i in range(game.n_actions) ]).T @ np.mean(result0,0) \n",
    "std0 = np.array([ game.delta(i) for i in range(game.n_actions) ]).T @ np.std(result0,0) \n",
    "plt.plot(   regret0 , label = 'CPB', color = 'purple' )\n",
    "plt.fill_between( range(horizon) ,  regret0    , regret0 + std0 , color = 'purple' , alpha = 0.2)\n",
    "\n",
    "alg = feedexp3.FeedExp3(  game, horizon, )\n",
    "result2 = evaluate_parallel(n_cores, n_folds, horizon, alg, game)\n",
    "regret2 = np.array([ game.delta(i) for i in range(game.n_actions) ]).T @ np.mean(result2,0) \n",
    "std2 = np.array([ game.delta(i) for i in range(game.n_actions) ]).T @ np.std(result2,0) \n",
    "plt.plot(   regret2  , label = 'Bianchi', color = 'orange' )\n",
    "plt.fill_between( range(horizon) ,  regret2    , regret2 + std2 , color = 'orange' , alpha = 0.2)\n",
    "\n",
    "alg = feedexp3_v3.FeedExp3(  game, horizon, )\n",
    "result3 = evaluate_parallel(n_cores, n_folds, horizon, alg, game)\n",
    "regret3 = np.array([ game.delta(i) for i in range(game.n_actions) ]).T @ np.mean(result3,0) \n",
    "std3 = np.array([ game.delta(i) for i in range(game.n_actions) ]).T @ np.std(result3,0) \n",
    "plt.plot(   regret3  , label = 'Piccolboni', color = 'green' )\n",
    "plt.fill_between( range(horizon) ,  regret3    , regret3 + std3 , color = 'green' , alpha = 0.2)\n",
    "\n",
    "alg = bpm.BPM(  game, horizon,  [0.5,0.5], np.identity(2) )\n",
    "result3 = evaluate_parallel(n_cores, n_folds, horizon, alg, game)\n",
    "regret3 = np.array([ game.delta(i) for i in range(game.n_actions) ]).T @ np.mean(result3, 0) \n",
    "std3 = np.array([ game.delta(i) for i in range(game.n_actions) ]).T @ np.std(result3, 0) \n",
    "plt.plot(   regret3 , label = 'BPM-least', color = 'blue' )\n",
    "plt.fill_between( range(horizon) ,  regret3 , regret3 + std3 , color = 'blue' , alpha = 0.2)\n",
    "\n",
    "plt.legend()"
   ],
   "outputs": [
    {
     "output_type": "stream",
     "name": "stdout",
     "text": [
      "nbCores: 16 nbFolds: 25 Horizon: 200\n",
      "nbCores: 16 nbFolds: 25 Horizon: 200\n",
      "nbCores: 16 nbFolds: 25 Horizon: 200\n",
      "n-actions 2 n-outcomes 2 alphabet 3\n",
      "nbCores: 16 nbFolds: 25 Horizon: 200\n"
     ]
    },
    {
     "output_type": "execute_result",
     "data": {
      "text/plain": [
       "<matplotlib.legend.Legend at 0x7f2028d86b80>"
      ]
     },
     "metadata": {},
     "execution_count": 11
    },
    {
     "output_type": "display_data",
     "data": {
      "image/png": "[encoded data removed]",
      "text/plain": [
       "<Figure size 432x288 with 1 Axes>"
      ]
     },
     "metadata": {
      "needs_background": "light"
     }
    }
   ],
   "metadata": {}
  },
  {
   "cell_type": "code",
   "execution_count": 18,
   "source": [
    "game = games.label_efficient(outcome_distribution)\n",
    "\n",
    "# alg = random_algo.Random(  game, horizon, )\n",
    "# result0 = evaluate_parallel(n_cores, n_folds, horizon, alg, game)\n",
    "# regret0 = np.array([ game.delta(i) for i in range(game.n_actions) ]).T @ np.mean(result0,0) \n",
    "# std0 = np.array([ game.delta(i) for i in range(game.n_actions) ]).T @ np.std(result0,0) \n",
    "# plt.plot(   regret0 , label = 'Random', color = 'pink' )\n",
    "# plt.fill_between( range(horizon) ,  regret0    , regret0 + std0 , color = 'pink' , alpha = 0.2)\n",
    "\n",
    "alg = feedexp3.FeedExp3(  game, horizon, )\n",
    "result2 = evaluate_parallel(n_cores, n_folds, horizon, alg, game)\n",
    "regret2 = np.array([ game.delta(i) for i in range(game.n_actions) ]).T @ np.mean(result2,0) \n",
    "std2 = np.array([ game.delta(i) for i in range(game.n_actions) ]).T @ np.std(result2,0) \n",
    "plt.plot(   regret2  , label = 'Bianchi', color = 'orange' )\n",
    "plt.fill_between( range(horizon) ,  regret2    , regret2 + std2 , color = 'orange' , alpha = 0.2)\n",
    "\n",
    "alg = feedexp3_v3.FeedExp3(  game, horizon, )\n",
    "result3 = evaluate_parallel(n_cores, n_folds, horizon, alg, game)\n",
    "regret3 = np.array([ game.delta(i) for i in range(game.n_actions) ]).T @ np.mean(result3,0) \n",
    "std3 = np.array([ game.delta(i) for i in range(game.n_actions) ]).T @ np.std(result3,0) \n",
    "plt.plot(   regret3  , label = 'Piccolboni', color = 'blue' )\n",
    "plt.fill_between( range(horizon) ,  regret3    , regret3 + std3 , color = 'blue' , alpha = 0.2)\n",
    "\n",
    "# alg = cpb.CPB(  game, horizon,)\n",
    "# result0 = evaluate_parallel(n_cores, n_folds, horizon, alg, game)\n",
    "# regret0 = np.array([ game.delta(i) for i in range(game.n_actions) ]).T @ np.mean(result0,0) \n",
    "# std0 = np.array([ game.delta(i) for i in range(game.n_actions) ]).T @ np.std(result0,0) \n",
    "# plt.plot(   regret0 , label = 'CPB', color = 'purple' )\n",
    "# plt.fill_between( range(horizon) ,  regret0    , regret0 + std0 , color = 'purple' , alpha = 0.2)\n",
    "\n",
    "# alg = bpm.BPM(  game, horizon,  [0.5, 0.5 ], np.identity(2) )\n",
    "# result3 = evaluate_parallel(n_cores, n_folds, horizon, alg, game)\n",
    "# regret3 = np.array([ game.delta(i) for i in range(game.n_actions) ]).T @ np.mean(result3, 0) \n",
    "# std3 = np.array([ game.delta(i) for i in range(game.n_actions) ]).T @ np.std(result3, 0) \n",
    "# plt.plot(   regret3 , label = 'BPM-least', color = 'blue' )\n",
    "# plt.fill_between( range(horizon) ,  regret3 , regret3 + std3 , color = 'blue' , alpha = 0.2)\n",
    "\n",
    "plt.legend()"
   ],
   "outputs": [
    {
     "output_type": "stream",
     "name": "stdout",
     "text": [
      "nbCores: 16 nbFolds: 50 Horizon: 2000\n",
      "nbCores: 16 nbFolds: 50 Horizon: 2000\n"
     ]
    },
    {
     "output_type": "execute_result",
     "data": {
      "text/plain": [
       "<matplotlib.legend.Legend at 0x7f95fe6d5850>"
      ]
     },
     "metadata": {},
     "execution_count": 18
    },
    {
     "output_type": "display_data",
     "data": {
      "image/png": "[encoded data removed]",
      "text/plain": [
       "<Figure size 432x288 with 1 Axes>"
      ]
     },
     "metadata": {
      "needs_background": "light"
     }
    }
   ],
   "metadata": {}
  }
 ],
 "metadata": {
  "orig_nbformat": 4,
  "language_info": {
   "name": "python",
   "version": "3.9.7",
   "mimetype": "text/x-python",
   "codemirror_mode": {
    "name": "ipython",
    "version": 3
   },
   "pygments_lexer": "ipython3",
   "nbconvert_exporter": "python",
   "file_extension": ".py"
  },
  "kernelspec": {
   "name": "python3",
   "display_name": "Python 3.9.7 64-bit ('climate-ai': conda)"
  },
  "interpreter": {
   "hash": "0215ed8d73c40df5de54d647d65b604dcf02460a7de2b27ed9878602c67cf72c"
  }
 },
 "nbformat": 4,
 "nbformat_minor": 2
}