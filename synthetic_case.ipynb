{
 "cells": [
  {
   "cell_type": "code",
   "execution_count": 1,
   "source": [
    "from sklearn.linear_model import SGDClassifier\n",
    "import numpy as np\n",
    "import collections\n",
    "import matplotlib.pyplot as plt\n",
    "from sklearn.preprocessing import StandardScaler\n",
    "from sklearn.pipeline import make_pipeline\n",
    "from sklearn.datasets import make_classification\n",
    "from sklearn.model_selection import train_test_split\n",
    "from sklearn.metrics import confusion_matrix\n",
    "from scipy.special import logsumexp\n",
    "import torch\n",
    "import torch.nn as nn\n",
    "import torch.optim as optim\n",
    "from torchvision import datasets, transforms\n",
    "from torch.utils.data import DataLoader\n",
    "from torch.utils.data.sampler import SubsetRandomSampler\n",
    "import torch\n",
    "import torch.nn as nn\n",
    "import torch.optim as optim\n",
    "from torch.utils.data import DataLoader, TensorDataset\n",
    "from torch import Tensor\n",
    "import geometry\n",
    "import itertools\n",
    "from collections import defaultdict\n",
    "import collections\n",
    "import target\n",
    "import controler\n",
    "import utils\n",
    "from functools import reduce\n",
    "import linear_regression\n",
    "from multiprocessing import Pool\n",
    "from functools import partial\n",
    "import numpy as np\n",
    "import geometry\n",
    "import itertools \n",
    "from itertools import islice\n",
    "import games\n",
    "import feedexp3\n",
    "import geometry_v2\n",
    "import cpb\n",
    "import feedexp3_v2\n",
    "import bpm\n",
    "import random_algo\n",
    "import feedexp3_v3\n",
    "\n",
    "def evaluate_parallel(nbCores, n_folds, horizon, alg, game):\n",
    "    print(\"nbCores:\", nbCores, \"nbFolds:\", n_folds, \"Horizon:\", horizon)\n",
    "    pool = Pool(processes = nbCores) \n",
    "    task = Evaluation(horizon)\n",
    "    return np.asarray(  pool.map( partial( task.eval_policy_once, alg, game ), range(n_folds) ) ) \n",
    "\n",
    "def runif_in_simplex(n):\n",
    "  ''' Return uniformly random vector in the n-simplex '''\n",
    "  k = np.random.exponential(scale=1.0, size=n)\n",
    "  return k / sum(k)\n",
    "\n",
    "class Evaluation:\n",
    "\n",
    "    def __init__(self, horizon ):\n",
    "        self.horizon = horizon\n",
    "        # self.outcome_distribution = outcome_distribution\n",
    "    \n",
    "    def get_outcomes(self, game, job_id):\n",
    "        np.random.seed(job_id)\n",
    "        # self.means = runif_in_simplex( self.game.n_outcomes )\n",
    "        outcomes = np.random.choice( game.n_outcomes , p= list( game.outcome_dist.values() ), size= self.horizon) \n",
    "        return outcomes\n",
    "\n",
    "    def get_feedback(self, game, action, outcome):\n",
    "        return game.FeedbackMatrix[ action ][ outcome ]\n",
    "\n",
    "    def eval_policy_once(self, alg, game, jobid):\n",
    "\n",
    "        action_counter = np.zeros( (game.n_actions, self.horizon) )\n",
    "\n",
    "        # generate outcomes obliviously\n",
    "        outcomes = self.get_outcomes(game, jobid)\n",
    "\n",
    "        for t in range(self.horizon):\n",
    "\n",
    "            # policy chooses one action\n",
    "            action = alg.get_action(t)\n",
    "\n",
    "            # Environment chooses one outcome\n",
    "            outcome = outcomes[t]\n",
    "            feedback =  self.get_feedback( game, action, outcome )\n",
    "\n",
    "\n",
    "            alg.update(action, feedback, outcome)\n",
    "            # print('t', t, 'action', action, 'outcome', outcome, 'action',action, 'eta', alg.eta, 'gamma', alg.gamma, 'pbt',alg.pbt )\n",
    "            # print('nu', alg.nu / alg.n )\n",
    "\n",
    "\n",
    "            for i in range(game.n_actions):\n",
    "                if i == action:\n",
    "                    action_counter[i][t] = action_counter[i][t-1] +1\n",
    "                else:\n",
    "                    action_counter[i][t] = action_counter[i][t-1]\n",
    "\n",
    "        return action_counter\n",
    "\n",
    "def eval_cpbvanilla_parallel(task, nbCores, n_folds, horizon, alpha):\n",
    "    print(\"nbCores:\", nbCores, \"nbFolds:\", n_folds, \"Horizon:\", horizon)\n",
    "    pool = Pool(processes = nbCores) \n",
    "    return np.asarray(  pool.map( partial( task.cpb_vanilla_v2 ,alpha ), range(n_folds) ) ) \n",
    "\n",
    "def runif_in_simplex(n):\n",
    "  ''' Return uniformly random vector in the n-simplex '''\n",
    "  k = np.random.exponential(scale=1.0, size=n)\n",
    "  return k / sum(k)\n"
   ],
   "outputs": [],
   "metadata": {}
  },
  {
   "cell_type": "code",
   "execution_count": 7,
   "source": [
    "a = np.array([[-2]])\n",
    "np.sign(a)[0][0]"
   ],
   "outputs": [
    {
     "output_type": "execute_result",
     "data": {
      "text/plain": [
       "-1"
      ]
     },
     "metadata": {},
     "execution_count": 7
    }
   ],
   "metadata": {}
  },
  {
   "cell_type": "code",
   "execution_count": 2,
   "source": [
    "n_cores = 1\n",
    "n_folds = 1\n",
    "horizon = 50\n",
    "\n",
    "outcome_distribution =  {'spam':0.05,'ham':0.95}"
   ],
   "outputs": [],
   "metadata": {}
  },
  {
   "cell_type": "code",
   "execution_count": 3,
   "source": [
    "game = games.apple_tasting(False, outcome_distribution)\n",
    "alg = cpb.CPB( game, horizon )\n",
    "task = Evaluation(horizon)\n",
    "task.eval_policy_once(alg,game,1)"
   ],
   "outputs": [
    {
     "output_type": "stream",
     "name": "stdout",
     "text": [
      "n-actions 2 n-outcomes 2 alphabet 2\n",
      "nu [array([[0.]]), array([[0.],\n",
      "       [0.]])]\n",
      "Restricted license - for non-production use only - expires 2023-10-25\n",
      "mathcal_N [[0, 0], [0, 1], [1, 0], [1, 1]]\n",
      "N_plus defaultdict(<class 'dict'>, {0: {0: [0], 1: [0, 1]}, 1: {0: [0, 1], 1: [1]}})\n",
      "W [0. 2.]\n",
      "Y_t [[1.]] shape (1, 1) nu[action] [[0.]] shape (1, 1)\n",
      "Y_t [[1. 0.]] shape (1, 2) nu[action] [[0.]\n",
      " [0.]] shape (2, 1)\n",
      "halfspace [([0, 0], array([[0.]])), ([1, 1], array([[0.]]))]\n",
      "Y_t [[0. 1.]] shape (1, 2) nu[action] [[1.]\n",
      " [0.]] shape (2, 1)\n",
      "halfspace [([0, 0], array([[0.]])), ([1, 1], array([[0.]]))]\n",
      "Y_t [[1. 0.]] shape (1, 2) nu[action] [[1.]\n",
      " [1.]] shape (2, 1)\n",
      "halfspace [([0, 0], array([[0.]])), ([1, 1], array([[0.]]))]\n",
      "Y_t [[1. 0.]] shape (1, 2) nu[action] [[2.]\n",
      " [1.]] shape (2, 1)\n",
      "halfspace [([0, 0], array([[0.]])), ([1, 1], array([[0.]]))]\n",
      "Y_t [[1. 0.]] shape (1, 2) nu[action] [[3.]\n",
      " [1.]] shape (2, 1)\n",
      "halfspace [([0, 0], array([[0.]])), ([1, 1], array([[0.]]))]\n",
      "Y_t [[1. 0.]] shape (1, 2) nu[action] [[4.]\n",
      " [1.]] shape (2, 1)\n",
      "halfspace [([0, 0], array([[0.]])), ([1, 1], array([[0.]]))]\n",
      "Y_t [[1. 0.]] shape (1, 2) nu[action] [[5.]\n",
      " [1.]] shape (2, 1)\n",
      "halfspace [([0, 0], array([[0.]])), ([1, 1], array([[0.]]))]\n",
      "Y_t [[1. 0.]] shape (1, 2) nu[action] [[6.]\n",
      " [1.]] shape (2, 1)\n",
      "halfspace [([0, 0], array([[0.]])), ([1, 1], array([[0.]]))]\n",
      "Y_t [[1. 0.]] shape (1, 2) nu[action] [[7.]\n",
      " [1.]] shape (2, 1)\n",
      "halfspace [([0, 0], array([[0.]])), ([1, 1], array([[0.]]))]\n",
      "Y_t [[1. 0.]] shape (1, 2) nu[action] [[8.]\n",
      " [1.]] shape (2, 1)\n",
      "halfspace [([0, 0], array([[0.]])), ([1, 1], array([[0.]]))]\n",
      "Y_t [[1. 0.]] shape (1, 2) nu[action] [[9.]\n",
      " [1.]] shape (2, 1)\n",
      "halfspace [([0, 0], array([[0.]])), ([1, 1], array([[0.]]))]\n",
      "Y_t [[1. 0.]] shape (1, 2) nu[action] [[10.]\n",
      " [ 1.]] shape (2, 1)\n",
      "halfspace [([0, 0], array([[0.]])), ([1, 1], array([[0.]]))]\n",
      "Y_t [[1. 0.]] shape (1, 2) nu[action] [[11.]\n",
      " [ 1.]] shape (2, 1)\n",
      "halfspace [([0, 0], array([[0.]])), ([1, 1], array([[0.]]))]\n",
      "Y_t [[0. 1.]] shape (1, 2) nu[action] [[12.]\n",
      " [ 1.]] shape (2, 1)\n",
      "halfspace [([0, 0], array([[0.]])), ([1, 1], array([[0.]]))]\n",
      "Y_t [[1. 0.]] shape (1, 2) nu[action] [[12.]\n",
      " [ 2.]] shape (2, 1)\n",
      "halfspace [([0, 0], array([[0.]])), ([1, 1], array([[0.]]))]\n",
      "Y_t [[1. 0.]] shape (1, 2) nu[action] [[13.]\n",
      " [ 2.]] shape (2, 1)\n",
      "halfspace [([0, 0], array([[0.]])), ([1, 1], array([[0.]]))]\n",
      "Y_t [[1. 0.]] shape (1, 2) nu[action] [[14.]\n",
      " [ 2.]] shape (2, 1)\n",
      "halfspace [([0, 0], array([[0.]])), ([1, 1], array([[0.]]))]\n",
      "Y_t [[1. 0.]] shape (1, 2) nu[action] [[15.]\n",
      " [ 2.]] shape (2, 1)\n",
      "halfspace [([0, 0], array([[0.]])), ([1, 1], array([[0.]]))]\n",
      "Y_t [[1. 0.]] shape (1, 2) nu[action] [[16.]\n",
      " [ 2.]] shape (2, 1)\n",
      "halfspace [([0, 0], array([[0.]])), ([1, 1], array([[0.]]))]\n",
      "Y_t [[1. 0.]] shape (1, 2) nu[action] [[17.]\n",
      " [ 2.]] shape (2, 1)\n",
      "halfspace [([0, 0], array([[0.]])), ([0, 1], array([[-1.]])), ([1, 0], array([[1.]])), ([1, 1], array([[0.]]))]\n"
     ]
    },
    {
     "output_type": "error",
     "ename": "GurobiError",
     "evalue": "Unsupported type (<class 'numpy.ndarray'>) for LinExpr addition argument",
     "traceback": [
      "\u001b[0;31m---------------------------------------------------------------------------\u001b[0m",
      "\u001b[0;31mGurobiError\u001b[0m                               Traceback (most recent call last)",
      "Input \u001b[0;32mIn [3]\u001b[0m, in \u001b[0;36m<cell line: 4>\u001b[0;34m()\u001b[0m\n\u001b[1;32m      2\u001b[0m alg \u001b[38;5;241m=\u001b[39m cpb\u001b[38;5;241m.\u001b[39mCPB( game, horizon )\n\u001b[1;32m      3\u001b[0m task \u001b[38;5;241m=\u001b[39m Evaluation(horizon)\n\u001b[0;32m----> 4\u001b[0m \u001b[43mtask\u001b[49m\u001b[38;5;241;43m.\u001b[39;49m\u001b[43meval_policy_once\u001b[49m\u001b[43m(\u001b[49m\u001b[43malg\u001b[49m\u001b[43m,\u001b[49m\u001b[43mgame\u001b[49m\u001b[43m,\u001b[49m\u001b[38;5;241;43m1\u001b[39;49m\u001b[43m)\u001b[49m\n",
      "Input \u001b[0;32mIn [1]\u001b[0m, in \u001b[0;36mEvaluation.eval_policy_once\u001b[0;34m(self, alg, game, jobid)\u001b[0m\n\u001b[1;32m     77\u001b[0m outcomes \u001b[38;5;241m=\u001b[39m \u001b[38;5;28mself\u001b[39m\u001b[38;5;241m.\u001b[39mget_outcomes(game, jobid)\n\u001b[1;32m     79\u001b[0m \u001b[38;5;28;01mfor\u001b[39;00m t \u001b[38;5;129;01min\u001b[39;00m \u001b[38;5;28mrange\u001b[39m(\u001b[38;5;28mself\u001b[39m\u001b[38;5;241m.\u001b[39mhorizon):\n\u001b[1;32m     80\u001b[0m \n\u001b[1;32m     81\u001b[0m     \u001b[38;5;66;03m# policy chooses one action\u001b[39;00m\n\u001b[0;32m---> 82\u001b[0m     action \u001b[38;5;241m=\u001b[39m \u001b[43malg\u001b[49m\u001b[38;5;241;43m.\u001b[39;49m\u001b[43mget_action\u001b[49m\u001b[43m(\u001b[49m\u001b[43mt\u001b[49m\u001b[43m)\u001b[49m\n\u001b[1;32m     84\u001b[0m     \u001b[38;5;66;03m# Environment chooses one outcome\u001b[39;00m\n\u001b[1;32m     85\u001b[0m     outcome \u001b[38;5;241m=\u001b[39m outcomes[t]\n",
      "File \u001b[0;32m~/Desktop/attack-detection/cpb.py:66\u001b[0m, in \u001b[0;36mCPB.get_action\u001b[0;34m(self, t)\u001b[0m\n\u001b[1;32m     61\u001b[0m     \u001b[38;5;66;03m# else:\u001b[39;00m\n\u001b[1;32m     62\u001b[0m     \u001b[38;5;66;03m#     halfspace.append( ( pair, 0 ) )\u001b[39;00m\n\u001b[1;32m     63\u001b[0m     \u001b[38;5;66;03m# print('pair', pair,  'tdelta', tdelta, 'c', c)\u001b[39;00m\n\u001b[1;32m     65\u001b[0m \u001b[38;5;28mprint\u001b[39m(\u001b[38;5;124m'\u001b[39m\u001b[38;5;124mhalfspace\u001b[39m\u001b[38;5;124m'\u001b[39m, halfspace)\n\u001b[0;32m---> 66\u001b[0m P_t \u001b[38;5;241m=\u001b[39m \u001b[43mgeometry_v3\u001b[49m\u001b[38;5;241;43m.\u001b[39;49m\u001b[43mgetParetoOptimalActions\u001b[49m\u001b[43m(\u001b[49m\u001b[38;5;28;43mself\u001b[39;49m\u001b[38;5;241;43m.\u001b[39;49m\u001b[43mgame\u001b[49m\u001b[38;5;241;43m.\u001b[39;49m\u001b[43mLossMatrix\u001b[49m\u001b[43m,\u001b[49m\u001b[43m \u001b[49m\u001b[38;5;28;43mself\u001b[39;49m\u001b[38;5;241;43m.\u001b[39;49m\u001b[43mN\u001b[49m\u001b[43m,\u001b[49m\u001b[43m \u001b[49m\u001b[38;5;28;43mself\u001b[39;49m\u001b[38;5;241;43m.\u001b[39;49m\u001b[43mM\u001b[49m\u001b[43m,\u001b[49m\u001b[43m \u001b[49m\u001b[43mhalfspace\u001b[49m\u001b[43m)\u001b[49m\n\u001b[1;32m     67\u001b[0m N_t \u001b[38;5;241m=\u001b[39m geometry_v3\u001b[38;5;241m.\u001b[39mgetNeighborhoodActions(\u001b[38;5;28mself\u001b[39m\u001b[38;5;241m.\u001b[39mgame\u001b[38;5;241m.\u001b[39mLossMatrix, \u001b[38;5;28mself\u001b[39m\u001b[38;5;241m.\u001b[39mN, \u001b[38;5;28mself\u001b[39m\u001b[38;5;241m.\u001b[39mM, halfspace)\n\u001b[1;32m     69\u001b[0m Nplus_t \u001b[38;5;241m=\u001b[39m []\n",
      "File \u001b[0;32m~/Desktop/attack-detection/geometry_v3.py:61\u001b[0m, in \u001b[0;36mgetParetoOptimalActions\u001b[0;34m(LossMatrix, N, M, halfspace)\u001b[0m\n\u001b[1;32m     59\u001b[0m     coef \u001b[38;5;241m=\u001b[39m sign \u001b[38;5;241m*\u001b[39m (LossMatrix[ pair[\u001b[38;5;241m0\u001b[39m] ][j]\u001b[38;5;241m-\u001b[39mLossMatrix[  pair[\u001b[38;5;241m1\u001b[39m] ][j] ) \n\u001b[1;32m     60\u001b[0m     \u001b[38;5;28;01mif\u001b[39;00m coef \u001b[38;5;241m!=\u001b[39m \u001b[38;5;241m0\u001b[39m:\n\u001b[0;32m---> 61\u001b[0m         halfspaceExpr \u001b[38;5;241m+\u001b[39m\u001b[38;5;241m=\u001b[39m coef \u001b[38;5;241m*\u001b[39m \u001b[38;5;28mvars\u001b[39m[j]\n\u001b[1;32m     62\u001b[0m halfspaceConstStr \u001b[38;5;241m=\u001b[39m \u001b[38;5;124m\"\u001b[39m\u001b[38;5;124mch_\u001b[39m\u001b[38;5;132;01m{}\u001b[39;00m\u001b[38;5;124m_\u001b[39m\u001b[38;5;132;01m{}\u001b[39;00m\u001b[38;5;124m\"\u001b[39m\u001b[38;5;241m.\u001b[39mformat( pair[\u001b[38;5;241m0\u001b[39m] ,pair[\u001b[38;5;241m1\u001b[39m] )\n\u001b[1;32m     63\u001b[0m m\u001b[38;5;241m.\u001b[39maddConstr(halfspaceExpr \u001b[38;5;241m>\u001b[39m\u001b[38;5;241m=\u001b[39m \u001b[38;5;241m0.001\u001b[39m, halfspaceConstStr )\n",
      "File \u001b[0;32msrc/gurobipy/linexpr.pxi:473\u001b[0m, in \u001b[0;36mgurobipy.LinExpr.__iadd__\u001b[0;34m()\u001b[0m\n",
      "File \u001b[0;32msrc/gurobipy/linexpr.pxi:183\u001b[0m, in \u001b[0;36mgurobipy.LinExpr.add\u001b[0;34m()\u001b[0m\n",
      "\u001b[0;31mGurobiError\u001b[0m: Unsupported type (<class 'numpy.ndarray'>) for LinExpr addition argument"
     ]
    }
   ],
   "metadata": {}
  },
  {
   "cell_type": "code",
   "execution_count": 20,
   "source": [
    "\n",
    "game = games.apple_tasting(False, outcome_distribution)\n",
    "\n",
    "# alg = cpb.CPB(  game, horizon,)\n",
    "# result0 = evaluate_parallel(n_cores, n_folds, horizon, alg, game)\n",
    "# regret0 = np.array([ game.delta(i) for i in range(game.n_actions) ]).T @ np.mean(result0,0) \n",
    "# std0 = np.array([ game.delta(i) for i in range(game.n_actions) ]).T @ np.std(result0,0) \n",
    "# plt.plot(   regret0 , label = 'CPB', color = 'purple' )\n",
    "# plt.fill_between( range(horizon) ,  regret0    , regret0 + std0 , color = 'purple' , alpha = 0.2)\n",
    "\n",
    "alg = feedexp3.FeedExp3(  game, horizon, )\n",
    "result2 = evaluate_parallel(n_cores, n_folds, horizon, alg, game)\n",
    "regret2 = np.array([ game.delta(i) for i in range(game.n_actions) ]).T @ np.mean(result2,0) \n",
    "std2 = np.array([ game.delta(i) for i in range(game.n_actions) ]).T @ np.std(result2,0) \n",
    "plt.plot(   regret2  , label = 'Bianchi', color = 'orange' )\n",
    "plt.fill_between( range(horizon) ,  regret2    , regret2 + std2 , color = 'orange' , alpha = 0.2)\n",
    "\n",
    "alg = feedexp3_v3.FeedExp3(  game, horizon, )\n",
    "result3 = evaluate_parallel(n_cores, n_folds, horizon, alg, game)\n",
    "regret3 = np.array([ game.delta(i) for i in range(game.n_actions) ]).T @ np.mean(result3,0) \n",
    "std3 = np.array([ game.delta(i) for i in range(game.n_actions) ]).T @ np.std(result3,0) \n",
    "plt.plot(   regret3  , label = 'Piccolboni', color = 'blue' )\n",
    "plt.fill_between( range(horizon) ,  regret3    , regret3 + std3 , color = 'blue' , alpha = 0.2)\n",
    "\n",
    "# alg = bpm.BPM(  game, horizon,  [0.5,0.5], np.identity(2) )\n",
    "# result3 = evaluate_parallel(n_cores, n_folds, horizon, alg, game)\n",
    "# regret3 = np.array([ game.delta(i) for i in range(game.n_actions) ]).T @ np.mean(result3, 0) \n",
    "# std3 = np.array([ game.delta(i) for i in range(game.n_actions) ]).T @ np.std(result3, 0) \n",
    "# plt.plot(   regret3 , label = 'BPM-least', color = 'blue' )\n",
    "# plt.fill_between( range(horizon) ,  regret3 , regret3 + std3 , color = 'blue' , alpha = 0.2)\n",
    "\n",
    "plt.legend()\n"
   ],
   "outputs": [
    {
     "output_type": "stream",
     "name": "stdout",
     "text": [
      "nbCores: 16 nbFolds: 50 Horizon: 2000\n",
      "nbCores: 16 nbFolds: 50 Horizon: 2000\n"
     ]
    },
    {
     "output_type": "execute_result",
     "data": {
      "text/plain": [
       "<matplotlib.legend.Legend at 0x7f95fe5ca9a0>"
      ]
     },
     "metadata": {},
     "execution_count": 20
    },
    {
     "output_type": "display_data",
     "data": {
      "image/png": "[encoded data removed]",
      "text/plain": [
       "<Figure size 432x288 with 1 Axes>"
      ]
     },
     "metadata": {
      "needs_background": "light"
     }
    }
   ],
   "metadata": {}
  },
  {
   "cell_type": "code",
   "execution_count": 19,
   "source": [
    "game = games.bandit(False,outcome_distribution)\n",
    "\n",
    "alg = feedexp3.FeedExp3(  game, horizon,  )\n",
    "result2 = evaluate_parallel(n_cores, n_folds, horizon, alg, game)\n",
    "regret2 = np.array([ game.delta(i) for i in range(game.n_actions) ]).T @ np.mean(result2,0) \n",
    "std2 = np.array([ game.delta(i) for i in range(game.n_actions) ]).T @ np.std(result2,0) \n",
    "plt.plot(   regret2  , label = 'Bianchi', color = 'orange' )\n",
    "plt.fill_between( range(horizon) ,  regret2    , regret2 + std2 , color = 'orange' , alpha = 0.2)\n",
    "\n",
    "alg = feedexp3_v3.FeedExp3(  game, horizon, )\n",
    "result3 = evaluate_parallel(n_cores, n_folds, horizon, alg, game)\n",
    "regret3 = np.array([ game.delta(i) for i in range(game.n_actions) ]).T @ np.mean(result3,0) \n",
    "std3 = np.array([ game.delta(i) for i in range(game.n_actions) ]).T @ np.std(result3,0) \n",
    "plt.plot(   regret3  , label = 'Piccolboni', color = 'blue' )\n",
    "plt.fill_between( range(horizon) ,  regret3    , regret3 + std3 , color = 'blue' , alpha = 0.2)\n",
    "\n",
    "# alg = cpb.CPB(  game, horizon,)\n",
    "# result0 = evaluate_parallel(n_cores, n_folds, horizon, alg, game)\n",
    "# regret0 = np.array([ game.delta(i) for i in range(game.n_actions) ]).T @ np.mean(result0,0) \n",
    "# std0 = np.array([ game.delta(i) for i in range(game.n_actions) ]).T @ np.std(result0,0) \n",
    "# plt.plot(   regret0 , label = 'CPB', color = 'purple' )\n",
    "# plt.fill_between( range(horizon) ,  regret0    , regret0 + std0 , color = 'purple' , alpha = 0.2)\n",
    "\n",
    "# alg = bpm.BPM(  game, horizon,  [0.5,0.5], np.identity(2) )\n",
    "# result3 = evaluate_parallel(n_cores, n_folds, horizon, alg, game)\n",
    "# regret3 = np.array([ game.delta(i) for i in range(game.n_actions) ]).T @ np.mean(result3, 0) \n",
    "# std3 = np.array([ game.delta(i) for i in range(game.n_actions) ]).T @ np.std(result3, 0) \n",
    "# plt.plot(   regret3 , label = 'BPM-least', color = 'blue' )\n",
    "# plt.fill_between( range(horizon) ,  regret3 , regret3 + std3 , color = 'blue' , alpha = 0.2)\n",
    "\n",
    "\n",
    "plt.legend()\n"
   ],
   "outputs": [
    {
     "output_type": "stream",
     "name": "stdout",
     "text": [
      "nbCores: 16 nbFolds: 50 Horizon: 2000\n",
      "nbCores: 16 nbFolds: 50 Horizon: 2000\n"
     ]
    },
    {
     "output_type": "execute_result",
     "data": {
      "text/plain": [
       "<matplotlib.legend.Legend at 0x7f95fe6a0880>"
      ]
     },
     "metadata": {},
     "execution_count": 19
    },
    {
     "output_type": "display_data",
     "data": {
      "image/png": "[encoded data removed]",
      "text/plain": [
       "<Figure size 432x288 with 1 Axes>"
      ]
     },
     "metadata": {
      "needs_background": "light"
     }
    }
   ],
   "metadata": {}
  },
  {
   "cell_type": "code",
   "execution_count": 18,
   "source": [
    "game = games.label_efficient(outcome_distribution)\n",
    "\n",
    "# alg = random_algo.Random(  game, horizon, )\n",
    "# result0 = evaluate_parallel(n_cores, n_folds, horizon, alg, game)\n",
    "# regret0 = np.array([ game.delta(i) for i in range(game.n_actions) ]).T @ np.mean(result0,0) \n",
    "# std0 = np.array([ game.delta(i) for i in range(game.n_actions) ]).T @ np.std(result0,0) \n",
    "# plt.plot(   regret0 , label = 'Random', color = 'pink' )\n",
    "# plt.fill_between( range(horizon) ,  regret0    , regret0 + std0 , color = 'pink' , alpha = 0.2)\n",
    "\n",
    "alg = feedexp3.FeedExp3(  game, horizon, )\n",
    "result2 = evaluate_parallel(n_cores, n_folds, horizon, alg, game)\n",
    "regret2 = np.array([ game.delta(i) for i in range(game.n_actions) ]).T @ np.mean(result2,0) \n",
    "std2 = np.array([ game.delta(i) for i in range(game.n_actions) ]).T @ np.std(result2,0) \n",
    "plt.plot(   regret2  , label = 'Bianchi', color = 'orange' )\n",
    "plt.fill_between( range(horizon) ,  regret2    , regret2 + std2 , color = 'orange' , alpha = 0.2)\n",
    "\n",
    "alg = feedexp3_v3.FeedExp3(  game, horizon, )\n",
    "result3 = evaluate_parallel(n_cores, n_folds, horizon, alg, game)\n",
    "regret3 = np.array([ game.delta(i) for i in range(game.n_actions) ]).T @ np.mean(result3,0) \n",
    "std3 = np.array([ game.delta(i) for i in range(game.n_actions) ]).T @ np.std(result3,0) \n",
    "plt.plot(   regret3  , label = 'Piccolboni', color = 'blue' )\n",
    "plt.fill_between( range(horizon) ,  regret3    , regret3 + std3 , color = 'blue' , alpha = 0.2)\n",
    "\n",
    "# alg = cpb.CPB(  game, horizon,)\n",
    "# result0 = evaluate_parallel(n_cores, n_folds, horizon, alg, game)\n",
    "# regret0 = np.array([ game.delta(i) for i in range(game.n_actions) ]).T @ np.mean(result0,0) \n",
    "# std0 = np.array([ game.delta(i) for i in range(game.n_actions) ]).T @ np.std(result0,0) \n",
    "# plt.plot(   regret0 , label = 'CPB', color = 'purple' )\n",
    "# plt.fill_between( range(horizon) ,  regret0    , regret0 + std0 , color = 'purple' , alpha = 0.2)\n",
    "\n",
    "# alg = bpm.BPM(  game, horizon,  [0.5, 0.5 ], np.identity(2) )\n",
    "# result3 = evaluate_parallel(n_cores, n_folds, horizon, alg, game)\n",
    "# regret3 = np.array([ game.delta(i) for i in range(game.n_actions) ]).T @ np.mean(result3, 0) \n",
    "# std3 = np.array([ game.delta(i) for i in range(game.n_actions) ]).T @ np.std(result3, 0) \n",
    "# plt.plot(   regret3 , label = 'BPM-least', color = 'blue' )\n",
    "# plt.fill_between( range(horizon) ,  regret3 , regret3 + std3 , color = 'blue' , alpha = 0.2)\n",
    "\n",
    "plt.legend()"
   ],
   "outputs": [
    {
     "output_type": "stream",
     "name": "stdout",
     "text": [
      "nbCores: 16 nbFolds: 50 Horizon: 2000\n",
      "nbCores: 16 nbFolds: 50 Horizon: 2000\n"
     ]
    },
    {
     "output_type": "execute_result",
     "data": {
      "text/plain": [
       "<matplotlib.legend.Legend at 0x7f95fe6d5850>"
      ]
     },
     "metadata": {},
     "execution_count": 18
    },
    {
     "output_type": "display_data",
     "data": {
      "image/png": "[encoded data removed]",
      "text/plain": [
       "<Figure size 432x288 with 1 Axes>"
      ]
     },
     "metadata": {
      "needs_background": "light"
     }
    }
   ],
   "metadata": {}
  }
 ],
 "metadata": {
  "orig_nbformat": 4,
  "language_info": {
   "name": "python",
   "version": "3.9.7",
   "mimetype": "text/x-python",
   "codemirror_mode": {
    "name": "ipython",
    "version": 3
   },
   "pygments_lexer": "ipython3",
   "nbconvert_exporter": "python",
   "file_extension": ".py"
  },
  "kernelspec": {
   "name": "python3",
   "display_name": "Python 3.9.7 64-bit ('climate-ai': conda)"
  },
  "interpreter": {
   "hash": "0215ed8d73c40df5de54d647d65b604dcf02460a7de2b27ed9878602c67cf72c"
  }
 },
 "nbformat": 4,
 "nbformat_minor": 2
}