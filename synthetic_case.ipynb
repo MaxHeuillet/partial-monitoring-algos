{
 "cells": [
  {
   "cell_type": "code",
   "execution_count": 7,
   "source": [
    "from sklearn.linear_model import SGDClassifier\n",
    "import numpy as np\n",
    "import collections\n",
    "import matplotlib.pyplot as plt\n",
    "from sklearn.preprocessing import StandardScaler\n",
    "from sklearn.pipeline import make_pipeline\n",
    "from sklearn.datasets import make_classification\n",
    "from sklearn.model_selection import train_test_split\n",
    "from sklearn.metrics import confusion_matrix\n",
    "from scipy.special import logsumexp\n",
    "import torch\n",
    "import torch.nn as nn\n",
    "import torch.optim as optim\n",
    "from torchvision import datasets, transforms\n",
    "from torch.utils.data import DataLoader\n",
    "from torch.utils.data.sampler import SubsetRandomSampler\n",
    "import torch\n",
    "import torch.nn as nn\n",
    "import torch.optim as optim\n",
    "from torch.utils.data import DataLoader, TensorDataset\n",
    "from torch import Tensor\n",
    "import geometry\n",
    "import itertools\n",
    "from collections import defaultdict\n",
    "import collections\n",
    "import target\n",
    "import controler\n",
    "import utils\n",
    "from functools import reduce\n",
    "import linear_regression\n",
    "from multiprocessing import Pool\n",
    "from functools import partial\n",
    "import numpy as np\n",
    "import geometry\n",
    "import itertools \n",
    "from itertools import islice\n",
    "import games\n",
    "import feedexp3\n",
    "\n",
    "def runif_in_simplex(n):\n",
    "  ''' Return uniformly random vector in the n-simplex '''\n",
    "  k = np.random.exponential(scale=1.0, size=n)\n",
    "  return k / sum(k)\n",
    "\n",
    "class Evaluation:\n",
    "\n",
    "    def __init__(self, horizon, outcome_distribution ):\n",
    "\n",
    "        self.horizon = horizon\n",
    "        self.outcome_distribution = outcome_distribution\n",
    "\n",
    "    def get_outcomes(self, game, job_id):\n",
    "        np.random.seed(job_id)\n",
    "        # self.means = runif_in_simplex( self.game.n_outcomes )\n",
    "        outcomes = np.random.choice( game.n_outcomes , p=self.outcome_distribution, size= self.horizon) \n",
    "        return outcomes\n",
    "\n",
    "    def get_feedback(self, game, action, outcome):\n",
    "        return game.FeedbackMatrix[ action ][ outcome ]\n",
    "\n",
    "    def eval_policy_once(self, alg, game, jobid):\n",
    "\n",
    "        cumRegret = np.zeros( self.horizon )\n",
    "        cumSufferedLoss = 0\n",
    "        cumAllLosses = np.zeros( game.n_actions )\n",
    "\n",
    "        # generate outcomes obliviously\n",
    "        outcomes = self.get_outcomes(game, jobid)\n",
    "\n",
    "        for t in range(self.horizon):\n",
    "\n",
    "            # policy chooses one action\n",
    "            action = alg.get_action(t)\n",
    "\n",
    "            # Environment chooses one outcome\n",
    "            outcome = outcomes[t]\n",
    "            feedback =  self.get_feedback(game, action, outcome )\n",
    "\n",
    "            alg.update(game,  action, feedback)\n",
    "            # print('outcome', outcome, 'action',action, 'eta', alg.eta, 'gamma', alg.gamma, 'pbt',alg.pbt, 'pbt_hat', alg.pbt_hat)\n",
    "\n",
    "            # policy suffers loss and regret\n",
    "            cumAllLosses += game.LossMatrix[...,outcome]\n",
    "            cumSufferedLoss += game.LossMatrix[action,outcome]\n",
    "            cumRegret[t] = cumSufferedLoss - min(cumAllLosses)\n",
    "\n",
    "        return cumRegret\n",
    "\n",
    "def evaluate_parallel(nbCores, n_folds, horizon, alg, game):\n",
    "    print(\"nbCores:\", nbCores, \"nbFolds:\", n_folds, \"Horizon:\", horizon)\n",
    "    pool = Pool(processes = nbCores) \n",
    "    task = Evaluation(horizon, outcome_distribution)\n",
    "    return np.asarray(  pool.map( partial( task.eval_policy_once, alg, game ), range(n_folds) ) ) \n"
   ],
   "outputs": [],
   "metadata": {}
  },
  {
   "cell_type": "code",
   "execution_count": 8,
   "source": [
    "n_cores = 16\n",
    "n_folds = 25\n",
    "horizon = 10000\n",
    "\n",
    "outcome_distribution = [0.05, 0.95] "
   ],
   "outputs": [],
   "metadata": {}
  },
  {
   "cell_type": "code",
   "execution_count": 9,
   "source": [
    "game = games.apple_tasting(False)\n",
    "\n",
    "alg = feedexp3.FeedExp3(  game, horizon, 'Bianchi',)\n",
    "result1 = evaluate_parallel(n_cores, n_folds, horizon, alg, game)\n",
    "plt.plot(  np.mean( result1 , 0 ) , label = 'Bianchi', color = 'green' )\n",
    "\n",
    "alg = feedexp3.FeedExp3(  game, horizon, 'Piccolboni',)\n",
    "result2 = evaluate_parallel(n_cores, n_folds, horizon, alg, game)\n",
    "plt.plot(  np.mean( result2 , 0 ) , label = 'Piccolboni', color = 'orange' )\n",
    "\n",
    "plt.legend()\n",
    "# result = evaluate_parallel(n_cores, n_folds, horizon, feedexp3, game)\n",
    "\n",
    "# task = Evaluation(horizon, outcome_distribution)\n",
    "# result = task.eval_policy_once(feedexp3, game, 30)\n",
    "# plt.plot(result)\n",
    "\n",
    "# result =  eval_feedexp_parallel(task, n_cores, n_folds, horizon, True, 'Piccolboni' ) \n",
    "# plt.plot(  np.mean( result , 0 ) , label = 'Piccolboni', color = 'green' )\n",
    "\n",
    "# result =  eval_feedexp_parallel(task, n_cores, n_folds, horizon, True, 'Bianchi' ) \n",
    "# plt.plot(  np.mean( result , 0 ) , label = 'Bianchi', color = 'orange' )\n",
    "\n",
    "# plt.legend()"
   ],
   "outputs": [
    {
     "output_type": "stream",
     "name": "stdout",
     "text": [
      "nbCores: 16 nbFolds: 25 Horizon: 10000\n",
      "nbCores: 16 nbFolds: 25 Horizon: 10000\n"
     ]
    },
    {
     "output_type": "execute_result",
     "data": {
      "text/plain": [
       "<matplotlib.legend.Legend at 0x7f981c43d910>"
      ]
     },
     "metadata": {},
     "execution_count": 9
    },
    {
     "output_type": "display_data",
     "data": {
      "image/png": "[encoded data removed]",
      "text/plain": [
       "<Figure size 432x288 with 1 Axes>"
      ]
     },
     "metadata": {
      "needs_background": "light"
     }
    }
   ],
   "metadata": {}
  },
  {
   "cell_type": "code",
   "execution_count": 10,
   "source": [
    "\n",
    "\n",
    "game = games.bandit(False)\n",
    "\n",
    "alg = feedexp3.FeedExp3(  game, horizon, 'Bianchi',)\n",
    "result = evaluate_parallel(n_cores, n_folds, horizon, alg, game)\n",
    "plt.plot(  np.mean( result , 0 ) , label = 'Bianchi', color = 'green' )\n",
    "\n",
    "alg = feedexp3.FeedExp3(  game, horizon, 'Piccolboni',)\n",
    "result = evaluate_parallel(n_cores, n_folds, horizon, alg, game)\n",
    "plt.plot(  np.mean( result , 0 ) , label = 'Piccolboni', color = 'orange' )\n",
    "\n",
    "plt.legend()\n",
    "# task = Evaluation(horizon, outcome_distribution)\n",
    "# result = task.eval_policy_once(feedexp3, game, 30)\n",
    "# plt.plot(result)\n",
    "\n",
    "# result =  eval_feedexp_parallel(task, n_cores, n_folds, horizon, True, 'Piccolboni' ) \n",
    "\n",
    "\n",
    "# result =  eval_feedexp_parallel(task, n_cores, n_folds, horizon, True, 'Bianchi' ) \n",
    "# plt.plot(  np.mean( result , 0 ) , label = 'Bianchi', color = 'orange' )\n",
    "\n",
    "# plt.legend()"
   ],
   "outputs": [
    {
     "output_type": "stream",
     "name": "stdout",
     "text": [
      "nbCores: 16 nbFolds: 25 Horizon: 10000\n",
      "nbCores: 16 nbFolds: 25 Horizon: 10000\n"
     ]
    },
    {
     "output_type": "execute_result",
     "data": {
      "text/plain": [
       "<matplotlib.legend.Legend at 0x7f981c3acd00>"
      ]
     },
     "metadata": {},
     "execution_count": 10
    },
    {
     "output_type": "display_data",
     "data": {
      "image/png": "[encoded data removed]",
      "text/plain": [
       "<Figure size 432x288 with 1 Axes>"
      ]
     },
     "metadata": {
      "needs_background": "light"
     }
    }
   ],
   "metadata": {}
  },
  {
   "cell_type": "code",
   "execution_count": 11,
   "source": [
    "\n",
    "\n",
    "game = games.label_efficient()\n",
    "\n",
    "alg = feedexp3.FeedExp3(  game, horizon, 'Bianchi',)\n",
    "result1 = evaluate_parallel(n_cores, n_folds, horizon, alg, game)\n",
    "plt.plot(  np.mean( result1 , 0 ) , label = 'Bianchi', color = 'green' )\n",
    "\n",
    "alg = feedexp3.FeedExp3(  game, horizon, 'Piccolboni',)\n",
    "result2 = evaluate_parallel(n_cores, n_folds, horizon, alg, game)\n",
    "plt.plot(  np.mean( result2 , 0 ) , label = 'Piccolboni', color = 'orange' )\n",
    "\n",
    "plt.legend()\n",
    "\n",
    "# task = Evaluation(horizon, outcome_distribution)\n",
    "# result = task.eval_policy_once(feedexp3, game, 30)\n",
    "# plt.plot(result)\n",
    "\n",
    "# result =  eval_feedexp_parallel(task, n_cores, n_folds, horizon, True, 'Piccolboni' ) \n",
    "# plt.plot(  np.mean( result , 0 ) , label = 'Piccolboni', color = 'green' )\n",
    "\n",
    "# result =  eval_feedexp_parallel(task, n_cores, n_folds, horizon, True, 'Bianchi' ) \n",
    "# plt.plot(  np.mean( result , 0 ) , label = 'Bianchi', color = 'orange' )\n",
    "\n",
    "# plt.legend()"
   ],
   "outputs": [
    {
     "output_type": "stream",
     "name": "stdout",
     "text": [
      "nbCores: 16 nbFolds: 25 Horizon: 10000\n",
      "nbCores: 16 nbFolds: 25 Horizon: 10000\n"
     ]
    },
    {
     "output_type": "execute_result",
     "data": {
      "text/plain": [
       "<matplotlib.legend.Legend at 0x7f981c320ca0>"
      ]
     },
     "metadata": {},
     "execution_count": 11
    },
    {
     "output_type": "display_data",
     "data": {
      "image/png": "[encoded data removed]",
      "text/plain": [
       "<Figure size 432x288 with 1 Axes>"
      ]
     },
     "metadata": {
      "needs_background": "light"
     }
    }
   ],
   "metadata": {}
  },
  {
   "cell_type": "code",
   "execution_count": 12,
   "source": [
    "import ppl\n",
    "M = 2\n",
    "p = [ppl.Variable(j) for j in range(M)]\n",
    "    \n",
    "# declare polytope constraints\n",
    "cs = ppl.Constraint_System()\n",
    "    \n",
    "# probabilies constraints on p\n",
    "cs.insert( sum( p[j] for j in range(M)) == 1 )\n",
    "for j in range(M):\n",
    "    cs.insert(p[j] >= 0)\n",
    "\n",
    "cs.insert(p[0] - p[1] <= 0)   \n",
    "cs.insert(p[1] - p[0] <= 0)   \n",
    "\n",
    "poly = ppl.C_Polyhedron(cs)\n",
    "\n",
    "poly.minimized_generators()"
   ],
   "outputs": [
    {
     "output_type": "execute_result",
     "data": {
      "text/plain": [
       "Generator_System {point(1/2, 1/2)}"
      ]
     },
     "metadata": {},
     "execution_count": 12
    }
   ],
   "metadata": {}
  }
 ],
 "metadata": {
  "orig_nbformat": 4,
  "language_info": {
   "name": "python",
   "version": "3.9.7",
   "mimetype": "text/x-python",
   "codemirror_mode": {
    "name": "ipython",
    "version": 3
   },
   "pygments_lexer": "ipython3",
   "nbconvert_exporter": "python",
   "file_extension": ".py"
  },
  "kernelspec": {
   "name": "python3",
   "display_name": "Python 3.9.7 64-bit ('climate-ai': conda)"
  },
  "interpreter": {
   "hash": "0215ed8d73c40df5de54d647d65b604dcf02460a7de2b27ed9878602c67cf72c"
  }
 },
 "nbformat": 4,
 "nbformat_minor": 2
}